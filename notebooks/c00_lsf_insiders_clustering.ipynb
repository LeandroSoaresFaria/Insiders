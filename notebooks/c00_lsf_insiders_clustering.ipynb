{
 "cells": [
  {
   "cell_type": "markdown",
   "id": "6de96e07",
   "metadata": {},
   "source": [
    "# PA005: High Value Customer Identification (Insiders)"
   ]
  },
  {
   "cell_type": "markdown",
   "id": "4c7bf34c",
   "metadata": {},
   "source": [
    "## 0.0 Planejamento da Solução (IOT)"
   ]
  },
  {
   "cell_type": "markdown",
   "id": "105bad82",
   "metadata": {
    "ExecuteTime": {
     "end_time": "2021-08-31T12:53:41.767925Z",
     "start_time": "2021-08-31T12:53:41.764068Z"
    }
   },
   "source": [
    "### Input"
   ]
  },
  {
   "cell_type": "markdown",
   "id": "cacf3a53",
   "metadata": {},
   "source": []
  },
  {
   "cell_type": "markdown",
   "id": "0d3bb9f5",
   "metadata": {},
   "source": [
    "1. Business problem.\n",
    "\n",
    "     - Select the most valuable customers to integrate a loyalty program.\n",
    "    \n",
    "2. Dataset.\n",
    "\n",
    "     - Sales of an on-line e-commerce, during the period of one year."
   ]
  },
  {
   "cell_type": "markdown",
   "id": "de85b742",
   "metadata": {},
   "source": [
    "### Output"
   ]
  },
  {
   "cell_type": "markdown",
   "id": "3a17d5e4",
   "metadata": {},
   "source": [
    "1. The indication of the people who will be part of the Insiders program.\n",
    "\n",
    "    - List: client_id | is_insider |\n",
    "               10323   |   yes/1    |\n",
    "               32413   |    no/1    | \n",
    "               \n",
    "\n",
    "\n",
    "2. Report with answers to business questions.\n",
    "    \n",
    "    - Who are the people eligible to participate in the Insiders program?\n",
    "    - How many customers will be part of the group?\n",
    "    - What are the main characteristics of these customers?\n",
    "    - What is the percentage of revenue contribution, coming from Insiders?\n",
    "    - What is this group's revenue expectation for the coming months?\n",
    "    - What are the conditions for a person to be eligible for Insiders?\n",
    "    - What are the conditions for a person to be removed from Insiders?\n",
    "    - What is the guarantee that the Insiders program is better than the rest of the base?\n",
    "    - What actions can the marketing team take to increase revenue?"
   ]
  },
  {
   "cell_type": "markdown",
   "id": "bf047123",
   "metadata": {
    "ExecuteTime": {
     "end_time": "2021-08-31T12:54:19.465418Z",
     "start_time": "2021-08-31T12:54:19.461744Z"
    }
   },
   "source": [
    "### Task"
   ]
  },
  {
   "cell_type": "markdown",
   "id": "61a75cb7",
   "metadata": {},
   "source": [
    "\n",
    "\n",
    "\n",
    "1. Who are the people eligible to participate in the Insiders program? \n",
    "    - What is it to be eligible? What are the most 'value' customers?\n",
    "    \n",
    "    - Revenues:\n",
    "        - High average ticket.\n",
    "        - Low recency.\n",
    "        - High basket size\n",
    "        - Low probability of churn\n",
    "        - High LTV forecast.\n",
    "        - High purchase propensity.\n",
    "\n",
    "    - Cost :\n",
    "        - Low return rate\n",
    "\n",
    "    - Shopping experience:\n",
    "\n",
    "        - High average of ratings. \n",
    "\n",
    "\n",
    "2- How many customers will be part of the group?\n",
    "    \n",
    "3- What are the main characteristics of these customers?\n",
    "4- What is the percentage of revenue contribution, coming from Insiders?\n",
    "5- What is this group's revenue expectation for the coming months?\n",
    "6- What are the conditions for a person to be eligible for Insiders?\n",
    "7- What are the conditions for a person to be removed from Insiders?\n",
    "8- What is the guarantee that the Insiders program is better than the rest of the base?\n",
    "9- What actions can the marketing team take to increase revenue?\n",
    "\n",
    "\n",
    "Total number of customers.\n",
    "age\n",
    "% of Insiders group\n",
    "\n",
    "Write customer characteristics:\n",
    "age\n",
    "localization\n",
    "\n",
    "Write consumption characteristics\n",
    "Clustering Attributes\n",
    "\n",
    "total revenue of the year\n",
    "insider group billing\n",
    "\n",
    "Insiders Group LTV\n",
    "Cohort Analysis\n",
    "\n",
    "Define periodicity\n",
    "The person needs to be similar to a person in the group.\n",
    "\n",
    "Define periodicity\n",
    "The person needs to be very different from the central person in the group\n",
    "\n",
    "A/B test\n",
    "Bayesian A/B Test\n",
    "Hypothesis Test\n",
    "\n",
    "\n",
    "Discount\n",
    "Purchase preference\n",
    "Freight\n",
    "company visit"
   ]
  },
  {
   "cell_type": "markdown",
   "id": "dec69b56",
   "metadata": {},
   "source": [
    "## Benchmark de Soluções"
   ]
  },
  {
   "cell_type": "markdown",
   "id": "9ac9c73d",
   "metadata": {},
   "source": [
    "### Desk Research"
   ]
  },
  {
   "cell_type": "code",
   "execution_count": null,
   "id": "ade6fd07",
   "metadata": {},
   "outputs": [],
   "source": []
  }
 ],
 "metadata": {
  "kernelspec": {
   "display_name": "Python 3 (ipykernel)",
   "language": "python",
   "name": "python3"
  },
  "language_info": {
   "codemirror_mode": {
    "name": "ipython",
    "version": 3
   },
   "file_extension": ".py",
   "mimetype": "text/x-python",
   "name": "python",
   "nbconvert_exporter": "python",
   "pygments_lexer": "ipython3",
   "version": "3.8.10"
  },
  "notify_time": "5",
  "toc": {
   "base_numbering": 1,
   "nav_menu": {},
   "number_sections": false,
   "sideBar": true,
   "skip_h1_title": false,
   "title_cell": "Table of Contents",
   "title_sidebar": "Contents",
   "toc_cell": false,
   "toc_position": {},
   "toc_section_display": true,
   "toc_window_display": false
  }
 },
 "nbformat": 4,
 "nbformat_minor": 5
}
