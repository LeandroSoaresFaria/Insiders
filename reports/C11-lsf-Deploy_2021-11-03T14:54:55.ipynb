{
 "cells": [
  {
   "cell_type": "markdown",
   "id": "7a205c5f",
   "metadata": {
    "papermill": {
     "duration": 0.073933,
     "end_time": "2021-11-03T17:54:57.635993",
     "exception": false,
     "start_time": "2021-11-03T17:54:57.562060",
     "status": "completed"
    },
    "tags": []
   },
   "source": [
    "# PA005: High Value Customer Identification"
   ]
  },
  {
   "cell_type": "markdown",
   "id": "826ccf74",
   "metadata": {
    "ExecuteTime": {
     "end_time": "2021-09-25T00:30:39.760899Z",
     "start_time": "2021-09-25T00:30:39.757304Z"
    },
    "papermill": {
     "duration": 0.067644,
     "end_time": "2021-11-03T17:54:57.770224",
     "exception": false,
     "start_time": "2021-11-03T17:54:57.702580",
     "status": "completed"
    },
    "tags": []
   },
   "source": [
    "# 0.0 Imports"
   ]
  },
  {
   "cell_type": "code",
   "execution_count": 1,
   "id": "bibliographic-insulin",
   "metadata": {
    "ExecuteTime": {
     "end_time": "2021-11-03T12:58:01.634664Z",
     "start_time": "2021-11-03T12:57:54.668305Z"
    },
    "execution": {
     "iopub.execute_input": "2021-11-03T17:54:57.914406Z",
     "iopub.status.busy": "2021-11-03T17:54:57.913559Z",
     "iopub.status.idle": "2021-11-03T17:55:04.783180Z",
     "shell.execute_reply": "2021-11-03T17:55:04.784038Z"
    },
    "papermill": {
     "duration": 6.950823,
     "end_time": "2021-11-03T17:55:04.784416",
     "exception": false,
     "start_time": "2021-11-03T17:54:57.833593",
     "status": "completed"
    },
    "tags": []
   },
   "outputs": [],
   "source": [
    "import re\n",
    "import numpy   as np\n",
    "import pandas  as pd\n",
    "import seaborn as sns\n",
    "\n",
    "import umap.umap_ as umap\n",
    "\n",
    "from matplotlib import pyplot as plt\n",
    "\n",
    "\n",
    "from sklearn import cluster       as c\n",
    "from sklearn import metrics       as m\n",
    "from sklearn import ensemble      as en\n",
    "from sklearn import preprocessing as pp\n",
    "from sklearn import decomposition as dd\n",
    "from sklearn import manifold      as mn\n",
    "from sklearn import mixture       as mx\n",
    "\n",
    "from plotly import express as px"
   ]
  },
  {
   "cell_type": "markdown",
   "id": "19f2a6d6",
   "metadata": {
    "papermill": {
     "duration": 0.062087,
     "end_time": "2021-11-03T17:55:04.916585",
     "exception": false,
     "start_time": "2021-11-03T17:55:04.854498",
     "status": "completed"
    },
    "tags": []
   },
   "source": [
    "## 0.2. Load Dataset"
   ]
  },
  {
   "cell_type": "code",
   "execution_count": 2,
   "id": "2d64675e",
   "metadata": {
    "ExecuteTime": {
     "end_time": "2021-11-03T12:58:02.407671Z",
     "start_time": "2021-11-03T12:58:01.636496Z"
    },
    "execution": {
     "iopub.execute_input": "2021-11-03T17:55:05.057215Z",
     "iopub.status.busy": "2021-11-03T17:55:05.056167Z",
     "iopub.status.idle": "2021-11-03T17:55:05.798328Z",
     "shell.execute_reply": "2021-11-03T17:55:05.797831Z"
    },
    "papermill": {
     "duration": 0.814656,
     "end_time": "2021-11-03T17:55:05.798445",
     "exception": false,
     "start_time": "2021-11-03T17:55:04.983789",
     "status": "completed"
    },
    "tags": []
   },
   "outputs": [
    {
     "data": {
      "text/html": [
       "<div>\n",
       "<style scoped>\n",
       "    .dataframe tbody tr th:only-of-type {\n",
       "        vertical-align: middle;\n",
       "    }\n",
       "\n",
       "    .dataframe tbody tr th {\n",
       "        vertical-align: top;\n",
       "    }\n",
       "\n",
       "    .dataframe thead th {\n",
       "        text-align: right;\n",
       "    }\n",
       "</style>\n",
       "<table border=\"1\" class=\"dataframe\">\n",
       "  <thead>\n",
       "    <tr style=\"text-align: right;\">\n",
       "      <th></th>\n",
       "      <th>InvoiceNo</th>\n",
       "      <th>StockCode</th>\n",
       "      <th>Description</th>\n",
       "      <th>Quantity</th>\n",
       "      <th>InvoiceDate</th>\n",
       "      <th>UnitPrice</th>\n",
       "      <th>CustomerID</th>\n",
       "      <th>Country</th>\n",
       "    </tr>\n",
       "  </thead>\n",
       "  <tbody>\n",
       "    <tr>\n",
       "      <th>0</th>\n",
       "      <td>536365</td>\n",
       "      <td>85123A</td>\n",
       "      <td>WHITE HANGING HEART T-LIGHT HOLDER</td>\n",
       "      <td>6</td>\n",
       "      <td>29-Nov-16</td>\n",
       "      <td>2.55</td>\n",
       "      <td>17850.0</td>\n",
       "      <td>United Kingdom</td>\n",
       "    </tr>\n",
       "    <tr>\n",
       "      <th>1</th>\n",
       "      <td>536365</td>\n",
       "      <td>71053</td>\n",
       "      <td>WHITE METAL LANTERN</td>\n",
       "      <td>6</td>\n",
       "      <td>29-Nov-16</td>\n",
       "      <td>3.39</td>\n",
       "      <td>17850.0</td>\n",
       "      <td>United Kingdom</td>\n",
       "    </tr>\n",
       "    <tr>\n",
       "      <th>2</th>\n",
       "      <td>536365</td>\n",
       "      <td>84406B</td>\n",
       "      <td>CREAM CUPID HEARTS COAT HANGER</td>\n",
       "      <td>8</td>\n",
       "      <td>29-Nov-16</td>\n",
       "      <td>2.75</td>\n",
       "      <td>17850.0</td>\n",
       "      <td>United Kingdom</td>\n",
       "    </tr>\n",
       "    <tr>\n",
       "      <th>3</th>\n",
       "      <td>536365</td>\n",
       "      <td>84029G</td>\n",
       "      <td>KNITTED UNION FLAG HOT WATER BOTTLE</td>\n",
       "      <td>6</td>\n",
       "      <td>29-Nov-16</td>\n",
       "      <td>3.39</td>\n",
       "      <td>17850.0</td>\n",
       "      <td>United Kingdom</td>\n",
       "    </tr>\n",
       "    <tr>\n",
       "      <th>4</th>\n",
       "      <td>536365</td>\n",
       "      <td>84029E</td>\n",
       "      <td>RED WOOLLY HOTTIE WHITE HEART.</td>\n",
       "      <td>6</td>\n",
       "      <td>29-Nov-16</td>\n",
       "      <td>3.39</td>\n",
       "      <td>17850.0</td>\n",
       "      <td>United Kingdom</td>\n",
       "    </tr>\n",
       "  </tbody>\n",
       "</table>\n",
       "</div>"
      ],
      "text/plain": [
       "  InvoiceNo StockCode                          Description  Quantity  \\\n",
       "0    536365    85123A   WHITE HANGING HEART T-LIGHT HOLDER         6   \n",
       "1    536365     71053                  WHITE METAL LANTERN         6   \n",
       "2    536365    84406B       CREAM CUPID HEARTS COAT HANGER         8   \n",
       "3    536365    84029G  KNITTED UNION FLAG HOT WATER BOTTLE         6   \n",
       "4    536365    84029E       RED WOOLLY HOTTIE WHITE HEART.         6   \n",
       "\n",
       "  InvoiceDate  UnitPrice  CustomerID         Country  \n",
       "0   29-Nov-16       2.55     17850.0  United Kingdom  \n",
       "1   29-Nov-16       3.39     17850.0  United Kingdom  \n",
       "2   29-Nov-16       2.75     17850.0  United Kingdom  \n",
       "3   29-Nov-16       3.39     17850.0  United Kingdom  \n",
       "4   29-Nov-16       3.39     17850.0  United Kingdom  "
      ]
     },
     "execution_count": 2,
     "metadata": {},
     "output_type": "execute_result"
    }
   ],
   "source": [
    "# load data\n",
    "path = '/home/leandro/repos/insiders_clustering/'\n",
    "df_raw = pd.read_csv(path+'/data/raw/Ecommerce.csv')\n",
    "\n",
    "df_raw.head()"
   ]
  },
  {
   "cell_type": "markdown",
   "id": "d7c1c166",
   "metadata": {
    "papermill": {
     "duration": 0.064082,
     "end_time": "2021-11-03T17:55:05.930239",
     "exception": false,
     "start_time": "2021-11-03T17:55:05.866157",
     "status": "completed"
    },
    "tags": []
   },
   "source": [
    "# 1.0. Descrição dos dados"
   ]
  },
  {
   "cell_type": "code",
   "execution_count": 3,
   "id": "9cd3060b",
   "metadata": {
    "ExecuteTime": {
     "end_time": "2021-11-03T12:58:02.451731Z",
     "start_time": "2021-11-03T12:58:02.411633Z"
    },
    "execution": {
     "iopub.execute_input": "2021-11-03T17:55:06.066546Z",
     "iopub.status.busy": "2021-11-03T17:55:06.065710Z",
     "iopub.status.idle": "2021-11-03T17:55:06.106166Z",
     "shell.execute_reply": "2021-11-03T17:55:06.105388Z"
    },
    "papermill": {
     "duration": 0.111124,
     "end_time": "2021-11-03T17:55:06.106341",
     "exception": false,
     "start_time": "2021-11-03T17:55:05.995217",
     "status": "completed"
    },
    "tags": []
   },
   "outputs": [],
   "source": [
    "df1 = df_raw.copy()"
   ]
  },
  {
   "cell_type": "code",
   "execution_count": 4,
   "id": "1e39c86e",
   "metadata": {
    "ExecuteTime": {
     "end_time": "2021-11-03T12:58:02.517216Z",
     "start_time": "2021-11-03T12:58:02.453514Z"
    },
    "execution": {
     "iopub.execute_input": "2021-11-03T17:55:06.258897Z",
     "iopub.status.busy": "2021-11-03T17:55:06.258292Z",
     "iopub.status.idle": "2021-11-03T17:55:06.262953Z",
     "shell.execute_reply": "2021-11-03T17:55:06.263416Z"
    },
    "papermill": {
     "duration": 0.092785,
     "end_time": "2021-11-03T17:55:06.263554",
     "exception": false,
     "start_time": "2021-11-03T17:55:06.170769",
     "status": "completed"
    },
    "tags": []
   },
   "outputs": [
    {
     "data": {
      "text/html": [
       "<div>\n",
       "<style scoped>\n",
       "    .dataframe tbody tr th:only-of-type {\n",
       "        vertical-align: middle;\n",
       "    }\n",
       "\n",
       "    .dataframe tbody tr th {\n",
       "        vertical-align: top;\n",
       "    }\n",
       "\n",
       "    .dataframe thead th {\n",
       "        text-align: right;\n",
       "    }\n",
       "</style>\n",
       "<table border=\"1\" class=\"dataframe\">\n",
       "  <thead>\n",
       "    <tr style=\"text-align: right;\">\n",
       "      <th></th>\n",
       "      <th>InvoiceNo</th>\n",
       "      <th>StockCode</th>\n",
       "      <th>Description</th>\n",
       "      <th>Quantity</th>\n",
       "      <th>InvoiceDate</th>\n",
       "      <th>UnitPrice</th>\n",
       "      <th>CustomerID</th>\n",
       "      <th>Country</th>\n",
       "    </tr>\n",
       "  </thead>\n",
       "  <tbody>\n",
       "    <tr>\n",
       "      <th>0</th>\n",
       "      <td>536365</td>\n",
       "      <td>85123A</td>\n",
       "      <td>WHITE HANGING HEART T-LIGHT HOLDER</td>\n",
       "      <td>6</td>\n",
       "      <td>29-Nov-16</td>\n",
       "      <td>2.55</td>\n",
       "      <td>17850.0</td>\n",
       "      <td>United Kingdom</td>\n",
       "    </tr>\n",
       "    <tr>\n",
       "      <th>1</th>\n",
       "      <td>536365</td>\n",
       "      <td>71053</td>\n",
       "      <td>WHITE METAL LANTERN</td>\n",
       "      <td>6</td>\n",
       "      <td>29-Nov-16</td>\n",
       "      <td>3.39</td>\n",
       "      <td>17850.0</td>\n",
       "      <td>United Kingdom</td>\n",
       "    </tr>\n",
       "    <tr>\n",
       "      <th>2</th>\n",
       "      <td>536365</td>\n",
       "      <td>84406B</td>\n",
       "      <td>CREAM CUPID HEARTS COAT HANGER</td>\n",
       "      <td>8</td>\n",
       "      <td>29-Nov-16</td>\n",
       "      <td>2.75</td>\n",
       "      <td>17850.0</td>\n",
       "      <td>United Kingdom</td>\n",
       "    </tr>\n",
       "    <tr>\n",
       "      <th>3</th>\n",
       "      <td>536365</td>\n",
       "      <td>84029G</td>\n",
       "      <td>KNITTED UNION FLAG HOT WATER BOTTLE</td>\n",
       "      <td>6</td>\n",
       "      <td>29-Nov-16</td>\n",
       "      <td>3.39</td>\n",
       "      <td>17850.0</td>\n",
       "      <td>United Kingdom</td>\n",
       "    </tr>\n",
       "    <tr>\n",
       "      <th>4</th>\n",
       "      <td>536365</td>\n",
       "      <td>84029E</td>\n",
       "      <td>RED WOOLLY HOTTIE WHITE HEART.</td>\n",
       "      <td>6</td>\n",
       "      <td>29-Nov-16</td>\n",
       "      <td>3.39</td>\n",
       "      <td>17850.0</td>\n",
       "      <td>United Kingdom</td>\n",
       "    </tr>\n",
       "  </tbody>\n",
       "</table>\n",
       "</div>"
      ],
      "text/plain": [
       "  InvoiceNo StockCode                          Description  Quantity  \\\n",
       "0    536365    85123A   WHITE HANGING HEART T-LIGHT HOLDER         6   \n",
       "1    536365     71053                  WHITE METAL LANTERN         6   \n",
       "2    536365    84406B       CREAM CUPID HEARTS COAT HANGER         8   \n",
       "3    536365    84029G  KNITTED UNION FLAG HOT WATER BOTTLE         6   \n",
       "4    536365    84029E       RED WOOLLY HOTTIE WHITE HEART.         6   \n",
       "\n",
       "  InvoiceDate  UnitPrice  CustomerID         Country  \n",
       "0   29-Nov-16       2.55     17850.0  United Kingdom  \n",
       "1   29-Nov-16       3.39     17850.0  United Kingdom  \n",
       "2   29-Nov-16       2.75     17850.0  United Kingdom  \n",
       "3   29-Nov-16       3.39     17850.0  United Kingdom  \n",
       "4   29-Nov-16       3.39     17850.0  United Kingdom  "
      ]
     },
     "execution_count": 4,
     "metadata": {},
     "output_type": "execute_result"
    }
   ],
   "source": [
    "df1.head()"
   ]
  },
  {
   "cell_type": "markdown",
   "id": "983343d3",
   "metadata": {
    "papermill": {
     "duration": 0.066727,
     "end_time": "2021-11-03T17:55:06.399600",
     "exception": false,
     "start_time": "2021-11-03T17:55:06.332873",
     "status": "completed"
    },
    "tags": []
   },
   "source": [
    "## 1.1. Rename Columns"
   ]
  },
  {
   "cell_type": "code",
   "execution_count": 5,
   "id": "ea3e666b",
   "metadata": {
    "ExecuteTime": {
     "end_time": "2021-11-03T12:58:02.636296Z",
     "start_time": "2021-11-03T12:58:02.520284Z"
    },
    "execution": {
     "iopub.execute_input": "2021-11-03T17:55:06.546251Z",
     "iopub.status.busy": "2021-11-03T17:55:06.545206Z",
     "iopub.status.idle": "2021-11-03T17:55:06.583066Z",
     "shell.execute_reply": "2021-11-03T17:55:06.584375Z"
    },
    "papermill": {
     "duration": 0.1171,
     "end_time": "2021-11-03T17:55:06.584583",
     "exception": false,
     "start_time": "2021-11-03T17:55:06.467483",
     "status": "completed"
    },
    "tags": []
   },
   "outputs": [
    {
     "data": {
      "text/html": [
       "<div>\n",
       "<style scoped>\n",
       "    .dataframe tbody tr th:only-of-type {\n",
       "        vertical-align: middle;\n",
       "    }\n",
       "\n",
       "    .dataframe tbody tr th {\n",
       "        vertical-align: top;\n",
       "    }\n",
       "\n",
       "    .dataframe thead th {\n",
       "        text-align: right;\n",
       "    }\n",
       "</style>\n",
       "<table border=\"1\" class=\"dataframe\">\n",
       "  <thead>\n",
       "    <tr style=\"text-align: right;\">\n",
       "      <th></th>\n",
       "      <th>invoice_no</th>\n",
       "      <th>stock_code</th>\n",
       "      <th>description</th>\n",
       "      <th>quantity</th>\n",
       "      <th>invoice_date</th>\n",
       "      <th>unit_price</th>\n",
       "      <th>customer_id</th>\n",
       "      <th>country</th>\n",
       "    </tr>\n",
       "  </thead>\n",
       "  <tbody>\n",
       "    <tr>\n",
       "      <th>304741</th>\n",
       "      <td>563613</td>\n",
       "      <td>22832</td>\n",
       "      <td>BROCANTE SHELF WITH HOOKS</td>\n",
       "      <td>2</td>\n",
       "      <td>16-Aug-17</td>\n",
       "      <td>10.75</td>\n",
       "      <td>12688.0</td>\n",
       "      <td>Israel</td>\n",
       "    </tr>\n",
       "  </tbody>\n",
       "</table>\n",
       "</div>"
      ],
      "text/plain": [
       "       invoice_no stock_code                description  quantity  \\\n",
       "304741     563613      22832  BROCANTE SHELF WITH HOOKS         2   \n",
       "\n",
       "       invoice_date  unit_price  customer_id country  \n",
       "304741    16-Aug-17       10.75      12688.0  Israel  "
      ]
     },
     "execution_count": 5,
     "metadata": {},
     "output_type": "execute_result"
    }
   ],
   "source": [
    "# Rename Columns\n",
    "cols_new = ['invoice_no','stock_code','description','quantity','invoice_date','unit_price','customer_id','country']\n",
    "\n",
    "df1.columns = cols_new\n",
    "\n",
    "df1.sample()"
   ]
  },
  {
   "cell_type": "code",
   "execution_count": 6,
   "id": "9c862e0e",
   "metadata": {
    "ExecuteTime": {
     "end_time": "2021-11-03T12:58:02.710142Z",
     "start_time": "2021-11-03T12:58:02.638903Z"
    },
    "execution": {
     "iopub.execute_input": "2021-11-03T17:55:06.730224Z",
     "iopub.status.busy": "2021-11-03T17:55:06.728429Z",
     "iopub.status.idle": "2021-11-03T17:55:06.767759Z",
     "shell.execute_reply": "2021-11-03T17:55:06.766954Z"
    },
    "papermill": {
     "duration": 0.115653,
     "end_time": "2021-11-03T17:55:06.767880",
     "exception": false,
     "start_time": "2021-11-03T17:55:06.652227",
     "status": "completed"
    },
    "tags": []
   },
   "outputs": [
    {
     "data": {
      "text/html": [
       "<div>\n",
       "<style scoped>\n",
       "    .dataframe tbody tr th:only-of-type {\n",
       "        vertical-align: middle;\n",
       "    }\n",
       "\n",
       "    .dataframe tbody tr th {\n",
       "        vertical-align: top;\n",
       "    }\n",
       "\n",
       "    .dataframe thead th {\n",
       "        text-align: right;\n",
       "    }\n",
       "</style>\n",
       "<table border=\"1\" class=\"dataframe\">\n",
       "  <thead>\n",
       "    <tr style=\"text-align: right;\">\n",
       "      <th></th>\n",
       "      <th>InvoiceNo</th>\n",
       "      <th>StockCode</th>\n",
       "      <th>Description</th>\n",
       "      <th>Quantity</th>\n",
       "      <th>InvoiceDate</th>\n",
       "      <th>UnitPrice</th>\n",
       "      <th>CustomerID</th>\n",
       "      <th>Country</th>\n",
       "    </tr>\n",
       "  </thead>\n",
       "  <tbody>\n",
       "    <tr>\n",
       "      <th>448553</th>\n",
       "      <td>575063</td>\n",
       "      <td>20718</td>\n",
       "      <td>RED RETROSPOT SHOPPER BAG</td>\n",
       "      <td>2</td>\n",
       "      <td>6-Nov-17</td>\n",
       "      <td>1.25</td>\n",
       "      <td>16764.0</td>\n",
       "      <td>United Kingdom</td>\n",
       "    </tr>\n",
       "  </tbody>\n",
       "</table>\n",
       "</div>"
      ],
      "text/plain": [
       "       InvoiceNo StockCode                Description  Quantity InvoiceDate  \\\n",
       "448553    575063     20718  RED RETROSPOT SHOPPER BAG         2    6-Nov-17   \n",
       "\n",
       "        UnitPrice  CustomerID         Country  \n",
       "448553       1.25     16764.0  United Kingdom  "
      ]
     },
     "execution_count": 6,
     "metadata": {},
     "output_type": "execute_result"
    }
   ],
   "source": [
    "df_raw.sample()"
   ]
  },
  {
   "cell_type": "markdown",
   "id": "de813962",
   "metadata": {
    "papermill": {
     "duration": 0.068516,
     "end_time": "2021-11-03T17:55:06.905029",
     "exception": false,
     "start_time": "2021-11-03T17:55:06.836513",
     "status": "completed"
    },
    "tags": []
   },
   "source": [
    "## 1.2. Data Dimensions"
   ]
  },
  {
   "cell_type": "code",
   "execution_count": 7,
   "id": "04ddb36b",
   "metadata": {
    "ExecuteTime": {
     "end_time": "2021-11-03T12:58:02.829746Z",
     "start_time": "2021-11-03T12:58:02.712413Z"
    },
    "execution": {
     "iopub.execute_input": "2021-11-03T17:55:07.051190Z",
     "iopub.status.busy": "2021-11-03T17:55:07.050121Z",
     "iopub.status.idle": "2021-11-03T17:55:07.053573Z",
     "shell.execute_reply": "2021-11-03T17:55:07.054155Z"
    },
    "papermill": {
     "duration": 0.081433,
     "end_time": "2021-11-03T17:55:07.054327",
     "exception": false,
     "start_time": "2021-11-03T17:55:06.972894",
     "status": "completed"
    },
    "tags": []
   },
   "outputs": [
    {
     "name": "stdout",
     "output_type": "stream",
     "text": [
      "Number of rows: 541909\n",
      "Number of cols: 8\n"
     ]
    }
   ],
   "source": [
    "print( 'Number of rows: {}'.format ( df1.shape[0] ) )\n",
    "print( 'Number of cols: {}'.format ( df1.shape[1] ) )\n"
   ]
  },
  {
   "cell_type": "markdown",
   "id": "1b157e65",
   "metadata": {
    "papermill": {
     "duration": 0.069449,
     "end_time": "2021-11-03T17:55:07.194207",
     "exception": false,
     "start_time": "2021-11-03T17:55:07.124758",
     "status": "completed"
    },
    "tags": []
   },
   "source": [
    "## 1.3. Data Types"
   ]
  },
  {
   "cell_type": "code",
   "execution_count": 8,
   "id": "e55bae07",
   "metadata": {
    "ExecuteTime": {
     "end_time": "2021-11-03T12:58:02.900811Z",
     "start_time": "2021-11-03T12:58:02.834509Z"
    },
    "execution": {
     "iopub.execute_input": "2021-11-03T17:55:07.345011Z",
     "iopub.status.busy": "2021-11-03T17:55:07.344337Z",
     "iopub.status.idle": "2021-11-03T17:55:07.349612Z",
     "shell.execute_reply": "2021-11-03T17:55:07.350428Z"
    },
    "papermill": {
     "duration": 0.083861,
     "end_time": "2021-11-03T17:55:07.350735",
     "exception": false,
     "start_time": "2021-11-03T17:55:07.266874",
     "status": "completed"
    },
    "tags": []
   },
   "outputs": [
    {
     "data": {
      "text/plain": [
       "invoice_no       object\n",
       "stock_code       object\n",
       "description      object\n",
       "quantity          int64\n",
       "invoice_date     object\n",
       "unit_price      float64\n",
       "customer_id     float64\n",
       "country          object\n",
       "dtype: object"
      ]
     },
     "execution_count": 8,
     "metadata": {},
     "output_type": "execute_result"
    }
   ],
   "source": [
    "df1.dtypes"
   ]
  },
  {
   "cell_type": "markdown",
   "id": "f3adaa88",
   "metadata": {
    "papermill": {
     "duration": 0.07156,
     "end_time": "2021-11-03T17:55:07.495817",
     "exception": false,
     "start_time": "2021-11-03T17:55:07.424257",
     "status": "completed"
    },
    "tags": []
   },
   "source": [
    "## 1.4. Check NA"
   ]
  },
  {
   "cell_type": "code",
   "execution_count": 9,
   "id": "42cec6b4",
   "metadata": {
    "ExecuteTime": {
     "end_time": "2021-11-03T12:58:03.150046Z",
     "start_time": "2021-11-03T12:58:02.903921Z"
    },
    "execution": {
     "iopub.execute_input": "2021-11-03T17:55:07.643548Z",
     "iopub.status.busy": "2021-11-03T17:55:07.642853Z",
     "iopub.status.idle": "2021-11-03T17:55:07.799210Z",
     "shell.execute_reply": "2021-11-03T17:55:07.800216Z"
    },
    "papermill": {
     "duration": 0.233038,
     "end_time": "2021-11-03T17:55:07.800367",
     "exception": false,
     "start_time": "2021-11-03T17:55:07.567329",
     "status": "completed"
    },
    "tags": []
   },
   "outputs": [
    {
     "data": {
      "text/plain": [
       "invoice_no           0\n",
       "stock_code           0\n",
       "description       1454\n",
       "quantity             0\n",
       "invoice_date         0\n",
       "unit_price           0\n",
       "customer_id     135080\n",
       "country              0\n",
       "dtype: int64"
      ]
     },
     "execution_count": 9,
     "metadata": {},
     "output_type": "execute_result"
    }
   ],
   "source": [
    "df1.isna().sum()"
   ]
  },
  {
   "cell_type": "markdown",
   "id": "52a0e8f8",
   "metadata": {
    "papermill": {
     "duration": 0.069971,
     "end_time": "2021-11-03T17:55:07.939257",
     "exception": false,
     "start_time": "2021-11-03T17:55:07.869286",
     "status": "completed"
    },
    "tags": []
   },
   "source": [
    "## 1.5. Replace NA"
   ]
  },
  {
   "cell_type": "code",
   "execution_count": 10,
   "id": "7371c132",
   "metadata": {
    "ExecuteTime": {
     "end_time": "2021-11-03T12:58:03.222143Z",
     "start_time": "2021-11-03T12:58:03.151585Z"
    },
    "execution": {
     "iopub.execute_input": "2021-11-03T17:55:08.087879Z",
     "iopub.status.busy": "2021-11-03T17:55:08.087063Z",
     "iopub.status.idle": "2021-11-03T17:55:08.151570Z",
     "shell.execute_reply": "2021-11-03T17:55:08.150874Z"
    },
    "papermill": {
     "duration": 0.138651,
     "end_time": "2021-11-03T17:55:08.151744",
     "exception": false,
     "start_time": "2021-11-03T17:55:08.013093",
     "status": "completed"
    },
    "tags": []
   },
   "outputs": [],
   "source": [
    "df_missing = df1.loc[ df1['customer_id'].isna(), : ]\n",
    "df_not_missing = df1.loc[~df1['customer_id'].isna(), : ]"
   ]
  },
  {
   "cell_type": "code",
   "execution_count": 11,
   "id": "213b374f",
   "metadata": {
    "ExecuteTime": {
     "end_time": "2021-11-03T12:58:03.696295Z",
     "start_time": "2021-11-03T12:58:03.223919Z"
    },
    "execution": {
     "iopub.execute_input": "2021-11-03T17:55:08.305968Z",
     "iopub.status.busy": "2021-11-03T17:55:08.305030Z",
     "iopub.status.idle": "2021-11-03T17:55:08.721387Z",
     "shell.execute_reply": "2021-11-03T17:55:08.720774Z"
    },
    "papermill": {
     "duration": 0.496113,
     "end_time": "2021-11-03T17:55:08.721529",
     "exception": false,
     "start_time": "2021-11-03T17:55:08.225416",
     "status": "completed"
    },
    "tags": []
   },
   "outputs": [],
   "source": [
    "# Create Reference\n",
    "df_backup = pd.DataFrame( df_missing['invoice_no'].drop_duplicates())\n",
    "df_backup['customer_id'] = np.arange( 19000, 19000 +len( df_backup),1)\n",
    "\n",
    "# Merge original with reference dataframe\n",
    "df1 = pd.merge( df1, df_backup, on= 'invoice_no', how= 'left' )\n",
    "\n",
    "# Coalesce\n",
    "df1[ 'customer_id'] = df1['customer_id_x'].combine_first( df1[ 'customer_id_y' ] )\n",
    "\n",
    "# Drop extra columns\n",
    "\n",
    "df1 = df1.drop( columns = ['customer_id_x', 'customer_id_y'], axis = 1)\n"
   ]
  },
  {
   "cell_type": "code",
   "execution_count": 12,
   "id": "9a365e10",
   "metadata": {
    "ExecuteTime": {
     "end_time": "2021-11-03T12:58:03.861231Z",
     "start_time": "2021-11-03T12:58:03.698354Z"
    },
    "execution": {
     "iopub.execute_input": "2021-11-03T17:55:09.014115Z",
     "iopub.status.busy": "2021-11-03T17:55:09.012392Z",
     "iopub.status.idle": "2021-11-03T17:55:09.034137Z",
     "shell.execute_reply": "2021-11-03T17:55:09.032622Z"
    },
    "papermill": {
     "duration": 0.240236,
     "end_time": "2021-11-03T17:55:09.034289",
     "exception": false,
     "start_time": "2021-11-03T17:55:08.794053",
     "status": "completed"
    },
    "tags": []
   },
   "outputs": [
    {
     "data": {
      "text/plain": [
       "invoice_no         0\n",
       "stock_code         0\n",
       "description     1454\n",
       "quantity           0\n",
       "invoice_date       0\n",
       "unit_price         0\n",
       "country            0\n",
       "customer_id        0\n",
       "dtype: int64"
      ]
     },
     "execution_count": 12,
     "metadata": {},
     "output_type": "execute_result"
    }
   ],
   "source": [
    "df1.isna().sum()"
   ]
  },
  {
   "cell_type": "markdown",
   "id": "5a548499",
   "metadata": {
    "papermill": {
     "duration": 0.068968,
     "end_time": "2021-11-03T17:55:09.175113",
     "exception": false,
     "start_time": "2021-11-03T17:55:09.106145",
     "status": "completed"
    },
    "tags": []
   },
   "source": [
    "## 1.6. Change Dtypes"
   ]
  },
  {
   "cell_type": "code",
   "execution_count": 13,
   "id": "80a01e4e",
   "metadata": {
    "ExecuteTime": {
     "end_time": "2021-11-03T12:58:04.088421Z",
     "start_time": "2021-11-03T12:58:03.862902Z"
    },
    "execution": {
     "iopub.execute_input": "2021-11-03T17:55:09.354305Z",
     "iopub.status.busy": "2021-11-03T17:55:09.352840Z",
     "iopub.status.idle": "2021-11-03T17:55:09.455099Z",
     "shell.execute_reply": "2021-11-03T17:55:09.455919Z"
    },
    "papermill": {
     "duration": 0.210463,
     "end_time": "2021-11-03T17:55:09.456183",
     "exception": false,
     "start_time": "2021-11-03T17:55:09.245720",
     "status": "completed"
    },
    "scrolled": true,
    "tags": []
   },
   "outputs": [
    {
     "data": {
      "text/html": [
       "<div>\n",
       "<style scoped>\n",
       "    .dataframe tbody tr th:only-of-type {\n",
       "        vertical-align: middle;\n",
       "    }\n",
       "\n",
       "    .dataframe tbody tr th {\n",
       "        vertical-align: top;\n",
       "    }\n",
       "\n",
       "    .dataframe thead th {\n",
       "        text-align: right;\n",
       "    }\n",
       "</style>\n",
       "<table border=\"1\" class=\"dataframe\">\n",
       "  <thead>\n",
       "    <tr style=\"text-align: right;\">\n",
       "      <th></th>\n",
       "      <th>invoice_no</th>\n",
       "      <th>stock_code</th>\n",
       "      <th>description</th>\n",
       "      <th>quantity</th>\n",
       "      <th>invoice_date</th>\n",
       "      <th>unit_price</th>\n",
       "      <th>country</th>\n",
       "      <th>customer_id</th>\n",
       "    </tr>\n",
       "  </thead>\n",
       "  <tbody>\n",
       "    <tr>\n",
       "      <th>0</th>\n",
       "      <td>536365</td>\n",
       "      <td>85123A</td>\n",
       "      <td>WHITE HANGING HEART T-LIGHT HOLDER</td>\n",
       "      <td>6</td>\n",
       "      <td>2016-11-29</td>\n",
       "      <td>2.55</td>\n",
       "      <td>United Kingdom</td>\n",
       "      <td>17850</td>\n",
       "    </tr>\n",
       "    <tr>\n",
       "      <th>1</th>\n",
       "      <td>536365</td>\n",
       "      <td>71053</td>\n",
       "      <td>WHITE METAL LANTERN</td>\n",
       "      <td>6</td>\n",
       "      <td>2016-11-29</td>\n",
       "      <td>3.39</td>\n",
       "      <td>United Kingdom</td>\n",
       "      <td>17850</td>\n",
       "    </tr>\n",
       "    <tr>\n",
       "      <th>2</th>\n",
       "      <td>536365</td>\n",
       "      <td>84406B</td>\n",
       "      <td>CREAM CUPID HEARTS COAT HANGER</td>\n",
       "      <td>8</td>\n",
       "      <td>2016-11-29</td>\n",
       "      <td>2.75</td>\n",
       "      <td>United Kingdom</td>\n",
       "      <td>17850</td>\n",
       "    </tr>\n",
       "    <tr>\n",
       "      <th>3</th>\n",
       "      <td>536365</td>\n",
       "      <td>84029G</td>\n",
       "      <td>KNITTED UNION FLAG HOT WATER BOTTLE</td>\n",
       "      <td>6</td>\n",
       "      <td>2016-11-29</td>\n",
       "      <td>3.39</td>\n",
       "      <td>United Kingdom</td>\n",
       "      <td>17850</td>\n",
       "    </tr>\n",
       "    <tr>\n",
       "      <th>4</th>\n",
       "      <td>536365</td>\n",
       "      <td>84029E</td>\n",
       "      <td>RED WOOLLY HOTTIE WHITE HEART.</td>\n",
       "      <td>6</td>\n",
       "      <td>2016-11-29</td>\n",
       "      <td>3.39</td>\n",
       "      <td>United Kingdom</td>\n",
       "      <td>17850</td>\n",
       "    </tr>\n",
       "  </tbody>\n",
       "</table>\n",
       "</div>"
      ],
      "text/plain": [
       "  invoice_no stock_code                          description  quantity  \\\n",
       "0     536365     85123A   WHITE HANGING HEART T-LIGHT HOLDER         6   \n",
       "1     536365      71053                  WHITE METAL LANTERN         6   \n",
       "2     536365     84406B       CREAM CUPID HEARTS COAT HANGER         8   \n",
       "3     536365     84029G  KNITTED UNION FLAG HOT WATER BOTTLE         6   \n",
       "4     536365     84029E       RED WOOLLY HOTTIE WHITE HEART.         6   \n",
       "\n",
       "  invoice_date  unit_price         country  customer_id  \n",
       "0   2016-11-29        2.55  United Kingdom        17850  \n",
       "1   2016-11-29        3.39  United Kingdom        17850  \n",
       "2   2016-11-29        2.75  United Kingdom        17850  \n",
       "3   2016-11-29        3.39  United Kingdom        17850  \n",
       "4   2016-11-29        3.39  United Kingdom        17850  "
      ]
     },
     "execution_count": 13,
     "metadata": {},
     "output_type": "execute_result"
    }
   ],
   "source": [
    "# Invoice Date\n",
    "\n",
    "df1['invoice_date'] = pd.to_datetime( df1['invoice_date'], format = '%d-%b-%y')\n",
    "\n",
    "# Customer Id\n",
    "\n",
    "df1['customer_id'] = df1['customer_id'].astype(int)\n",
    "\n",
    "df1.head()"
   ]
  },
  {
   "cell_type": "code",
   "execution_count": 14,
   "id": "7052e51d",
   "metadata": {
    "ExecuteTime": {
     "end_time": "2021-11-03T12:58:04.097004Z",
     "start_time": "2021-11-03T12:58:04.090205Z"
    },
    "execution": {
     "iopub.execute_input": "2021-11-03T17:55:09.610433Z",
     "iopub.status.busy": "2021-11-03T17:55:09.609709Z",
     "iopub.status.idle": "2021-11-03T17:55:09.615079Z",
     "shell.execute_reply": "2021-11-03T17:55:09.615933Z"
    },
    "papermill": {
     "duration": 0.08577,
     "end_time": "2021-11-03T17:55:09.616184",
     "exception": false,
     "start_time": "2021-11-03T17:55:09.530414",
     "status": "completed"
    },
    "tags": []
   },
   "outputs": [
    {
     "data": {
      "text/plain": [
       "invoice_no              object\n",
       "stock_code              object\n",
       "description             object\n",
       "quantity                 int64\n",
       "invoice_date    datetime64[ns]\n",
       "unit_price             float64\n",
       "country                 object\n",
       "customer_id              int64\n",
       "dtype: object"
      ]
     },
     "execution_count": 14,
     "metadata": {},
     "output_type": "execute_result"
    }
   ],
   "source": [
    "df1.dtypes"
   ]
  },
  {
   "cell_type": "markdown",
   "id": "02ce9a0d",
   "metadata": {
    "papermill": {
     "duration": 0.072555,
     "end_time": "2021-11-03T17:55:09.760809",
     "exception": false,
     "start_time": "2021-11-03T17:55:09.688254",
     "status": "completed"
    },
    "tags": []
   },
   "source": [
    "## 1.7. Descriptive Statistics"
   ]
  },
  {
   "cell_type": "code",
   "execution_count": 15,
   "id": "8670247c",
   "metadata": {
    "ExecuteTime": {
     "end_time": "2021-11-03T12:58:04.219900Z",
     "start_time": "2021-11-03T12:58:04.099329Z"
    },
    "execution": {
     "iopub.execute_input": "2021-11-03T17:55:09.911317Z",
     "iopub.status.busy": "2021-11-03T17:55:09.910606Z",
     "iopub.status.idle": "2021-11-03T17:55:09.954214Z",
     "shell.execute_reply": "2021-11-03T17:55:09.953595Z"
    },
    "papermill": {
     "duration": 0.12218,
     "end_time": "2021-11-03T17:55:09.954358",
     "exception": false,
     "start_time": "2021-11-03T17:55:09.832178",
     "status": "completed"
    },
    "tags": []
   },
   "outputs": [],
   "source": [
    "num_attributes = df1.select_dtypes( include = [ 'int64', 'float64'] )\n",
    "cat_attributes = df1.select_dtypes( exclude = [ 'int64', 'float64','datetime64[ns]'])"
   ]
  },
  {
   "cell_type": "markdown",
   "id": "54a6f5d9",
   "metadata": {
    "papermill": {
     "duration": 0.070817,
     "end_time": "2021-11-03T17:55:10.101333",
     "exception": false,
     "start_time": "2021-11-03T17:55:10.030516",
     "status": "completed"
    },
    "tags": []
   },
   "source": [
    "### 1.7.1 Numerical Attributes"
   ]
  },
  {
   "cell_type": "code",
   "execution_count": 16,
   "id": "1b5116c4",
   "metadata": {
    "ExecuteTime": {
     "end_time": "2021-11-03T12:58:04.389889Z",
     "start_time": "2021-11-03T12:58:04.222851Z"
    },
    "execution": {
     "iopub.execute_input": "2021-11-03T17:55:10.261453Z",
     "iopub.status.busy": "2021-11-03T17:55:10.259725Z",
     "iopub.status.idle": "2021-11-03T17:55:10.399314Z",
     "shell.execute_reply": "2021-11-03T17:55:10.400127Z"
    },
    "papermill": {
     "duration": 0.222718,
     "end_time": "2021-11-03T17:55:10.400363",
     "exception": false,
     "start_time": "2021-11-03T17:55:10.177645",
     "status": "completed"
    },
    "scrolled": true,
    "tags": []
   },
   "outputs": [
    {
     "data": {
      "text/html": [
       "<div>\n",
       "<style scoped>\n",
       "    .dataframe tbody tr th:only-of-type {\n",
       "        vertical-align: middle;\n",
       "    }\n",
       "\n",
       "    .dataframe tbody tr th {\n",
       "        vertical-align: top;\n",
       "    }\n",
       "\n",
       "    .dataframe thead th {\n",
       "        text-align: right;\n",
       "    }\n",
       "</style>\n",
       "<table border=\"1\" class=\"dataframe\">\n",
       "  <thead>\n",
       "    <tr style=\"text-align: right;\">\n",
       "      <th></th>\n",
       "      <th>attributes</th>\n",
       "      <th>min</th>\n",
       "      <th>max</th>\n",
       "      <th>range</th>\n",
       "      <th>mean</th>\n",
       "      <th>mediana</th>\n",
       "      <th>std</th>\n",
       "      <th>skew</th>\n",
       "      <th>kurtosis</th>\n",
       "    </tr>\n",
       "  </thead>\n",
       "  <tbody>\n",
       "    <tr>\n",
       "      <th>0</th>\n",
       "      <td>quantity</td>\n",
       "      <td>-80995.00</td>\n",
       "      <td>80995.0</td>\n",
       "      <td>161990.00</td>\n",
       "      <td>9.552250</td>\n",
       "      <td>3.00</td>\n",
       "      <td>218.080957</td>\n",
       "      <td>-0.264076</td>\n",
       "      <td>119769.160031</td>\n",
       "    </tr>\n",
       "    <tr>\n",
       "      <th>1</th>\n",
       "      <td>unit_price</td>\n",
       "      <td>-11062.06</td>\n",
       "      <td>38970.0</td>\n",
       "      <td>50032.06</td>\n",
       "      <td>4.611121</td>\n",
       "      <td>2.08</td>\n",
       "      <td>96.759763</td>\n",
       "      <td>186.506973</td>\n",
       "      <td>59005.719804</td>\n",
       "    </tr>\n",
       "    <tr>\n",
       "      <th>2</th>\n",
       "      <td>customer_id</td>\n",
       "      <td>12346.00</td>\n",
       "      <td>22709.0</td>\n",
       "      <td>10363.00</td>\n",
       "      <td>16688.840453</td>\n",
       "      <td>16249.00</td>\n",
       "      <td>2911.408666</td>\n",
       "      <td>0.487449</td>\n",
       "      <td>-0.804287</td>\n",
       "    </tr>\n",
       "  </tbody>\n",
       "</table>\n",
       "</div>"
      ],
      "text/plain": [
       "    attributes       min      max      range          mean   mediana  \\\n",
       "0     quantity -80995.00  80995.0  161990.00      9.552250      3.00   \n",
       "1   unit_price -11062.06  38970.0   50032.06      4.611121      2.08   \n",
       "2  customer_id  12346.00  22709.0   10363.00  16688.840453  16249.00   \n",
       "\n",
       "           std        skew       kurtosis  \n",
       "0   218.080957   -0.264076  119769.160031  \n",
       "1    96.759763  186.506973   59005.719804  \n",
       "2  2911.408666    0.487449      -0.804287  "
      ]
     },
     "execution_count": 16,
     "metadata": {},
     "output_type": "execute_result"
    }
   ],
   "source": [
    "# Central tendency - mean, median\n",
    "ct1 = pd.DataFrame(num_attributes.apply( np.mean )).T\n",
    "ct2 = pd.DataFrame(num_attributes.apply( np.median )).T\n",
    "\n",
    "# Dispersion - desvio padrão, mínimo, máximo, range, skew, kurtosis\n",
    "d1 = pd.DataFrame( num_attributes.apply( np.std ) ).T\n",
    "d2 = pd.DataFrame( num_attributes.apply( np.min ) ).T\n",
    "d3 = pd.DataFrame( num_attributes.apply( np.max ) ).T\n",
    "d4 = pd.DataFrame( num_attributes.apply( lambda x: x.max( ) - x.min() ) ).T\n",
    "d5 = pd.DataFrame( num_attributes.apply( lambda x: x.skew( ) ) ).T\n",
    "d6 = pd.DataFrame( num_attributes.apply( lambda x: x.kurtosis() ) ).T\n",
    "\n",
    "\n",
    "# Concatenate\n",
    "\n",
    "m1 = pd.concat( [d2, d3, d4, ct1, ct2, d1, d5, d6] ).T.reset_index()\n",
    "m1.columns = ['attributes', 'min', 'max', 'range', 'mean', 'mediana', 'std', 'skew', 'kurtosis']\n",
    "m1"
   ]
  },
  {
   "cell_type": "markdown",
   "id": "03cb8eb6",
   "metadata": {
    "heading_collapsed": true,
    "papermill": {
     "duration": 0.071294,
     "end_time": "2021-11-03T17:55:10.548327",
     "exception": false,
     "start_time": "2021-11-03T17:55:10.477033",
     "status": "completed"
    },
    "tags": []
   },
   "source": [
    "### 1.7.2 Categorical Attributes"
   ]
  },
  {
   "cell_type": "code",
   "execution_count": 17,
   "id": "d9928262",
   "metadata": {
    "ExecuteTime": {
     "end_time": "2021-11-03T12:58:04.403383Z",
     "start_time": "2021-11-03T12:58:04.392161Z"
    },
    "execution": {
     "iopub.execute_input": "2021-11-03T17:55:10.714195Z",
     "iopub.status.busy": "2021-11-03T17:55:10.713301Z",
     "iopub.status.idle": "2021-11-03T17:55:10.717000Z",
     "shell.execute_reply": "2021-11-03T17:55:10.717639Z"
    },
    "hidden": true,
    "papermill": {
     "duration": 0.097837,
     "end_time": "2021-11-03T17:55:10.717847",
     "exception": false,
     "start_time": "2021-11-03T17:55:10.620010",
     "status": "completed"
    },
    "tags": []
   },
   "outputs": [
    {
     "data": {
      "text/html": [
       "<div>\n",
       "<style scoped>\n",
       "    .dataframe tbody tr th:only-of-type {\n",
       "        vertical-align: middle;\n",
       "    }\n",
       "\n",
       "    .dataframe tbody tr th {\n",
       "        vertical-align: top;\n",
       "    }\n",
       "\n",
       "    .dataframe thead th {\n",
       "        text-align: right;\n",
       "    }\n",
       "</style>\n",
       "<table border=\"1\" class=\"dataframe\">\n",
       "  <thead>\n",
       "    <tr style=\"text-align: right;\">\n",
       "      <th></th>\n",
       "      <th>invoice_no</th>\n",
       "      <th>stock_code</th>\n",
       "      <th>description</th>\n",
       "      <th>country</th>\n",
       "    </tr>\n",
       "  </thead>\n",
       "  <tbody>\n",
       "    <tr>\n",
       "      <th>0</th>\n",
       "      <td>536365</td>\n",
       "      <td>85123A</td>\n",
       "      <td>WHITE HANGING HEART T-LIGHT HOLDER</td>\n",
       "      <td>United Kingdom</td>\n",
       "    </tr>\n",
       "    <tr>\n",
       "      <th>1</th>\n",
       "      <td>536365</td>\n",
       "      <td>71053</td>\n",
       "      <td>WHITE METAL LANTERN</td>\n",
       "      <td>United Kingdom</td>\n",
       "    </tr>\n",
       "    <tr>\n",
       "      <th>2</th>\n",
       "      <td>536365</td>\n",
       "      <td>84406B</td>\n",
       "      <td>CREAM CUPID HEARTS COAT HANGER</td>\n",
       "      <td>United Kingdom</td>\n",
       "    </tr>\n",
       "    <tr>\n",
       "      <th>3</th>\n",
       "      <td>536365</td>\n",
       "      <td>84029G</td>\n",
       "      <td>KNITTED UNION FLAG HOT WATER BOTTLE</td>\n",
       "      <td>United Kingdom</td>\n",
       "    </tr>\n",
       "    <tr>\n",
       "      <th>4</th>\n",
       "      <td>536365</td>\n",
       "      <td>84029E</td>\n",
       "      <td>RED WOOLLY HOTTIE WHITE HEART.</td>\n",
       "      <td>United Kingdom</td>\n",
       "    </tr>\n",
       "  </tbody>\n",
       "</table>\n",
       "</div>"
      ],
      "text/plain": [
       "  invoice_no stock_code                          description         country\n",
       "0     536365     85123A   WHITE HANGING HEART T-LIGHT HOLDER  United Kingdom\n",
       "1     536365      71053                  WHITE METAL LANTERN  United Kingdom\n",
       "2     536365     84406B       CREAM CUPID HEARTS COAT HANGER  United Kingdom\n",
       "3     536365     84029G  KNITTED UNION FLAG HOT WATER BOTTLE  United Kingdom\n",
       "4     536365     84029E       RED WOOLLY HOTTIE WHITE HEART.  United Kingdom"
      ]
     },
     "execution_count": 17,
     "metadata": {},
     "output_type": "execute_result"
    }
   ],
   "source": [
    "cat_attributes.head()"
   ]
  },
  {
   "cell_type": "markdown",
   "id": "c7b502d2",
   "metadata": {
    "papermill": {
     "duration": 0.0716,
     "end_time": "2021-11-03T17:55:10.869490",
     "exception": false,
     "start_time": "2021-11-03T17:55:10.797890",
     "status": "completed"
    },
    "tags": []
   },
   "source": [
    "###  Invoice_No"
   ]
  },
  {
   "cell_type": "code",
   "execution_count": 18,
   "id": "77f095e3",
   "metadata": {
    "ExecuteTime": {
     "end_time": "2021-11-03T12:58:05.520400Z",
     "start_time": "2021-11-03T12:58:04.405245Z"
    },
    "execution": {
     "iopub.execute_input": "2021-11-03T17:55:11.029030Z",
     "iopub.status.busy": "2021-11-03T17:55:11.028308Z",
     "iopub.status.idle": "2021-11-03T17:55:12.022717Z",
     "shell.execute_reply": "2021-11-03T17:55:12.022122Z"
    },
    "papermill": {
     "duration": 1.073095,
     "end_time": "2021-11-03T17:55:12.022826",
     "exception": false,
     "start_time": "2021-11-03T17:55:10.949731",
     "status": "completed"
    },
    "tags": []
   },
   "outputs": [
    {
     "name": "stdout",
     "output_type": "stream",
     "text": [
      "Total number of invoices: 9291\n",
      "Total number of negative quantity: 9288\n"
     ]
    }
   ],
   "source": [
    "# Problema: Temos invoice com letras e números\n",
    "\n",
    "# Identificação >\n",
    "\n",
    "df_letter_invoices = df1.loc[df1['invoice_no'].apply( lambda x : bool( re.search( '[^0-9]+', x ) ) ), :]\n",
    "\n",
    "print('Total number of invoices: {}'.format( len( df_letter_invoices )))  \n",
    "print('Total number of negative quantity: {}'.format( len(df_letter_invoices[ df_letter_invoices['quantity'] < 0])))"
   ]
  },
  {
   "cell_type": "markdown",
   "id": "f3c89c3b",
   "metadata": {
    "papermill": {
     "duration": 0.074886,
     "end_time": "2021-11-03T17:55:12.170873",
     "exception": false,
     "start_time": "2021-11-03T17:55:12.095987",
     "status": "completed"
    },
    "tags": []
   },
   "source": [
    "### Stock Code"
   ]
  },
  {
   "cell_type": "code",
   "execution_count": 19,
   "id": "9406a884",
   "metadata": {
    "ExecuteTime": {
     "end_time": "2021-11-03T12:58:06.576033Z",
     "start_time": "2021-11-03T12:58:05.522312Z"
    },
    "execution": {
     "iopub.execute_input": "2021-11-03T17:55:12.330232Z",
     "iopub.status.busy": "2021-11-03T17:55:12.328909Z",
     "iopub.status.idle": "2021-11-03T17:55:13.320363Z",
     "shell.execute_reply": "2021-11-03T17:55:13.321169Z"
    },
    "papermill": {
     "duration": 1.076801,
     "end_time": "2021-11-03T17:55:13.321397",
     "exception": false,
     "start_time": "2021-11-03T17:55:12.244596",
     "status": "completed"
    },
    "tags": []
   },
   "outputs": [
    {
     "data": {
      "text/plain": [
       "array(['POST', 'D', 'DOT', 'M', 'S', 'AMAZONFEE', 'm', 'DCGSSBOY',\n",
       "       'DCGSSGIRL', 'PADS', 'B', 'CRUK'], dtype=object)"
      ]
     },
     "execution_count": 19,
     "metadata": {},
     "output_type": "execute_result"
    }
   ],
   "source": [
    "# Check stock codes only characters\n",
    "df1.loc[df1['stock_code'].apply( lambda x : bool( re.search( '^[a-zA-Z]+$', x ) ) ) ,'stock_code'].unique()\n",
    "\n",
    "# Ação:\n",
    "## 1. Remove stock_code in ['POST', 'D', 'M', 'PADS', 'DOT', 'CRUK']\n"
   ]
  },
  {
   "cell_type": "markdown",
   "id": "49ba9b5e",
   "metadata": {
    "papermill": {
     "duration": 0.111201,
     "end_time": "2021-11-03T17:55:13.518365",
     "exception": false,
     "start_time": "2021-11-03T17:55:13.407164",
     "status": "completed"
    },
    "tags": []
   },
   "source": [
    "### Description"
   ]
  },
  {
   "cell_type": "code",
   "execution_count": 20,
   "id": "360c5707",
   "metadata": {
    "ExecuteTime": {
     "end_time": "2021-11-03T12:58:06.593938Z",
     "start_time": "2021-11-03T12:58:06.578868Z"
    },
    "execution": {
     "iopub.execute_input": "2021-11-03T17:55:13.679003Z",
     "iopub.status.busy": "2021-11-03T17:55:13.678462Z",
     "iopub.status.idle": "2021-11-03T17:55:13.684675Z",
     "shell.execute_reply": "2021-11-03T17:55:13.684011Z"
    },
    "papermill": {
     "duration": 0.093509,
     "end_time": "2021-11-03T17:55:13.684814",
     "exception": false,
     "start_time": "2021-11-03T17:55:13.591305",
     "status": "completed"
    },
    "tags": []
   },
   "outputs": [
    {
     "data": {
      "text/html": [
       "<div>\n",
       "<style scoped>\n",
       "    .dataframe tbody tr th:only-of-type {\n",
       "        vertical-align: middle;\n",
       "    }\n",
       "\n",
       "    .dataframe tbody tr th {\n",
       "        vertical-align: top;\n",
       "    }\n",
       "\n",
       "    .dataframe thead th {\n",
       "        text-align: right;\n",
       "    }\n",
       "</style>\n",
       "<table border=\"1\" class=\"dataframe\">\n",
       "  <thead>\n",
       "    <tr style=\"text-align: right;\">\n",
       "      <th></th>\n",
       "      <th>invoice_no</th>\n",
       "      <th>stock_code</th>\n",
       "      <th>description</th>\n",
       "      <th>quantity</th>\n",
       "      <th>invoice_date</th>\n",
       "      <th>unit_price</th>\n",
       "      <th>country</th>\n",
       "      <th>customer_id</th>\n",
       "    </tr>\n",
       "  </thead>\n",
       "  <tbody>\n",
       "    <tr>\n",
       "      <th>0</th>\n",
       "      <td>536365</td>\n",
       "      <td>85123A</td>\n",
       "      <td>WHITE HANGING HEART T-LIGHT HOLDER</td>\n",
       "      <td>6</td>\n",
       "      <td>2016-11-29</td>\n",
       "      <td>2.55</td>\n",
       "      <td>United Kingdom</td>\n",
       "      <td>17850</td>\n",
       "    </tr>\n",
       "    <tr>\n",
       "      <th>1</th>\n",
       "      <td>536365</td>\n",
       "      <td>71053</td>\n",
       "      <td>WHITE METAL LANTERN</td>\n",
       "      <td>6</td>\n",
       "      <td>2016-11-29</td>\n",
       "      <td>3.39</td>\n",
       "      <td>United Kingdom</td>\n",
       "      <td>17850</td>\n",
       "    </tr>\n",
       "    <tr>\n",
       "      <th>2</th>\n",
       "      <td>536365</td>\n",
       "      <td>84406B</td>\n",
       "      <td>CREAM CUPID HEARTS COAT HANGER</td>\n",
       "      <td>8</td>\n",
       "      <td>2016-11-29</td>\n",
       "      <td>2.75</td>\n",
       "      <td>United Kingdom</td>\n",
       "      <td>17850</td>\n",
       "    </tr>\n",
       "    <tr>\n",
       "      <th>3</th>\n",
       "      <td>536365</td>\n",
       "      <td>84029G</td>\n",
       "      <td>KNITTED UNION FLAG HOT WATER BOTTLE</td>\n",
       "      <td>6</td>\n",
       "      <td>2016-11-29</td>\n",
       "      <td>3.39</td>\n",
       "      <td>United Kingdom</td>\n",
       "      <td>17850</td>\n",
       "    </tr>\n",
       "    <tr>\n",
       "      <th>4</th>\n",
       "      <td>536365</td>\n",
       "      <td>84029E</td>\n",
       "      <td>RED WOOLLY HOTTIE WHITE HEART.</td>\n",
       "      <td>6</td>\n",
       "      <td>2016-11-29</td>\n",
       "      <td>3.39</td>\n",
       "      <td>United Kingdom</td>\n",
       "      <td>17850</td>\n",
       "    </tr>\n",
       "  </tbody>\n",
       "</table>\n",
       "</div>"
      ],
      "text/plain": [
       "  invoice_no stock_code                          description  quantity  \\\n",
       "0     536365     85123A   WHITE HANGING HEART T-LIGHT HOLDER         6   \n",
       "1     536365      71053                  WHITE METAL LANTERN         6   \n",
       "2     536365     84406B       CREAM CUPID HEARTS COAT HANGER         8   \n",
       "3     536365     84029G  KNITTED UNION FLAG HOT WATER BOTTLE         6   \n",
       "4     536365     84029E       RED WOOLLY HOTTIE WHITE HEART.         6   \n",
       "\n",
       "  invoice_date  unit_price         country  customer_id  \n",
       "0   2016-11-29        2.55  United Kingdom        17850  \n",
       "1   2016-11-29        3.39  United Kingdom        17850  \n",
       "2   2016-11-29        2.75  United Kingdom        17850  \n",
       "3   2016-11-29        3.39  United Kingdom        17850  \n",
       "4   2016-11-29        3.39  United Kingdom        17850  "
      ]
     },
     "execution_count": 20,
     "metadata": {},
     "output_type": "execute_result"
    }
   ],
   "source": [
    "df1.head()\n",
    "\n",
    "#  Ação: Delete Description"
   ]
  },
  {
   "cell_type": "markdown",
   "id": "e6f7ae93",
   "metadata": {
    "papermill": {
     "duration": 0.075742,
     "end_time": "2021-11-03T17:55:13.840461",
     "exception": false,
     "start_time": "2021-11-03T17:55:13.764719",
     "status": "completed"
    },
    "tags": []
   },
   "source": [
    "### Country"
   ]
  },
  {
   "cell_type": "code",
   "execution_count": 21,
   "id": "8ae56214",
   "metadata": {
    "ExecuteTime": {
     "end_time": "2021-11-03T12:58:06.747830Z",
     "start_time": "2021-11-03T12:58:06.595458Z"
    },
    "execution": {
     "iopub.execute_input": "2021-11-03T17:55:14.028805Z",
     "iopub.status.busy": "2021-11-03T17:55:14.027773Z",
     "iopub.status.idle": "2021-11-03T17:55:14.050520Z",
     "shell.execute_reply": "2021-11-03T17:55:14.049893Z"
    },
    "papermill": {
     "duration": 0.135408,
     "end_time": "2021-11-03T17:55:14.050635",
     "exception": false,
     "start_time": "2021-11-03T17:55:13.915227",
     "status": "completed"
    },
    "tags": []
   },
   "outputs": [
    {
     "data": {
      "text/plain": [
       "array(['United Kingdom', 'France', 'Australia', 'Netherlands', 'Germany',\n",
       "       'Norway', 'EIRE', 'Switzerland', 'Spain', 'Poland', 'Portugal',\n",
       "       'Italy', 'Belgium', 'Lithuania', 'Japan', 'Iceland',\n",
       "       'Channel Islands', 'Denmark', 'Cyprus', 'Sweden', 'Austria',\n",
       "       'Israel', 'Finland', 'Bahrain', 'Greece', 'Hong Kong', 'Singapore',\n",
       "       'Lebanon', 'United Arab Emirates', 'Saudi Arabia',\n",
       "       'Czech Republic', 'Canada', 'Unspecified', 'Brazil', 'USA',\n",
       "       'European Community', 'Malta', 'RSA'], dtype=object)"
      ]
     },
     "execution_count": 21,
     "metadata": {},
     "output_type": "execute_result"
    }
   ],
   "source": [
    "df1['country'].unique()"
   ]
  },
  {
   "cell_type": "code",
   "execution_count": 22,
   "id": "6cee0c54",
   "metadata": {
    "ExecuteTime": {
     "end_time": "2021-11-03T12:58:06.838475Z",
     "start_time": "2021-11-03T12:58:06.751100Z"
    },
    "execution": {
     "iopub.execute_input": "2021-11-03T17:55:14.259498Z",
     "iopub.status.busy": "2021-11-03T17:55:14.258434Z",
     "iopub.status.idle": "2021-11-03T17:55:14.264276Z",
     "shell.execute_reply": "2021-11-03T17:55:14.263559Z"
    },
    "papermill": {
     "duration": 0.135492,
     "end_time": "2021-11-03T17:55:14.264441",
     "exception": false,
     "start_time": "2021-11-03T17:55:14.128949",
     "status": "completed"
    },
    "tags": []
   },
   "outputs": [
    {
     "data": {
      "text/plain": [
       "United Kingdom    0.914320\n",
       "Germany           0.017521\n",
       "France            0.015790\n",
       "EIRE              0.015124\n",
       "Spain             0.004674\n",
       "Name: country, dtype: float64"
      ]
     },
     "execution_count": 22,
     "metadata": {},
     "output_type": "execute_result"
    }
   ],
   "source": [
    "df1['country'].value_counts( normalize = True).head()"
   ]
  },
  {
   "cell_type": "code",
   "execution_count": 23,
   "id": "6b868511",
   "metadata": {
    "ExecuteTime": {
     "end_time": "2021-11-03T12:58:07.003666Z",
     "start_time": "2021-11-03T12:58:06.843148Z"
    },
    "execution": {
     "iopub.execute_input": "2021-11-03T17:55:14.428060Z",
     "iopub.status.busy": "2021-11-03T17:55:14.427513Z",
     "iopub.status.idle": "2021-11-03T17:55:14.525179Z",
     "shell.execute_reply": "2021-11-03T17:55:14.523773Z"
    },
    "papermill": {
     "duration": 0.179403,
     "end_time": "2021-11-03T17:55:14.525407",
     "exception": false,
     "start_time": "2021-11-03T17:55:14.346004",
     "status": "completed"
    },
    "tags": []
   },
   "outputs": [
    {
     "data": {
      "text/html": [
       "<div>\n",
       "<style scoped>\n",
       "    .dataframe tbody tr th:only-of-type {\n",
       "        vertical-align: middle;\n",
       "    }\n",
       "\n",
       "    .dataframe tbody tr th {\n",
       "        vertical-align: top;\n",
       "    }\n",
       "\n",
       "    .dataframe thead th {\n",
       "        text-align: right;\n",
       "    }\n",
       "</style>\n",
       "<table border=\"1\" class=\"dataframe\">\n",
       "  <thead>\n",
       "    <tr style=\"text-align: right;\">\n",
       "      <th></th>\n",
       "      <th>country</th>\n",
       "      <th>customer_id</th>\n",
       "    </tr>\n",
       "  </thead>\n",
       "  <tbody>\n",
       "    <tr>\n",
       "      <th>36</th>\n",
       "      <td>United Kingdom</td>\n",
       "      <td>7587</td>\n",
       "    </tr>\n",
       "    <tr>\n",
       "      <th>14</th>\n",
       "      <td>Germany</td>\n",
       "      <td>95</td>\n",
       "    </tr>\n",
       "    <tr>\n",
       "      <th>13</th>\n",
       "      <td>France</td>\n",
       "      <td>90</td>\n",
       "    </tr>\n",
       "    <tr>\n",
       "      <th>10</th>\n",
       "      <td>EIRE</td>\n",
       "      <td>44</td>\n",
       "    </tr>\n",
       "    <tr>\n",
       "      <th>31</th>\n",
       "      <td>Spain</td>\n",
       "      <td>31</td>\n",
       "    </tr>\n",
       "  </tbody>\n",
       "</table>\n",
       "</div>"
      ],
      "text/plain": [
       "           country  customer_id\n",
       "36  United Kingdom         7587\n",
       "14         Germany           95\n",
       "13          France           90\n",
       "10            EIRE           44\n",
       "31           Spain           31"
      ]
     },
     "execution_count": 23,
     "metadata": {},
     "output_type": "execute_result"
    }
   ],
   "source": [
    "df1[['customer_id','country']].drop_duplicates().groupby( 'country').count().reset_index().sort_values( 'customer_id', ascending = False).head()"
   ]
  },
  {
   "cell_type": "markdown",
   "id": "385c9cce",
   "metadata": {
    "papermill": {
     "duration": 0.074611,
     "end_time": "2021-11-03T17:55:14.680982",
     "exception": false,
     "start_time": "2021-11-03T17:55:14.606371",
     "status": "completed"
    },
    "tags": []
   },
   "source": [
    "# 2.0. Filtragem de Variáveis"
   ]
  },
  {
   "cell_type": "code",
   "execution_count": 24,
   "id": "92f8b5da",
   "metadata": {
    "ExecuteTime": {
     "end_time": "2021-11-03T12:58:07.028549Z",
     "start_time": "2021-11-03T12:58:07.006438Z"
    },
    "execution": {
     "iopub.execute_input": "2021-11-03T17:55:14.840980Z",
     "iopub.status.busy": "2021-11-03T17:55:14.840422Z",
     "iopub.status.idle": "2021-11-03T17:55:14.861535Z",
     "shell.execute_reply": "2021-11-03T17:55:14.862405Z"
    },
    "papermill": {
     "duration": 0.103757,
     "end_time": "2021-11-03T17:55:14.862659",
     "exception": false,
     "start_time": "2021-11-03T17:55:14.758902",
     "status": "completed"
    },
    "tags": []
   },
   "outputs": [],
   "source": [
    "df2 = df1.copy()"
   ]
  },
  {
   "cell_type": "code",
   "execution_count": 25,
   "id": "a926ec03",
   "metadata": {
    "ExecuteTime": {
     "end_time": "2021-11-03T12:58:07.089883Z",
     "start_time": "2021-11-03T12:58:07.030348Z"
    },
    "execution": {
     "iopub.execute_input": "2021-11-03T17:55:15.033417Z",
     "iopub.status.busy": "2021-11-03T17:55:15.032501Z",
     "iopub.status.idle": "2021-11-03T17:55:15.036070Z",
     "shell.execute_reply": "2021-11-03T17:55:15.036681Z"
    },
    "papermill": {
     "duration": 0.091289,
     "end_time": "2021-11-03T17:55:15.036853",
     "exception": false,
     "start_time": "2021-11-03T17:55:14.945564",
     "status": "completed"
    },
    "tags": []
   },
   "outputs": [
    {
     "data": {
      "text/plain": [
       "invoice_no              object\n",
       "stock_code              object\n",
       "description             object\n",
       "quantity                 int64\n",
       "invoice_date    datetime64[ns]\n",
       "unit_price             float64\n",
       "country                 object\n",
       "customer_id              int64\n",
       "dtype: object"
      ]
     },
     "execution_count": 25,
     "metadata": {},
     "output_type": "execute_result"
    }
   ],
   "source": [
    "df2.dtypes"
   ]
  },
  {
   "cell_type": "code",
   "execution_count": 26,
   "id": "8c676b9a",
   "metadata": {
    "ExecuteTime": {
     "end_time": "2021-11-03T12:58:07.589649Z",
     "start_time": "2021-11-03T12:58:07.092747Z"
    },
    "execution": {
     "iopub.execute_input": "2021-11-03T17:55:15.203055Z",
     "iopub.status.busy": "2021-11-03T17:55:15.202363Z",
     "iopub.status.idle": "2021-11-03T17:55:15.606856Z",
     "shell.execute_reply": "2021-11-03T17:55:15.606375Z"
    },
    "papermill": {
     "duration": 0.488647,
     "end_time": "2021-11-03T17:55:15.606972",
     "exception": false,
     "start_time": "2021-11-03T17:55:15.118325",
     "status": "completed"
    },
    "tags": []
   },
   "outputs": [],
   "source": [
    " # === Numerical attributes ====\n",
    "df2 = df2.loc[df2['unit_price'] >= 0.04, :]\n",
    "\n",
    "# === Categorical attributes ====\n",
    "df2 = df2[~df2['stock_code'].isin( ['POST', 'D', 'DOT', 'M', 'S', 'AMAZONFEE', 'm', 'DCGSSBOY',\n",
    "       'DCGSSGIRL', 'PADS', 'B', 'CRUK'], )]\n",
    "\n",
    "# description\n",
    "df2 = df2.drop( columns='description', axis=1 )\n",
    "\n",
    "# map \n",
    "df2 = df2[~df2['country'].isin( ['European Community', 'Unspecified' ] ) ]\n",
    "\n",
    "\n",
    "# bad users\n",
    "df2 = df2[~df2['customer_id'].isin( [16446] )]\n",
    "\n",
    "# quantity\n",
    "df2_returns = df2.loc[df1['quantity'] < 0, :]\n",
    "df2_purchases = df2.loc[df1['quantity'] >= 0, :]\n",
    "\n",
    "\n",
    "\n"
   ]
  },
  {
   "cell_type": "markdown",
   "id": "cb5e37dd",
   "metadata": {
    "papermill": {
     "duration": 0.076441,
     "end_time": "2021-11-03T17:55:15.760693",
     "exception": false,
     "start_time": "2021-11-03T17:55:15.684252",
     "status": "completed"
    },
    "tags": []
   },
   "source": [
    "# 3.0. Feature Engineering"
   ]
  },
  {
   "cell_type": "code",
   "execution_count": 27,
   "id": "16ca5569",
   "metadata": {
    "ExecuteTime": {
     "end_time": "2021-11-03T12:58:07.622900Z",
     "start_time": "2021-11-03T12:58:07.591806Z"
    },
    "execution": {
     "iopub.execute_input": "2021-11-03T17:55:15.940562Z",
     "iopub.status.busy": "2021-11-03T17:55:15.938506Z",
     "iopub.status.idle": "2021-11-03T17:55:15.950128Z",
     "shell.execute_reply": "2021-11-03T17:55:15.949281Z"
    },
    "papermill": {
     "duration": 0.112479,
     "end_time": "2021-11-03T17:55:15.950307",
     "exception": false,
     "start_time": "2021-11-03T17:55:15.837828",
     "status": "completed"
    },
    "tags": []
   },
   "outputs": [],
   "source": [
    "df3 = df2.copy()"
   ]
  },
  {
   "cell_type": "markdown",
   "id": "cc09a4a0",
   "metadata": {
    "papermill": {
     "duration": 0.076841,
     "end_time": "2021-11-03T17:55:16.107984",
     "exception": false,
     "start_time": "2021-11-03T17:55:16.031143",
     "status": "completed"
    },
    "tags": []
   },
   "source": [
    "## 3.1. Feature Creation"
   ]
  },
  {
   "cell_type": "code",
   "execution_count": 28,
   "id": "4c290e8e",
   "metadata": {
    "ExecuteTime": {
     "end_time": "2021-11-03T12:58:07.777772Z",
     "start_time": "2021-11-03T12:58:07.625371Z"
    },
    "execution": {
     "iopub.execute_input": "2021-11-03T17:55:16.279338Z",
     "iopub.status.busy": "2021-11-03T17:55:16.278224Z",
     "iopub.status.idle": "2021-11-03T17:55:16.307649Z",
     "shell.execute_reply": "2021-11-03T17:55:16.308392Z"
    },
    "papermill": {
     "duration": 0.120379,
     "end_time": "2021-11-03T17:55:16.308607",
     "exception": false,
     "start_time": "2021-11-03T17:55:16.188228",
     "status": "completed"
    },
    "scrolled": true,
    "tags": []
   },
   "outputs": [],
   "source": [
    "# Data Reference\n",
    "\n",
    "df_ref = df3.drop( ['invoice_no', 'stock_code', 'quantity', 'invoice_date', 'unit_price', 'country'], axis=1 ).drop_duplicates( ignore_index=True )"
   ]
  },
  {
   "cell_type": "markdown",
   "id": "8e61371e",
   "metadata": {
    "papermill": {
     "duration": 0.082349,
     "end_time": "2021-11-03T17:55:16.471950",
     "exception": false,
     "start_time": "2021-11-03T17:55:16.389601",
     "status": "completed"
    },
    "tags": []
   },
   "source": [
    "### 3.1.1 Gross Revenue"
   ]
  },
  {
   "cell_type": "code",
   "execution_count": 29,
   "id": "e86f14f0",
   "metadata": {
    "ExecuteTime": {
     "end_time": "2021-11-03T12:58:07.862848Z",
     "start_time": "2021-11-03T12:58:07.780368Z"
    },
    "execution": {
     "iopub.execute_input": "2021-11-03T17:55:16.637668Z",
     "iopub.status.busy": "2021-11-03T17:55:16.637123Z",
     "iopub.status.idle": "2021-11-03T17:55:16.692888Z",
     "shell.execute_reply": "2021-11-03T17:55:16.693566Z"
    },
    "papermill": {
     "duration": 0.141188,
     "end_time": "2021-11-03T17:55:16.693798",
     "exception": false,
     "start_time": "2021-11-03T17:55:16.552610",
     "status": "completed"
    },
    "tags": []
   },
   "outputs": [
    {
     "name": "stderr",
     "output_type": "stream",
     "text": [
      "/home/leandro/.pyenv/versions/pa005insiderscluestering/lib/python3.8/site-packages/pandas/core/indexing.py:1667: SettingWithCopyWarning: \n",
      "A value is trying to be set on a copy of a slice from a DataFrame.\n",
      "Try using .loc[row_indexer,col_indexer] = value instead\n",
      "\n",
      "See the caveats in the documentation: https://pandas.pydata.org/pandas-docs/stable/user_guide/indexing.html#returning-a-view-versus-a-copy\n",
      "  self.obj[key] = value\n"
     ]
    },
    {
     "data": {
      "text/plain": [
       "customer_id       0\n",
       "gross_revenue    91\n",
       "dtype: int64"
      ]
     },
     "execution_count": 29,
     "metadata": {},
     "output_type": "execute_result"
    }
   ],
   "source": [
    "# Gross Revenue ( Faturamento ) quantity * price\n",
    "df2_purchases.loc[:, 'gross_revenue'] = df2_purchases.loc[:, 'quantity'] * df2_purchases.loc[:, 'unit_price']\n",
    "\n",
    "# Monetary\n",
    "df_monetary = df2_purchases.loc[:, ['customer_id', 'gross_revenue']].groupby( 'customer_id' ).sum().reset_index()\n",
    "df_ref = pd.merge( df_ref, df_monetary, on='customer_id', how='left' )\n",
    "\n",
    "df_ref.isna().sum()"
   ]
  },
  {
   "cell_type": "markdown",
   "id": "5af5f7af",
   "metadata": {
    "papermill": {
     "duration": 0.080959,
     "end_time": "2021-11-03T17:55:16.859185",
     "exception": false,
     "start_time": "2021-11-03T17:55:16.778226",
     "status": "completed"
    },
    "tags": []
   },
   "source": [
    "### 3.1.2 Recency - Day from last purchase"
   ]
  },
  {
   "cell_type": "code",
   "execution_count": 30,
   "id": "ff2e8cb5",
   "metadata": {
    "ExecuteTime": {
     "end_time": "2021-11-03T12:58:07.962553Z",
     "start_time": "2021-11-03T12:58:07.865199Z"
    },
    "execution": {
     "iopub.execute_input": "2021-11-03T17:55:17.024703Z",
     "iopub.status.busy": "2021-11-03T17:55:17.023778Z",
     "iopub.status.idle": "2021-11-03T17:55:17.060500Z",
     "shell.execute_reply": "2021-11-03T17:55:17.059296Z"
    },
    "papermill": {
     "duration": 0.121758,
     "end_time": "2021-11-03T17:55:17.060654",
     "exception": false,
     "start_time": "2021-11-03T17:55:16.938896",
     "status": "completed"
    },
    "tags": []
   },
   "outputs": [
    {
     "data": {
      "text/plain": [
       "customer_id       0\n",
       "gross_revenue    91\n",
       "recency_days     91\n",
       "dtype: int64"
      ]
     },
     "execution_count": 30,
     "metadata": {},
     "output_type": "execute_result"
    }
   ],
   "source": [
    " # Recency - Last day purchase\n",
    "df_recency = df2_purchases.loc[:, ['customer_id', 'invoice_date']].groupby( 'customer_id' ).max().reset_index()\n",
    "df_recency['recency_days'] = ( df2['invoice_date'].max() - df_recency['invoice_date'] ).dt.days\n",
    "df_recency = df_recency[['customer_id', 'recency_days']].copy()\n",
    "df_ref = pd.merge( df_ref, df_recency, on='customer_id', how='left' )\n",
    "\n",
    "df_ref.isna().sum()"
   ]
  },
  {
   "cell_type": "markdown",
   "id": "c85eab19",
   "metadata": {
    "papermill": {
     "duration": 0.080064,
     "end_time": "2021-11-03T17:55:17.222870",
     "exception": false,
     "start_time": "2021-11-03T17:55:17.142806",
     "status": "completed"
    },
    "tags": []
   },
   "source": [
    "### 3.1.4.1 Quantity of products purchased"
   ]
  },
  {
   "cell_type": "code",
   "execution_count": 31,
   "id": "6df86f1d",
   "metadata": {
    "ExecuteTime": {
     "end_time": "2021-11-03T12:58:08.080008Z",
     "start_time": "2021-11-03T12:58:07.965263Z"
    },
    "execution": {
     "iopub.execute_input": "2021-11-03T17:55:17.405071Z",
     "iopub.status.busy": "2021-11-03T17:55:17.404364Z",
     "iopub.status.idle": "2021-11-03T17:55:17.473299Z",
     "shell.execute_reply": "2021-11-03T17:55:17.473782Z"
    },
    "papermill": {
     "duration": 0.165188,
     "end_time": "2021-11-03T17:55:17.473982",
     "exception": false,
     "start_time": "2021-11-03T17:55:17.308794",
     "status": "completed"
    },
    "tags": []
   },
   "outputs": [
    {
     "data": {
      "text/plain": [
       "customer_id       0\n",
       "gross_revenue    91\n",
       "recency_days     91\n",
       "qtde_products    91\n",
       "dtype: int64"
      ]
     },
     "execution_count": 31,
     "metadata": {},
     "output_type": "execute_result"
    }
   ],
   "source": [
    " # Numero de produtos\n",
    "df_freq = (df2_purchases.loc[:, ['customer_id', 'stock_code']].groupby( 'customer_id' ).count()\n",
    "                                                           .reset_index()\n",
    "                                                           .rename( columns={'stock_code': 'qtde_products'} ) )\n",
    "df_ref = pd.merge( df_ref, df_freq, on='customer_id', how='left' )\n",
    "df_ref.isna().sum()"
   ]
  },
  {
   "cell_type": "markdown",
   "id": "5a28fd4d",
   "metadata": {
    "papermill": {
     "duration": 0.080475,
     "end_time": "2021-11-03T17:55:17.640340",
     "exception": false,
     "start_time": "2021-11-03T17:55:17.559865",
     "status": "completed"
    },
    "tags": []
   },
   "source": [
    "### 3.1.7 Number of  returns"
   ]
  },
  {
   "cell_type": "code",
   "execution_count": 32,
   "id": "7eb52efe",
   "metadata": {
    "ExecuteTime": {
     "end_time": "2021-11-03T12:58:08.109199Z",
     "start_time": "2021-11-03T12:58:08.082170Z"
    },
    "execution": {
     "iopub.execute_input": "2021-11-03T17:55:17.819881Z",
     "iopub.status.busy": "2021-11-03T17:55:17.818881Z",
     "iopub.status.idle": "2021-11-03T17:55:17.831197Z",
     "shell.execute_reply": "2021-11-03T17:55:17.831663Z"
    },
    "papermill": {
     "duration": 0.106972,
     "end_time": "2021-11-03T17:55:17.831812",
     "exception": false,
     "start_time": "2021-11-03T17:55:17.724840",
     "status": "completed"
    },
    "tags": []
   },
   "outputs": [
    {
     "data": {
      "text/plain": [
       "customer_id       0\n",
       "gross_revenue    91\n",
       "recency_days     91\n",
       "qtde_products    91\n",
       "qtde_returns      0\n",
       "dtype: int64"
      ]
     },
     "execution_count": 32,
     "metadata": {},
     "output_type": "execute_result"
    }
   ],
   "source": [
    "# Number of Returns\n",
    "df_returns = df2_returns [[ 'customer_id', 'quantity']].groupby( 'customer_id').sum().reset_index().rename( columns ={'quantity': 'qtde_returns'} )\n",
    "df_returns['qtde_returns'] = df_returns['qtde_returns'] * -1\n",
    "\n",
    "df_ref = pd.merge( df_ref, df_returns, how = 'left', on= 'customer_id')\n",
    "df_ref.loc[ df_ref['qtde_returns'].isna(), 'qtde_returns'] = 0\n",
    "\n",
    "\n",
    "df_ref.isna().sum()"
   ]
  },
  {
   "cell_type": "code",
   "execution_count": 33,
   "id": "f8841083",
   "metadata": {
    "ExecuteTime": {
     "end_time": "2021-11-03T12:58:08.165461Z",
     "start_time": "2021-11-03T12:58:08.110848Z"
    },
    "execution": {
     "iopub.execute_input": "2021-11-03T17:55:18.006166Z",
     "iopub.status.busy": "2021-11-03T17:55:18.005086Z",
     "iopub.status.idle": "2021-11-03T17:55:18.019788Z",
     "shell.execute_reply": "2021-11-03T17:55:18.020218Z"
    },
    "papermill": {
     "duration": 0.103369,
     "end_time": "2021-11-03T17:55:18.020355",
     "exception": false,
     "start_time": "2021-11-03T17:55:17.916986",
     "status": "completed"
    },
    "tags": []
   },
   "outputs": [
    {
     "data": {
      "text/html": [
       "<div>\n",
       "<style scoped>\n",
       "    .dataframe tbody tr th:only-of-type {\n",
       "        vertical-align: middle;\n",
       "    }\n",
       "\n",
       "    .dataframe tbody tr th {\n",
       "        vertical-align: top;\n",
       "    }\n",
       "\n",
       "    .dataframe thead th {\n",
       "        text-align: right;\n",
       "    }\n",
       "</style>\n",
       "<table border=\"1\" class=\"dataframe\">\n",
       "  <thead>\n",
       "    <tr style=\"text-align: right;\">\n",
       "      <th></th>\n",
       "      <th>customer_id</th>\n",
       "      <th>qtde_returns</th>\n",
       "    </tr>\n",
       "  </thead>\n",
       "  <tbody>\n",
       "    <tr>\n",
       "      <th>0</th>\n",
       "      <td>12346</td>\n",
       "      <td>-74215</td>\n",
       "    </tr>\n",
       "    <tr>\n",
       "      <th>1</th>\n",
       "      <td>12352</td>\n",
       "      <td>-63</td>\n",
       "    </tr>\n",
       "    <tr>\n",
       "      <th>2</th>\n",
       "      <td>12359</td>\n",
       "      <td>-10</td>\n",
       "    </tr>\n",
       "    <tr>\n",
       "      <th>3</th>\n",
       "      <td>12362</td>\n",
       "      <td>-17</td>\n",
       "    </tr>\n",
       "    <tr>\n",
       "      <th>4</th>\n",
       "      <td>12375</td>\n",
       "      <td>-1</td>\n",
       "    </tr>\n",
       "    <tr>\n",
       "      <th>...</th>\n",
       "      <td>...</td>\n",
       "      <td>...</td>\n",
       "    </tr>\n",
       "    <tr>\n",
       "      <th>1590</th>\n",
       "      <td>22473</td>\n",
       "      <td>-1</td>\n",
       "    </tr>\n",
       "    <tr>\n",
       "      <th>1591</th>\n",
       "      <td>22485</td>\n",
       "      <td>-288</td>\n",
       "    </tr>\n",
       "    <tr>\n",
       "      <th>1592</th>\n",
       "      <td>22515</td>\n",
       "      <td>-324</td>\n",
       "    </tr>\n",
       "    <tr>\n",
       "      <th>1593</th>\n",
       "      <td>22610</td>\n",
       "      <td>-24</td>\n",
       "    </tr>\n",
       "    <tr>\n",
       "      <th>1594</th>\n",
       "      <td>22616</td>\n",
       "      <td>-2</td>\n",
       "    </tr>\n",
       "  </tbody>\n",
       "</table>\n",
       "<p>1595 rows × 2 columns</p>\n",
       "</div>"
      ],
      "text/plain": [
       "      customer_id  qtde_returns\n",
       "0           12346        -74215\n",
       "1           12352           -63\n",
       "2           12359           -10\n",
       "3           12362           -17\n",
       "4           12375            -1\n",
       "...           ...           ...\n",
       "1590        22473            -1\n",
       "1591        22485          -288\n",
       "1592        22515          -324\n",
       "1593        22610           -24\n",
       "1594        22616            -2\n",
       "\n",
       "[1595 rows x 2 columns]"
      ]
     },
     "execution_count": 33,
     "metadata": {},
     "output_type": "execute_result"
    }
   ],
   "source": [
    "# Number of Returns\n",
    "df2_returns [[ 'customer_id', 'quantity']].groupby( 'customer_id').sum().reset_index().rename( columns ={'quantity': 'qtde_returns'} )\n",
    "                 "
   ]
  },
  {
   "cell_type": "markdown",
   "id": "91668828",
   "metadata": {
    "papermill": {
     "duration": 0.084052,
     "end_time": "2021-11-03T17:55:18.188788",
     "exception": false,
     "start_time": "2021-11-03T17:55:18.104736",
     "status": "completed"
    },
    "tags": []
   },
   "source": [
    "### 3.1.10 Frequency Purchase"
   ]
  },
  {
   "cell_type": "code",
   "execution_count": 34,
   "id": "5270280a",
   "metadata": {
    "ExecuteTime": {
     "end_time": "2021-11-03T12:58:09.844949Z",
     "start_time": "2021-11-03T12:58:08.167458Z"
    },
    "execution": {
     "iopub.execute_input": "2021-11-03T17:55:18.375151Z",
     "iopub.status.busy": "2021-11-03T17:55:18.361750Z",
     "iopub.status.idle": "2021-11-03T17:55:19.928250Z",
     "shell.execute_reply": "2021-11-03T17:55:19.927290Z"
    },
    "papermill": {
     "duration": 1.655284,
     "end_time": "2021-11-03T17:55:19.928449",
     "exception": false,
     "start_time": "2021-11-03T17:55:18.273165",
     "status": "completed"
    },
    "tags": []
   },
   "outputs": [
    {
     "data": {
      "text/plain": [
       "customer_id       0\n",
       "gross_revenue    91\n",
       "recency_days     91\n",
       "qtde_products    91\n",
       "qtde_returns      0\n",
       "frequency        91\n",
       "dtype: int64"
      ]
     },
     "execution_count": 34,
     "metadata": {},
     "output_type": "execute_result"
    }
   ],
   "source": [
    "df_aux = (df2_purchases[['customer_id', 'invoice_no', 'invoice_date']].drop_duplicates()\n",
    "                                                            .groupby( 'customer_id')\n",
    "                                                            .agg( max_ = ( 'invoice_date', 'max' ),\n",
    "                                                                  min_ = ( 'invoice_date', 'min'),\n",
    "                                                                  days_ = ('invoice_date', lambda x : ( ( x.max()- x.min() ).days) + 1 ) ,\n",
    "                                                                  buy_ = ( 'invoice_no', 'count') ) ).reset_index()\n",
    "\n",
    "\n",
    "# Frequency\n",
    "df_aux['frequency'] = df_aux[['buy_', 'days_']].apply ( lambda x: x['buy_'] / x['days_'] if x['days_'] != 0 else 0, axis = 1)\n",
    "\n",
    "# Merge\n",
    "df_ref = pd.merge( df_ref, df_aux[['customer_id', 'frequency']], on = 'customer_id', how = 'left')\n",
    "\n",
    "df_ref.isna().sum()"
   ]
  },
  {
   "cell_type": "code",
   "execution_count": 35,
   "id": "7727eedb",
   "metadata": {
    "ExecuteTime": {
     "end_time": "2021-11-03T12:58:09.864194Z",
     "start_time": "2021-11-03T12:58:09.846431Z"
    },
    "execution": {
     "iopub.execute_input": "2021-11-03T17:55:20.118070Z",
     "iopub.status.busy": "2021-11-03T17:55:20.117177Z",
     "iopub.status.idle": "2021-11-03T17:55:20.120890Z",
     "shell.execute_reply": "2021-11-03T17:55:20.121543Z"
    },
    "papermill": {
     "duration": 0.10199,
     "end_time": "2021-11-03T17:55:20.121754",
     "exception": false,
     "start_time": "2021-11-03T17:55:20.019764",
     "status": "completed"
    },
    "tags": []
   },
   "outputs": [
    {
     "data": {
      "text/html": [
       "<div>\n",
       "<style scoped>\n",
       "    .dataframe tbody tr th:only-of-type {\n",
       "        vertical-align: middle;\n",
       "    }\n",
       "\n",
       "    .dataframe tbody tr th {\n",
       "        vertical-align: top;\n",
       "    }\n",
       "\n",
       "    .dataframe thead th {\n",
       "        text-align: right;\n",
       "    }\n",
       "</style>\n",
       "<table border=\"1\" class=\"dataframe\">\n",
       "  <thead>\n",
       "    <tr style=\"text-align: right;\">\n",
       "      <th></th>\n",
       "      <th>customer_id</th>\n",
       "      <th>gross_revenue</th>\n",
       "      <th>recency_days</th>\n",
       "      <th>qtde_products</th>\n",
       "      <th>qtde_returns</th>\n",
       "      <th>frequency</th>\n",
       "    </tr>\n",
       "  </thead>\n",
       "  <tbody>\n",
       "    <tr>\n",
       "      <th>0</th>\n",
       "      <td>17850</td>\n",
       "      <td>5391.21</td>\n",
       "      <td>372.0</td>\n",
       "      <td>297.0</td>\n",
       "      <td>40.0</td>\n",
       "      <td>17.000000</td>\n",
       "    </tr>\n",
       "    <tr>\n",
       "      <th>1</th>\n",
       "      <td>13047</td>\n",
       "      <td>3232.59</td>\n",
       "      <td>56.0</td>\n",
       "      <td>171.0</td>\n",
       "      <td>35.0</td>\n",
       "      <td>0.028302</td>\n",
       "    </tr>\n",
       "    <tr>\n",
       "      <th>2</th>\n",
       "      <td>12583</td>\n",
       "      <td>6705.38</td>\n",
       "      <td>2.0</td>\n",
       "      <td>232.0</td>\n",
       "      <td>50.0</td>\n",
       "      <td>0.040323</td>\n",
       "    </tr>\n",
       "    <tr>\n",
       "      <th>3</th>\n",
       "      <td>13748</td>\n",
       "      <td>948.25</td>\n",
       "      <td>95.0</td>\n",
       "      <td>28.0</td>\n",
       "      <td>0.0</td>\n",
       "      <td>0.017921</td>\n",
       "    </tr>\n",
       "    <tr>\n",
       "      <th>4</th>\n",
       "      <td>15100</td>\n",
       "      <td>876.00</td>\n",
       "      <td>333.0</td>\n",
       "      <td>3.0</td>\n",
       "      <td>22.0</td>\n",
       "      <td>0.073171</td>\n",
       "    </tr>\n",
       "  </tbody>\n",
       "</table>\n",
       "</div>"
      ],
      "text/plain": [
       "   customer_id  gross_revenue  recency_days  qtde_products  qtde_returns  \\\n",
       "0        17850        5391.21         372.0          297.0          40.0   \n",
       "1        13047        3232.59          56.0          171.0          35.0   \n",
       "2        12583        6705.38           2.0          232.0          50.0   \n",
       "3        13748         948.25          95.0           28.0           0.0   \n",
       "4        15100         876.00         333.0            3.0          22.0   \n",
       "\n",
       "   frequency  \n",
       "0  17.000000  \n",
       "1   0.028302  \n",
       "2   0.040323  \n",
       "3   0.017921  \n",
       "4   0.073171  "
      ]
     },
     "execution_count": 35,
     "metadata": {},
     "output_type": "execute_result"
    }
   ],
   "source": [
    "df_ref.head()"
   ]
  },
  {
   "cell_type": "markdown",
   "id": "02e0625f",
   "metadata": {
    "papermill": {
     "duration": 0.083201,
     "end_time": "2021-11-03T17:55:20.291337",
     "exception": false,
     "start_time": "2021-11-03T17:55:20.208136",
     "status": "completed"
    },
    "tags": []
   },
   "source": [
    "# 4.0. Exploratory Data Analysis"
   ]
  },
  {
   "cell_type": "code",
   "execution_count": 36,
   "id": "f92583af",
   "metadata": {
    "ExecuteTime": {
     "end_time": "2021-11-03T12:58:09.977658Z",
     "start_time": "2021-11-03T12:58:09.866474Z"
    },
    "execution": {
     "iopub.execute_input": "2021-11-03T17:55:20.465727Z",
     "iopub.status.busy": "2021-11-03T17:55:20.464902Z",
     "iopub.status.idle": "2021-11-03T17:55:20.470577Z",
     "shell.execute_reply": "2021-11-03T17:55:20.471290Z"
    },
    "papermill": {
     "duration": 0.097603,
     "end_time": "2021-11-03T17:55:20.471588",
     "exception": false,
     "start_time": "2021-11-03T17:55:20.373985",
     "status": "completed"
    },
    "tags": []
   },
   "outputs": [],
   "source": [
    "df4 = df_ref.dropna()\n"
   ]
  },
  {
   "cell_type": "markdown",
   "id": "ad9512ea",
   "metadata": {
    "papermill": {
     "duration": 0.081234,
     "end_time": "2021-11-03T17:55:20.639482",
     "exception": false,
     "start_time": "2021-11-03T17:55:20.558248",
     "status": "completed"
    },
    "tags": []
   },
   "source": [
    "## 4.3 Estudo do Espaço"
   ]
  },
  {
   "cell_type": "code",
   "execution_count": 37,
   "id": "d09f4565",
   "metadata": {
    "ExecuteTime": {
     "end_time": "2021-11-03T12:58:10.059164Z",
     "start_time": "2021-11-03T12:58:09.980100Z"
    },
    "execution": {
     "iopub.execute_input": "2021-11-03T17:55:20.817501Z",
     "iopub.status.busy": "2021-11-03T17:55:20.816828Z",
     "iopub.status.idle": "2021-11-03T17:55:20.818731Z",
     "shell.execute_reply": "2021-11-03T17:55:20.819260Z"
    },
    "papermill": {
     "duration": 0.0942,
     "end_time": "2021-11-03T17:55:20.819426",
     "exception": false,
     "start_time": "2021-11-03T17:55:20.725226",
     "status": "completed"
    },
    "tags": []
   },
   "outputs": [],
   "source": [
    "# Selected dataset\n",
    "cols_selected = ['customer_id', 'gross_revenue', 'recency_days', 'qtde_products', 'frequency', 'qtde_returns']\n",
    "df43 = df4[cols_selected].drop( columns = 'customer_id', axis = 1)"
   ]
  },
  {
   "cell_type": "code",
   "execution_count": 38,
   "id": "ac648d55",
   "metadata": {
    "ExecuteTime": {
     "end_time": "2021-11-03T12:58:10.154382Z",
     "start_time": "2021-11-03T12:58:10.061769Z"
    },
    "execution": {
     "iopub.execute_input": "2021-11-03T17:55:21.013276Z",
     "iopub.status.busy": "2021-11-03T17:55:21.012460Z",
     "iopub.status.idle": "2021-11-03T17:55:21.016699Z",
     "shell.execute_reply": "2021-11-03T17:55:21.015968Z"
    },
    "papermill": {
     "duration": 0.110182,
     "end_time": "2021-11-03T17:55:21.016893",
     "exception": false,
     "start_time": "2021-11-03T17:55:20.906711",
     "status": "completed"
    },
    "tags": []
   },
   "outputs": [
    {
     "data": {
      "text/html": [
       "<div>\n",
       "<style scoped>\n",
       "    .dataframe tbody tr th:only-of-type {\n",
       "        vertical-align: middle;\n",
       "    }\n",
       "\n",
       "    .dataframe tbody tr th {\n",
       "        vertical-align: top;\n",
       "    }\n",
       "\n",
       "    .dataframe thead th {\n",
       "        text-align: right;\n",
       "    }\n",
       "</style>\n",
       "<table border=\"1\" class=\"dataframe\">\n",
       "  <thead>\n",
       "    <tr style=\"text-align: right;\">\n",
       "      <th></th>\n",
       "      <th>gross_revenue</th>\n",
       "      <th>recency_days</th>\n",
       "      <th>qtde_products</th>\n",
       "      <th>frequency</th>\n",
       "      <th>qtde_returns</th>\n",
       "    </tr>\n",
       "  </thead>\n",
       "  <tbody>\n",
       "    <tr>\n",
       "      <th>0</th>\n",
       "      <td>5391.21</td>\n",
       "      <td>372.0</td>\n",
       "      <td>297.0</td>\n",
       "      <td>17.000000</td>\n",
       "      <td>40.0</td>\n",
       "    </tr>\n",
       "    <tr>\n",
       "      <th>1</th>\n",
       "      <td>3232.59</td>\n",
       "      <td>56.0</td>\n",
       "      <td>171.0</td>\n",
       "      <td>0.028302</td>\n",
       "      <td>35.0</td>\n",
       "    </tr>\n",
       "    <tr>\n",
       "      <th>2</th>\n",
       "      <td>6705.38</td>\n",
       "      <td>2.0</td>\n",
       "      <td>232.0</td>\n",
       "      <td>0.040323</td>\n",
       "      <td>50.0</td>\n",
       "    </tr>\n",
       "    <tr>\n",
       "      <th>3</th>\n",
       "      <td>948.25</td>\n",
       "      <td>95.0</td>\n",
       "      <td>28.0</td>\n",
       "      <td>0.017921</td>\n",
       "      <td>0.0</td>\n",
       "    </tr>\n",
       "    <tr>\n",
       "      <th>4</th>\n",
       "      <td>876.00</td>\n",
       "      <td>333.0</td>\n",
       "      <td>3.0</td>\n",
       "      <td>0.073171</td>\n",
       "      <td>22.0</td>\n",
       "    </tr>\n",
       "  </tbody>\n",
       "</table>\n",
       "</div>"
      ],
      "text/plain": [
       "   gross_revenue  recency_days  qtde_products  frequency  qtde_returns\n",
       "0        5391.21         372.0          297.0  17.000000          40.0\n",
       "1        3232.59          56.0          171.0   0.028302          35.0\n",
       "2        6705.38           2.0          232.0   0.040323          50.0\n",
       "3         948.25          95.0           28.0   0.017921           0.0\n",
       "4         876.00         333.0            3.0   0.073171          22.0"
      ]
     },
     "execution_count": 38,
     "metadata": {},
     "output_type": "execute_result"
    }
   ],
   "source": [
    "df43.head()"
   ]
  },
  {
   "cell_type": "code",
   "execution_count": 39,
   "id": "e9e6b160",
   "metadata": {
    "ExecuteTime": {
     "end_time": "2021-11-03T12:58:10.255102Z",
     "start_time": "2021-11-03T12:58:10.157247Z"
    },
    "execution": {
     "iopub.execute_input": "2021-11-03T17:55:21.209411Z",
     "iopub.status.busy": "2021-11-03T17:55:21.207376Z",
     "iopub.status.idle": "2021-11-03T17:55:21.225460Z",
     "shell.execute_reply": "2021-11-03T17:55:21.224454Z"
    },
    "papermill": {
     "duration": 0.117778,
     "end_time": "2021-11-03T17:55:21.225651",
     "exception": false,
     "start_time": "2021-11-03T17:55:21.107873",
     "status": "completed"
    },
    "tags": []
   },
   "outputs": [],
   "source": [
    "mm = pp.MinMaxScaler()\n",
    "\n",
    "#\n",
    "df43[ 'gross_revenue' ]        = mm.fit_transform( df43 [['gross_revenue']])\n",
    "df43[ 'recency_days' ]         = mm.fit_transform( df43[['recency_days']])\n",
    "df43['qtde_products']          = mm.fit_transform( df43[['qtde_products']])\n",
    "df43['qtde_returns']           = mm.fit_transform( df43[['qtde_returns']])\n",
    "df43['frequency']              = mm.fit_transform( df43[['frequency']])\n"
   ]
  },
  {
   "cell_type": "markdown",
   "id": "668df9fb",
   "metadata": {
    "papermill": {
     "duration": 0.081706,
     "end_time": "2021-11-03T17:55:21.392852",
     "exception": false,
     "start_time": "2021-11-03T17:55:21.311146",
     "status": "completed"
    },
    "tags": []
   },
   "source": [
    "### 4.3.4 Tree-Based embedding"
   ]
  },
  {
   "cell_type": "code",
   "execution_count": 40,
   "id": "612ca9da",
   "metadata": {
    "ExecuteTime": {
     "end_time": "2021-11-03T12:58:12.227810Z",
     "start_time": "2021-11-03T12:58:10.258116Z"
    },
    "execution": {
     "iopub.execute_input": "2021-11-03T17:55:21.578225Z",
     "iopub.status.busy": "2021-11-03T17:55:21.576306Z",
     "iopub.status.idle": "2021-11-03T17:55:23.503429Z",
     "shell.execute_reply": "2021-11-03T17:55:23.502720Z"
    },
    "papermill": {
     "duration": 2.025345,
     "end_time": "2021-11-03T17:55:23.503594",
     "exception": false,
     "start_time": "2021-11-03T17:55:21.478249",
     "status": "completed"
    },
    "tags": []
   },
   "outputs": [],
   "source": [
    "# Training dataset\n",
    "\n",
    "X = df43.drop( columns = [ 'gross_revenue'], axis = 1 )\n",
    "y = df43['gross_revenue']\n",
    "\n",
    "# Model definittion\n",
    "rf_model = en.RandomForestRegressor ( n_estimators = 100, random_state= 42)\n",
    "\n",
    "# Model trainning\n",
    "rf_model.fit( X,y)\n",
    "\n",
    "#Leaf\n",
    "df_leaf = pd.DataFrame( rf_model.apply( X ) )\n",
    "\n",
    "# DataFrame Leaf\n",
    "\n"
   ]
  },
  {
   "cell_type": "code",
   "execution_count": 41,
   "id": "40d3af92",
   "metadata": {
    "ExecuteTime": {
     "end_time": "2021-11-03T12:58:40.355874Z",
     "start_time": "2021-11-03T12:58:12.230056Z"
    },
    "execution": {
     "iopub.execute_input": "2021-11-03T17:55:23.683430Z",
     "iopub.status.busy": "2021-11-03T17:55:23.682417Z",
     "iopub.status.idle": "2021-11-03T17:55:53.493962Z",
     "shell.execute_reply": "2021-11-03T17:55:53.494377Z"
    },
    "papermill": {
     "duration": 29.906375,
     "end_time": "2021-11-03T17:55:53.494521",
     "exception": false,
     "start_time": "2021-11-03T17:55:23.588146",
     "status": "completed"
    },
    "tags": []
   },
   "outputs": [
    {
     "name": "stderr",
     "output_type": "stream",
     "text": [
      "/home/leandro/.pyenv/versions/pa005insiderscluestering/lib/python3.8/site-packages/sklearn/manifold/_spectral_embedding.py:260: UserWarning: Graph is not fully connected, spectral embedding may not work as expected.\n",
      "  warnings.warn(\n"
     ]
    }
   ],
   "source": [
    "# Reduzer dimensionality\n",
    "reducer = umap.UMAP( random_state=42 )\n",
    "embedding = reducer.fit_transform( df_leaf )\n",
    "\n",
    "# embedding\n",
    "df_tree = pd.DataFrame()\n",
    "df_tree['embedding_x'] = embedding[:, 0]\n",
    "df_tree['embedding_y'] = embedding[:, 1]\n"
   ]
  },
  {
   "cell_type": "markdown",
   "id": "daadf717",
   "metadata": {
    "papermill": {
     "duration": 0.090112,
     "end_time": "2021-11-03T17:55:53.672147",
     "exception": false,
     "start_time": "2021-11-03T17:55:53.582035",
     "status": "completed"
    },
    "tags": []
   },
   "source": [
    "# 5.0 Data Preparation"
   ]
  },
  {
   "cell_type": "code",
   "execution_count": 42,
   "id": "4fe9367d",
   "metadata": {
    "ExecuteTime": {
     "end_time": "2021-11-03T12:58:40.363447Z",
     "start_time": "2021-11-03T12:58:40.358826Z"
    },
    "execution": {
     "iopub.execute_input": "2021-11-03T17:55:53.859714Z",
     "iopub.status.busy": "2021-11-03T17:55:53.858763Z",
     "iopub.status.idle": "2021-11-03T17:55:53.862112Z",
     "shell.execute_reply": "2021-11-03T17:55:53.862855Z"
    },
    "papermill": {
     "duration": 0.097749,
     "end_time": "2021-11-03T17:55:53.863101",
     "exception": false,
     "start_time": "2021-11-03T17:55:53.765352",
     "status": "completed"
    },
    "tags": []
   },
   "outputs": [],
   "source": [
    "df5 = df_tree.copy( )"
   ]
  },
  {
   "cell_type": "code",
   "execution_count": 43,
   "id": "31a775eb",
   "metadata": {
    "ExecuteTime": {
     "end_time": "2021-11-03T12:58:40.519503Z",
     "start_time": "2021-11-03T12:58:40.365162Z"
    },
    "execution": {
     "iopub.execute_input": "2021-11-03T17:55:54.048424Z",
     "iopub.status.busy": "2021-11-03T17:55:54.047747Z",
     "iopub.status.idle": "2021-11-03T17:55:54.084275Z",
     "shell.execute_reply": "2021-11-03T17:55:54.083383Z"
    },
    "papermill": {
     "duration": 0.129259,
     "end_time": "2021-11-03T17:55:54.084478",
     "exception": false,
     "start_time": "2021-11-03T17:55:53.955219",
     "status": "completed"
    },
    "tags": []
   },
   "outputs": [],
   "source": [
    "df5.to_csv(path+'src/data/tree_based_embedding.csv')"
   ]
  },
  {
   "cell_type": "markdown",
   "id": "e3efa2d2",
   "metadata": {
    "papermill": {
     "duration": 0.086769,
     "end_time": "2021-11-03T17:55:54.258799",
     "exception": false,
     "start_time": "2021-11-03T17:55:54.172030",
     "status": "completed"
    },
    "tags": []
   },
   "source": [
    "# 7.0. Hyperparameter Fine-tuning"
   ]
  },
  {
   "cell_type": "code",
   "execution_count": 44,
   "id": "d6147c6b",
   "metadata": {
    "ExecuteTime": {
     "end_time": "2021-11-03T12:58:40.589181Z",
     "start_time": "2021-11-03T12:58:40.523096Z"
    },
    "execution": {
     "iopub.execute_input": "2021-11-03T17:55:54.433329Z",
     "iopub.status.busy": "2021-11-03T17:55:54.432804Z",
     "iopub.status.idle": "2021-11-03T17:55:54.436524Z",
     "shell.execute_reply": "2021-11-03T17:55:54.436961Z"
    },
    "papermill": {
     "duration": 0.09187,
     "end_time": "2021-11-03T17:55:54.437096",
     "exception": false,
     "start_time": "2021-11-03T17:55:54.345226",
     "status": "completed"
    },
    "tags": []
   },
   "outputs": [],
   "source": [
    "X = df_tree.copy()"
   ]
  },
  {
   "cell_type": "code",
   "execution_count": 45,
   "id": "78ce4064",
   "metadata": {
    "ExecuteTime": {
     "end_time": "2021-11-03T12:58:40.674530Z",
     "start_time": "2021-11-03T12:58:40.591406Z"
    },
    "execution": {
     "iopub.execute_input": "2021-11-03T17:55:54.631067Z",
     "iopub.status.busy": "2021-11-03T17:55:54.629837Z",
     "iopub.status.idle": "2021-11-03T17:55:54.634319Z",
     "shell.execute_reply": "2021-11-03T17:55:54.635138Z"
    },
    "papermill": {
     "duration": 0.105898,
     "end_time": "2021-11-03T17:55:54.635369",
     "exception": false,
     "start_time": "2021-11-03T17:55:54.529471",
     "status": "completed"
    },
    "tags": []
   },
   "outputs": [
    {
     "data": {
      "text/html": [
       "<div>\n",
       "<style scoped>\n",
       "    .dataframe tbody tr th:only-of-type {\n",
       "        vertical-align: middle;\n",
       "    }\n",
       "\n",
       "    .dataframe tbody tr th {\n",
       "        vertical-align: top;\n",
       "    }\n",
       "\n",
       "    .dataframe thead th {\n",
       "        text-align: right;\n",
       "    }\n",
       "</style>\n",
       "<table border=\"1\" class=\"dataframe\">\n",
       "  <thead>\n",
       "    <tr style=\"text-align: right;\">\n",
       "      <th></th>\n",
       "      <th>embedding_x</th>\n",
       "      <th>embedding_y</th>\n",
       "    </tr>\n",
       "  </thead>\n",
       "  <tbody>\n",
       "    <tr>\n",
       "      <th>0</th>\n",
       "      <td>8.065233</td>\n",
       "      <td>-6.196950</td>\n",
       "    </tr>\n",
       "    <tr>\n",
       "      <th>1</th>\n",
       "      <td>10.827569</td>\n",
       "      <td>-2.550333</td>\n",
       "    </tr>\n",
       "    <tr>\n",
       "      <th>2</th>\n",
       "      <td>8.319387</td>\n",
       "      <td>-5.599104</td>\n",
       "    </tr>\n",
       "    <tr>\n",
       "      <th>3</th>\n",
       "      <td>-2.007851</td>\n",
       "      <td>12.433291</td>\n",
       "    </tr>\n",
       "    <tr>\n",
       "      <th>4</th>\n",
       "      <td>6.869921</td>\n",
       "      <td>26.271196</td>\n",
       "    </tr>\n",
       "  </tbody>\n",
       "</table>\n",
       "</div>"
      ],
      "text/plain": [
       "   embedding_x  embedding_y\n",
       "0     8.065233    -6.196950\n",
       "1    10.827569    -2.550333\n",
       "2     8.319387    -5.599104\n",
       "3    -2.007851    12.433291\n",
       "4     6.869921    26.271196"
      ]
     },
     "execution_count": 45,
     "metadata": {},
     "output_type": "execute_result"
    }
   ],
   "source": [
    "X.head()"
   ]
  },
  {
   "cell_type": "markdown",
   "id": "08f65244",
   "metadata": {
    "papermill": {
     "duration": 0.084028,
     "end_time": "2021-11-03T17:55:54.810947",
     "exception": false,
     "start_time": "2021-11-03T17:55:54.726919",
     "status": "completed"
    },
    "tags": []
   },
   "source": [
    "# 8.0. Model Training"
   ]
  },
  {
   "cell_type": "markdown",
   "id": "6e39e2e9",
   "metadata": {
    "papermill": {
     "duration": 0.085318,
     "end_time": "2021-11-03T17:55:54.984176",
     "exception": false,
     "start_time": "2021-11-03T17:55:54.898858",
     "status": "completed"
    },
    "tags": []
   },
   "source": [
    "## 8.1. Final Model"
   ]
  },
  {
   "cell_type": "code",
   "execution_count": 46,
   "id": "afb5fff7",
   "metadata": {
    "ExecuteTime": {
     "end_time": "2021-11-03T12:59:30.274864Z",
     "start_time": "2021-11-03T12:58:40.677657Z"
    },
    "execution": {
     "iopub.execute_input": "2021-11-03T17:55:55.167426Z",
     "iopub.status.busy": "2021-11-03T17:55:55.166199Z",
     "iopub.status.idle": "2021-11-03T17:56:45.560625Z",
     "shell.execute_reply": "2021-11-03T17:56:45.561448Z"
    },
    "papermill": {
     "duration": 50.492098,
     "end_time": "2021-11-03T17:56:45.561705",
     "exception": false,
     "start_time": "2021-11-03T17:55:55.069607",
     "status": "completed"
    },
    "tags": []
   },
   "outputs": [],
   "source": [
    "# Model Definition\n",
    "k = 8\n",
    "gmm_model = mx.GaussianMixture ( n_components = k, n_init = 300, random_state = 32)\n",
    "# Model Training\n",
    "gmm_model.fit(X)\n",
    "\n",
    "# Clustering\n",
    "labels  = gmm_model.predict( X )\n"
   ]
  },
  {
   "cell_type": "markdown",
   "id": "d6c75753",
   "metadata": {
    "papermill": {
     "duration": 0.089517,
     "end_time": "2021-11-03T17:56:45.743406",
     "exception": false,
     "start_time": "2021-11-03T17:56:45.653889",
     "status": "completed"
    },
    "tags": []
   },
   "source": [
    "## 8.2. Cluster Validation"
   ]
  },
  {
   "cell_type": "code",
   "execution_count": 47,
   "id": "1c6f00fa",
   "metadata": {
    "ExecuteTime": {
     "end_time": "2021-11-03T12:59:31.024132Z",
     "start_time": "2021-11-03T12:59:30.276595Z"
    },
    "execution": {
     "iopub.execute_input": "2021-11-03T17:56:45.931286Z",
     "iopub.status.busy": "2021-11-03T17:56:45.926727Z",
     "iopub.status.idle": "2021-11-03T17:56:46.670117Z",
     "shell.execute_reply": "2021-11-03T17:56:46.669568Z"
    },
    "papermill": {
     "duration": 0.835075,
     "end_time": "2021-11-03T17:56:46.670230",
     "exception": false,
     "start_time": "2021-11-03T17:56:45.835155",
     "status": "completed"
    },
    "tags": []
   },
   "outputs": [
    {
     "name": "stdout",
     "output_type": "stream",
     "text": [
      "SS value: 0.29330870509147644\n"
     ]
    }
   ],
   "source": [
    "## WSS ( Within-cluster sum of square)\n",
    "#print( 'WSS value: {}'.format( kmeans.inertia_ ) )\n",
    "\n",
    "## SS ( Silhouette Score )\n",
    "print( 'SS value: {}'.format( m.silhouette_score( X, labels, metric='euclidean' ) ) )"
   ]
  },
  {
   "cell_type": "markdown",
   "id": "fb0ac309",
   "metadata": {
    "papermill": {
     "duration": 0.08568,
     "end_time": "2021-11-03T17:56:46.844665",
     "exception": false,
     "start_time": "2021-11-03T17:56:46.758985",
     "status": "completed"
    },
    "tags": []
   },
   "source": [
    "# 9.0. Cluster Analysis"
   ]
  },
  {
   "cell_type": "code",
   "execution_count": 48,
   "id": "61d72184",
   "metadata": {
    "ExecuteTime": {
     "end_time": "2021-11-03T12:59:31.038035Z",
     "start_time": "2021-11-03T12:59:31.026547Z"
    },
    "execution": {
     "iopub.execute_input": "2021-11-03T17:56:47.031330Z",
     "iopub.status.busy": "2021-11-03T17:56:47.029640Z",
     "iopub.status.idle": "2021-11-03T17:56:47.037358Z",
     "shell.execute_reply": "2021-11-03T17:56:47.036568Z"
    },
    "papermill": {
     "duration": 0.104636,
     "end_time": "2021-11-03T17:56:47.037534",
     "exception": false,
     "start_time": "2021-11-03T17:56:46.932898",
     "status": "completed"
    },
    "tags": []
   },
   "outputs": [],
   "source": [
    "df92 = df4[cols_selected].copy()\n",
    "df92['cluster'] = labels\n",
    "\n",
    "\n",
    "# change dtypes\n",
    "df92['recency_days'] = df92['recency_days'].astype( int )\n",
    "df92['qtde_products'] = df92['qtde_products'].astype( int )\n",
    "df92['qtde_returns'] = df92['qtde_returns'].astype( int )\n",
    "\n",
    "from datetime import datetime\n",
    "\n",
    "#df92['last_training_timestamp'] = datetime.now().strftime( '%Y-%m-%d %H:%M:%S')"
   ]
  },
  {
   "cell_type": "code",
   "execution_count": 49,
   "id": "f36a4db3",
   "metadata": {
    "ExecuteTime": {
     "end_time": "2021-11-03T12:59:31.150370Z",
     "start_time": "2021-11-03T12:59:31.041526Z"
    },
    "execution": {
     "iopub.execute_input": "2021-11-03T17:56:47.226515Z",
     "iopub.status.busy": "2021-11-03T17:56:47.225968Z",
     "iopub.status.idle": "2021-11-03T17:56:47.277576Z",
     "shell.execute_reply": "2021-11-03T17:56:47.277107Z"
    },
    "papermill": {
     "duration": 0.15365,
     "end_time": "2021-11-03T17:56:47.277718",
     "exception": false,
     "start_time": "2021-11-03T17:56:47.124068",
     "status": "completed"
    },
    "scrolled": false,
    "tags": []
   },
   "outputs": [
    {
     "data": {
      "text/html": [
       "<div>\n",
       "<style scoped>\n",
       "    .dataframe tbody tr th:only-of-type {\n",
       "        vertical-align: middle;\n",
       "    }\n",
       "\n",
       "    .dataframe tbody tr th {\n",
       "        vertical-align: top;\n",
       "    }\n",
       "\n",
       "    .dataframe thead th {\n",
       "        text-align: right;\n",
       "    }\n",
       "</style>\n",
       "<table border=\"1\" class=\"dataframe\">\n",
       "  <thead>\n",
       "    <tr style=\"text-align: right;\">\n",
       "      <th></th>\n",
       "      <th>cluster</th>\n",
       "      <th>customer_id</th>\n",
       "      <th>perc_customer</th>\n",
       "      <th>gross_revenue</th>\n",
       "      <th>recency_days</th>\n",
       "      <th>qtde_products</th>\n",
       "      <th>frequency</th>\n",
       "      <th>qtde_returns</th>\n",
       "    </tr>\n",
       "  </thead>\n",
       "  <tbody>\n",
       "    <tr>\n",
       "      <th>2</th>\n",
       "      <td>2</td>\n",
       "      <td>956</td>\n",
       "      <td>16.786655</td>\n",
       "      <td>5907.257552</td>\n",
       "      <td>60.316946</td>\n",
       "      <td>317.376569</td>\n",
       "      <td>0.282462</td>\n",
       "      <td>161.792887</td>\n",
       "    </tr>\n",
       "    <tr>\n",
       "      <th>6</th>\n",
       "      <td>6</td>\n",
       "      <td>1380</td>\n",
       "      <td>24.231782</td>\n",
       "      <td>1807.489312</td>\n",
       "      <td>114.607246</td>\n",
       "      <td>96.245652</td>\n",
       "      <td>0.574754</td>\n",
       "      <td>4.694928</td>\n",
       "    </tr>\n",
       "    <tr>\n",
       "      <th>1</th>\n",
       "      <td>1</td>\n",
       "      <td>282</td>\n",
       "      <td>4.951712</td>\n",
       "      <td>1170.371064</td>\n",
       "      <td>61.496454</td>\n",
       "      <td>56.124113</td>\n",
       "      <td>0.027563</td>\n",
       "      <td>10.106383</td>\n",
       "    </tr>\n",
       "    <tr>\n",
       "      <th>3</th>\n",
       "      <td>3</td>\n",
       "      <td>324</td>\n",
       "      <td>5.689201</td>\n",
       "      <td>804.382994</td>\n",
       "      <td>88.027778</td>\n",
       "      <td>30.320988</td>\n",
       "      <td>0.237213</td>\n",
       "      <td>4.466049</td>\n",
       "    </tr>\n",
       "    <tr>\n",
       "      <th>0</th>\n",
       "      <td>0</td>\n",
       "      <td>271</td>\n",
       "      <td>4.758560</td>\n",
       "      <td>647.048967</td>\n",
       "      <td>50.110701</td>\n",
       "      <td>14.516605</td>\n",
       "      <td>0.024271</td>\n",
       "      <td>1.025830</td>\n",
       "    </tr>\n",
       "    <tr>\n",
       "      <th>5</th>\n",
       "      <td>5</td>\n",
       "      <td>795</td>\n",
       "      <td>13.959614</td>\n",
       "      <td>638.717195</td>\n",
       "      <td>116.748428</td>\n",
       "      <td>35.982390</td>\n",
       "      <td>0.607577</td>\n",
       "      <td>6.622642</td>\n",
       "    </tr>\n",
       "    <tr>\n",
       "      <th>7</th>\n",
       "      <td>7</td>\n",
       "      <td>880</td>\n",
       "      <td>15.452151</td>\n",
       "      <td>482.162602</td>\n",
       "      <td>166.701136</td>\n",
       "      <td>22.654545</td>\n",
       "      <td>0.842358</td>\n",
       "      <td>4.735227</td>\n",
       "    </tr>\n",
       "    <tr>\n",
       "      <th>4</th>\n",
       "      <td>4</td>\n",
       "      <td>807</td>\n",
       "      <td>14.170325</td>\n",
       "      <td>328.237447</td>\n",
       "      <td>187.270136</td>\n",
       "      <td>16.175960</td>\n",
       "      <td>0.914689</td>\n",
       "      <td>3.609665</td>\n",
       "    </tr>\n",
       "  </tbody>\n",
       "</table>\n",
       "</div>"
      ],
      "text/plain": [
       "   cluster  customer_id  perc_customer  gross_revenue  recency_days  \\\n",
       "2        2          956      16.786655    5907.257552     60.316946   \n",
       "6        6         1380      24.231782    1807.489312    114.607246   \n",
       "1        1          282       4.951712    1170.371064     61.496454   \n",
       "3        3          324       5.689201     804.382994     88.027778   \n",
       "0        0          271       4.758560     647.048967     50.110701   \n",
       "5        5          795      13.959614     638.717195    116.748428   \n",
       "7        7          880      15.452151     482.162602    166.701136   \n",
       "4        4          807      14.170325     328.237447    187.270136   \n",
       "\n",
       "   qtde_products  frequency  qtde_returns  \n",
       "2     317.376569   0.282462    161.792887  \n",
       "6      96.245652   0.574754      4.694928  \n",
       "1      56.124113   0.027563     10.106383  \n",
       "3      30.320988   0.237213      4.466049  \n",
       "0      14.516605   0.024271      1.025830  \n",
       "5      35.982390   0.607577      6.622642  \n",
       "7      22.654545   0.842358      4.735227  \n",
       "4      16.175960   0.914689      3.609665  "
      ]
     },
     "execution_count": 49,
     "metadata": {},
     "output_type": "execute_result"
    }
   ],
   "source": [
    "# Number of customer\n",
    "df_cluster = df92[['customer_id','cluster']].groupby( 'cluster' ).count().reset_index()\n",
    "df_cluster['perc_customer'] = 100*(df_cluster['customer_id']/df_cluster['customer_id'].sum())\n",
    "\n",
    "# Average gross revenue\n",
    "df_avg_gross_revenue = df92[['gross_revenue', 'cluster']].groupby('cluster').mean().reset_index()\n",
    "df_cluster = pd.merge( df_cluster, df_avg_gross_revenue, how = 'inner', on = 'cluster')\n",
    "\n",
    "# Average recency days\n",
    "df_avg_recency_days = df92[['recency_days', 'cluster']].groupby('cluster').mean().reset_index()\n",
    "df_cluster = pd.merge( df_cluster, df_avg_recency_days, how = 'inner', on = 'cluster')\n",
    "\n",
    "# Quantidade de produtos\n",
    "df_qtde_products = df92[['qtde_products', 'cluster']].groupby('cluster').mean().reset_index()\n",
    "df_cluster = pd.merge( df_cluster, df_qtde_products, how = 'inner', on = 'cluster')\n",
    "\n",
    "# Frequency\n",
    "df_frequency = df92[['frequency', 'cluster']].groupby('cluster').mean().reset_index()\n",
    "df_cluster = pd.merge( df_cluster, df_frequency, how = 'inner', on = 'cluster')\n",
    "\n",
    "\n",
    "# returns\n",
    "df_qtde_returns = df92[['qtde_returns', 'cluster']].groupby('cluster').mean().reset_index()\n",
    "df_cluster = pd.merge( df_cluster, df_qtde_returns, how = 'inner', on = 'cluster')\n",
    "\n",
    "\n",
    "df_cluster.sort_values( 'gross_revenue', ascending = False)"
   ]
  },
  {
   "cell_type": "markdown",
   "id": "77b55e2b",
   "metadata": {
    "ExecuteTime": {
     "end_time": "2021-10-30T12:01:25.941640Z",
     "start_time": "2021-10-30T12:01:25.812234Z"
    },
    "papermill": {
     "duration": 0.086383,
     "end_time": "2021-11-03T17:56:47.451229",
     "exception": false,
     "start_time": "2021-11-03T17:56:47.364846",
     "status": "completed"
    },
    "tags": []
   },
   "source": [
    "02 Cluster Insiders\n",
    "\n",
    "06 Cluster More Products\n",
    "\n",
    "01 Cluster Spend Money\n",
    "\n",
    "03 Cluster Even More Products\n",
    "\n",
    "00 Cluster Less Days\n",
    "\n",
    "05 Cluster 1K\n",
    "\n",
    "07 Cluster Stop Returnres\n",
    "\n",
    "04 Cluster More Buy"
   ]
  },
  {
   "cell_type": "markdown",
   "id": "31f59a01",
   "metadata": {
    "papermill": {
     "duration": 0.086444,
     "end_time": "2021-11-03T17:56:47.626796",
     "exception": false,
     "start_time": "2021-11-03T17:56:47.540352",
     "status": "completed"
    },
    "tags": []
   },
   "source": [
    "### Cluster 01:  ( Candidato a Insider )\n",
    " \n",
    "- Número de customers: 468 (16% do customers )\n",
    "- Faturamento médio: 8836\n",
    "- Recência média: 21 dias\n",
    "- Média de Produtos comprados: 424 produtos\n",
    "- Frequência de Produtos comprados: 0.09 produtos/dia\n",
    "- Receita em média: $8836.13,00 dólares\n",
    " \n",
    "### Cluster 02:  \n",
    " \n",
    " - Número de customer: 31 (0.7% dos customers)\n",
    " - Recência em média: 14 dias\n",
    " - Compras em média: 53 compras\n",
    " - Receita em média: $ 40.543,00.\n",
    " \n",
    " ### Cluster 03: \n",
    " \n",
    " - Número de customer: 4.335 (99% dos customers)\n",
    " - Recência em média: 92 dias\n",
    " - Compras em média: 05 compras\n",
    " - Receita em média: $ 1.372,57."
   ]
  },
  {
   "cell_type": "markdown",
   "id": "1fb0cf5f",
   "metadata": {
    "papermill": {
     "duration": 0.087525,
     "end_time": "2021-11-03T17:56:47.801009",
     "exception": false,
     "start_time": "2021-11-03T17:56:47.713484",
     "status": "completed"
    },
    "tags": []
   },
   "source": [
    "# 11.0. Deploy to Production"
   ]
  },
  {
   "cell_type": "code",
   "execution_count": 50,
   "id": "52bc4aaa",
   "metadata": {
    "ExecuteTime": {
     "end_time": "2021-11-03T12:59:31.324813Z",
     "start_time": "2021-11-03T12:59:31.152419Z"
    },
    "execution": {
     "iopub.execute_input": "2021-11-03T17:56:47.999232Z",
     "iopub.status.busy": "2021-11-03T17:56:47.998436Z",
     "iopub.status.idle": "2021-11-03T17:56:48.281301Z",
     "shell.execute_reply": "2021-11-03T17:56:48.280118Z"
    },
    "papermill": {
     "duration": 0.393993,
     "end_time": "2021-11-03T17:56:48.281591",
     "exception": false,
     "start_time": "2021-11-03T17:56:47.887598",
     "status": "completed"
    },
    "tags": []
   },
   "outputs": [],
   "source": [
    "import sqlite3\n",
    "from sqlalchemy import create_engine\n"
   ]
  },
  {
   "cell_type": "code",
   "execution_count": 51,
   "id": "a71663c7",
   "metadata": {
    "ExecuteTime": {
     "end_time": "2021-11-03T12:59:31.346056Z",
     "start_time": "2021-11-03T12:59:31.326962Z"
    },
    "execution": {
     "iopub.execute_input": "2021-11-03T17:56:48.476755Z",
     "iopub.status.busy": "2021-11-03T17:56:48.463190Z",
     "iopub.status.idle": "2021-11-03T17:56:48.480537Z",
     "shell.execute_reply": "2021-11-03T17:56:48.479879Z"
    },
    "papermill": {
     "duration": 0.108658,
     "end_time": "2021-11-03T17:56:48.480673",
     "exception": false,
     "start_time": "2021-11-03T17:56:48.372015",
     "status": "completed"
    },
    "tags": []
   },
   "outputs": [
    {
     "data": {
      "text/html": [
       "<div>\n",
       "<style scoped>\n",
       "    .dataframe tbody tr th:only-of-type {\n",
       "        vertical-align: middle;\n",
       "    }\n",
       "\n",
       "    .dataframe tbody tr th {\n",
       "        vertical-align: top;\n",
       "    }\n",
       "\n",
       "    .dataframe thead th {\n",
       "        text-align: right;\n",
       "    }\n",
       "</style>\n",
       "<table border=\"1\" class=\"dataframe\">\n",
       "  <thead>\n",
       "    <tr style=\"text-align: right;\">\n",
       "      <th></th>\n",
       "      <th>customer_id</th>\n",
       "      <th>gross_revenue</th>\n",
       "      <th>recency_days</th>\n",
       "      <th>qtde_products</th>\n",
       "      <th>frequency</th>\n",
       "      <th>qtde_returns</th>\n",
       "      <th>cluster</th>\n",
       "    </tr>\n",
       "  </thead>\n",
       "  <tbody>\n",
       "    <tr>\n",
       "      <th>0</th>\n",
       "      <td>17850</td>\n",
       "      <td>5391.21</td>\n",
       "      <td>372</td>\n",
       "      <td>297</td>\n",
       "      <td>17.000000</td>\n",
       "      <td>40</td>\n",
       "      <td>2</td>\n",
       "    </tr>\n",
       "    <tr>\n",
       "      <th>1</th>\n",
       "      <td>13047</td>\n",
       "      <td>3232.59</td>\n",
       "      <td>56</td>\n",
       "      <td>171</td>\n",
       "      <td>0.028302</td>\n",
       "      <td>35</td>\n",
       "      <td>2</td>\n",
       "    </tr>\n",
       "    <tr>\n",
       "      <th>2</th>\n",
       "      <td>12583</td>\n",
       "      <td>6705.38</td>\n",
       "      <td>2</td>\n",
       "      <td>232</td>\n",
       "      <td>0.040323</td>\n",
       "      <td>50</td>\n",
       "      <td>2</td>\n",
       "    </tr>\n",
       "    <tr>\n",
       "      <th>3</th>\n",
       "      <td>13748</td>\n",
       "      <td>948.25</td>\n",
       "      <td>95</td>\n",
       "      <td>28</td>\n",
       "      <td>0.017921</td>\n",
       "      <td>0</td>\n",
       "      <td>5</td>\n",
       "    </tr>\n",
       "    <tr>\n",
       "      <th>4</th>\n",
       "      <td>15100</td>\n",
       "      <td>876.00</td>\n",
       "      <td>333</td>\n",
       "      <td>3</td>\n",
       "      <td>0.073171</td>\n",
       "      <td>22</td>\n",
       "      <td>7</td>\n",
       "    </tr>\n",
       "  </tbody>\n",
       "</table>\n",
       "</div>"
      ],
      "text/plain": [
       "   customer_id  gross_revenue  recency_days  qtde_products  frequency  \\\n",
       "0        17850        5391.21           372            297  17.000000   \n",
       "1        13047        3232.59            56            171   0.028302   \n",
       "2        12583        6705.38             2            232   0.040323   \n",
       "3        13748         948.25            95             28   0.017921   \n",
       "4        15100         876.00           333              3   0.073171   \n",
       "\n",
       "   qtde_returns  cluster  \n",
       "0            40        2  \n",
       "1            35        2  \n",
       "2            50        2  \n",
       "3             0        5  \n",
       "4            22        7  "
      ]
     },
     "execution_count": 51,
     "metadata": {},
     "output_type": "execute_result"
    }
   ],
   "source": [
    "df92.head()"
   ]
  },
  {
   "cell_type": "code",
   "execution_count": 52,
   "id": "27dd32e0",
   "metadata": {
    "ExecuteTime": {
     "end_time": "2021-11-03T12:59:31.602523Z",
     "start_time": "2021-11-03T12:59:31.348575Z"
    },
    "execution": {
     "iopub.execute_input": "2021-11-03T17:56:48.661092Z",
     "iopub.status.busy": "2021-11-03T17:56:48.660531Z",
     "iopub.status.idle": "2021-11-03T17:56:48.871405Z",
     "shell.execute_reply": "2021-11-03T17:56:48.870309Z"
    },
    "papermill": {
     "duration": 0.302415,
     "end_time": "2021-11-03T17:56:48.871615",
     "exception": false,
     "start_time": "2021-11-03T17:56:48.569200",
     "status": "completed"
    },
    "tags": []
   },
   "outputs": [],
   "source": [
    "# # create table\n",
    "# query_create_table_insiders = \"\"\"\n",
    "#    CREATE TABLE insiders ( \n",
    "#        customer_id     INTEGER,\n",
    "#        gross_revenue   REAL,\n",
    "#        recency_days    INTEGER,    \n",
    "#        qtde_products   INTEGER,\n",
    "#        frequency       REAL,\n",
    "#        qtde_returns    INTEGER,\n",
    "#        cluster         INTEGER\n",
    "#    )\n",
    "# \"\"\"\n",
    "\n",
    "\n",
    "# conn = sqlite3.connect( 'insiders_db.sqlite' )\n",
    "# conn.execute( query_create_table_insiders )\n",
    "# conn.commit()\n",
    "# conn.close()\n",
    "\n",
    "# Insert Data\n",
    "conn = create_engine( 'sqlite:///insiders_db.sqlite')\n",
    "df92.to_sql( 'insiders', con = conn, if_exists= 'append', index = False)\n",
    "\n",
    "\n",
    "# Select Data"
   ]
  },
  {
   "cell_type": "code",
   "execution_count": 53,
   "id": "5a70185d",
   "metadata": {
    "ExecuteTime": {
     "end_time": "2021-11-03T12:59:31.774644Z",
     "start_time": "2021-11-03T12:59:31.605878Z"
    },
    "execution": {
     "iopub.execute_input": "2021-11-03T17:56:49.053351Z",
     "iopub.status.busy": "2021-11-03T17:56:49.052819Z",
     "iopub.status.idle": "2021-11-03T17:56:49.056924Z",
     "shell.execute_reply": "2021-11-03T17:56:49.056348Z"
    },
    "papermill": {
     "duration": 0.094915,
     "end_time": "2021-11-03T17:56:49.057063",
     "exception": false,
     "start_time": "2021-11-03T17:56:48.962148",
     "status": "completed"
    },
    "tags": []
   },
   "outputs": [],
   "source": [
    "# # get query\n",
    "# query = \"\"\"\n",
    "#         SELECT * FROM insiders\n",
    "# \"\"\"\n",
    "\n",
    "# df = pd.read_sql_query( query, conn)\n",
    "# df.head()"
   ]
  },
  {
   "cell_type": "code",
   "execution_count": null,
   "id": "77f685a3",
   "metadata": {
    "papermill": {
     "duration": 0.088532,
     "end_time": "2021-11-03T17:56:49.235438",
     "exception": false,
     "start_time": "2021-11-03T17:56:49.146906",
     "status": "completed"
    },
    "tags": []
   },
   "outputs": [],
   "source": []
  }
 ],
 "metadata": {
  "kernelspec": {
   "display_name": "Python 3 (ipykernel)",
   "language": "python",
   "name": "python3"
  },
  "language_info": {
   "codemirror_mode": {
    "name": "ipython",
    "version": 3
   },
   "file_extension": ".py",
   "mimetype": "text/x-python",
   "name": "python",
   "nbconvert_exporter": "python",
   "pygments_lexer": "ipython3",
   "version": "3.8.10"
  },
  "notify_time": "5",
  "papermill": {
   "default_parameters": {},
   "duration": 114.002758,
   "end_time": "2021-11-03T17:56:50.145813",
   "environment_variables": {},
   "exception": null,
   "input_path": "/home/leandro/repos/insiders_clustering/src/models/C11-lsf-Deploy.ipynb",
   "output_path": "/home/leandro/repos/insiders_clustering/reports/C11-lsf-Deploy_2021-11-03T14:54:55.ipynb",
   "parameters": {},
   "start_time": "2021-11-03T17:54:56.143055",
   "version": "2.3.3"
  },
  "toc": {
   "base_numbering": 1,
   "nav_menu": {},
   "number_sections": false,
   "sideBar": true,
   "skip_h1_title": false,
   "title_cell": "Table of Contents",
   "title_sidebar": "Contents",
   "toc_cell": false,
   "toc_position": {
    "height": "calc(100% - 180px)",
    "left": "10px",
    "top": "150px",
    "width": "253.675px"
   },
   "toc_section_display": true,
   "toc_window_display": false
  }
 },
 "nbformat": 4,
 "nbformat_minor": 5
}