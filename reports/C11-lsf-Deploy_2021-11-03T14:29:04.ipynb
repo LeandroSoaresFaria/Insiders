{
 "cells": [
  {
   "cell_type": "markdown",
   "id": "7a205c5f",
   "metadata": {
    "papermill": {
     "duration": 0.068808,
     "end_time": "2021-11-03T17:29:06.190192",
     "exception": false,
     "start_time": "2021-11-03T17:29:06.121384",
     "status": "completed"
    },
    "tags": []
   },
   "source": [
    "# PA005: High Value Customer Identification"
   ]
  },
  {
   "cell_type": "markdown",
   "id": "826ccf74",
   "metadata": {
    "ExecuteTime": {
     "end_time": "2021-09-25T00:30:39.760899Z",
     "start_time": "2021-09-25T00:30:39.757304Z"
    },
    "papermill": {
     "duration": 0.06322,
     "end_time": "2021-11-03T17:29:06.315942",
     "exception": false,
     "start_time": "2021-11-03T17:29:06.252722",
     "status": "completed"
    },
    "tags": []
   },
   "source": [
    "# 0.0 Imports"
   ]
  },
  {
   "cell_type": "code",
   "execution_count": 1,
   "id": "bibliographic-insulin",
   "metadata": {
    "ExecuteTime": {
     "end_time": "2021-11-03T12:58:01.634664Z",
     "start_time": "2021-11-03T12:57:54.668305Z"
    },
    "execution": {
     "iopub.execute_input": "2021-11-03T17:29:06.455788Z",
     "iopub.status.busy": "2021-11-03T17:29:06.455217Z",
     "iopub.status.idle": "2021-11-03T17:29:12.835096Z",
     "shell.execute_reply": "2021-11-03T17:29:12.836222Z"
    },
    "papermill": {
     "duration": 6.45877,
     "end_time": "2021-11-03T17:29:12.836721",
     "exception": false,
     "start_time": "2021-11-03T17:29:06.377951",
     "status": "completed"
    },
    "tags": []
   },
   "outputs": [],
   "source": [
    "import re\n",
    "import numpy   as np\n",
    "import pandas  as pd\n",
    "import seaborn as sns\n",
    "\n",
    "import umap.umap_ as umap\n",
    "\n",
    "from matplotlib import pyplot as plt\n",
    "\n",
    "\n",
    "from sklearn import cluster       as c\n",
    "from sklearn import metrics       as m\n",
    "from sklearn import ensemble      as en\n",
    "from sklearn import preprocessing as pp\n",
    "from sklearn import decomposition as dd\n",
    "from sklearn import manifold      as mn\n",
    "from sklearn import mixture       as mx\n",
    "\n",
    "from plotly import express as px"
   ]
  },
  {
   "cell_type": "markdown",
   "id": "19f2a6d6",
   "metadata": {
    "papermill": {
     "duration": 0.06107,
     "end_time": "2021-11-03T17:29:12.965266",
     "exception": false,
     "start_time": "2021-11-03T17:29:12.904196",
     "status": "completed"
    },
    "tags": []
   },
   "source": [
    "## 0.2. Load Dataset"
   ]
  },
  {
   "cell_type": "code",
   "execution_count": 2,
   "id": "2d64675e",
   "metadata": {
    "ExecuteTime": {
     "end_time": "2021-11-03T12:58:02.407671Z",
     "start_time": "2021-11-03T12:58:01.636496Z"
    },
    "execution": {
     "iopub.execute_input": "2021-11-03T17:29:13.096369Z",
     "iopub.status.busy": "2021-11-03T17:29:13.095691Z",
     "iopub.status.idle": "2021-11-03T17:29:13.819077Z",
     "shell.execute_reply": "2021-11-03T17:29:13.819898Z"
    },
    "papermill": {
     "duration": 0.793499,
     "end_time": "2021-11-03T17:29:13.820134",
     "exception": false,
     "start_time": "2021-11-03T17:29:13.026635",
     "status": "completed"
    },
    "tags": []
   },
   "outputs": [
    {
     "data": {
      "text/html": [
       "<div>\n",
       "<style scoped>\n",
       "    .dataframe tbody tr th:only-of-type {\n",
       "        vertical-align: middle;\n",
       "    }\n",
       "\n",
       "    .dataframe tbody tr th {\n",
       "        vertical-align: top;\n",
       "    }\n",
       "\n",
       "    .dataframe thead th {\n",
       "        text-align: right;\n",
       "    }\n",
       "</style>\n",
       "<table border=\"1\" class=\"dataframe\">\n",
       "  <thead>\n",
       "    <tr style=\"text-align: right;\">\n",
       "      <th></th>\n",
       "      <th>InvoiceNo</th>\n",
       "      <th>StockCode</th>\n",
       "      <th>Description</th>\n",
       "      <th>Quantity</th>\n",
       "      <th>InvoiceDate</th>\n",
       "      <th>UnitPrice</th>\n",
       "      <th>CustomerID</th>\n",
       "      <th>Country</th>\n",
       "    </tr>\n",
       "  </thead>\n",
       "  <tbody>\n",
       "    <tr>\n",
       "      <th>0</th>\n",
       "      <td>536365</td>\n",
       "      <td>85123A</td>\n",
       "      <td>WHITE HANGING HEART T-LIGHT HOLDER</td>\n",
       "      <td>6</td>\n",
       "      <td>29-Nov-16</td>\n",
       "      <td>2.55</td>\n",
       "      <td>17850.0</td>\n",
       "      <td>United Kingdom</td>\n",
       "    </tr>\n",
       "    <tr>\n",
       "      <th>1</th>\n",
       "      <td>536365</td>\n",
       "      <td>71053</td>\n",
       "      <td>WHITE METAL LANTERN</td>\n",
       "      <td>6</td>\n",
       "      <td>29-Nov-16</td>\n",
       "      <td>3.39</td>\n",
       "      <td>17850.0</td>\n",
       "      <td>United Kingdom</td>\n",
       "    </tr>\n",
       "    <tr>\n",
       "      <th>2</th>\n",
       "      <td>536365</td>\n",
       "      <td>84406B</td>\n",
       "      <td>CREAM CUPID HEARTS COAT HANGER</td>\n",
       "      <td>8</td>\n",
       "      <td>29-Nov-16</td>\n",
       "      <td>2.75</td>\n",
       "      <td>17850.0</td>\n",
       "      <td>United Kingdom</td>\n",
       "    </tr>\n",
       "    <tr>\n",
       "      <th>3</th>\n",
       "      <td>536365</td>\n",
       "      <td>84029G</td>\n",
       "      <td>KNITTED UNION FLAG HOT WATER BOTTLE</td>\n",
       "      <td>6</td>\n",
       "      <td>29-Nov-16</td>\n",
       "      <td>3.39</td>\n",
       "      <td>17850.0</td>\n",
       "      <td>United Kingdom</td>\n",
       "    </tr>\n",
       "    <tr>\n",
       "      <th>4</th>\n",
       "      <td>536365</td>\n",
       "      <td>84029E</td>\n",
       "      <td>RED WOOLLY HOTTIE WHITE HEART.</td>\n",
       "      <td>6</td>\n",
       "      <td>29-Nov-16</td>\n",
       "      <td>3.39</td>\n",
       "      <td>17850.0</td>\n",
       "      <td>United Kingdom</td>\n",
       "    </tr>\n",
       "  </tbody>\n",
       "</table>\n",
       "</div>"
      ],
      "text/plain": [
       "  InvoiceNo StockCode                          Description  Quantity  \\\n",
       "0    536365    85123A   WHITE HANGING HEART T-LIGHT HOLDER         6   \n",
       "1    536365     71053                  WHITE METAL LANTERN         6   \n",
       "2    536365    84406B       CREAM CUPID HEARTS COAT HANGER         8   \n",
       "3    536365    84029G  KNITTED UNION FLAG HOT WATER BOTTLE         6   \n",
       "4    536365    84029E       RED WOOLLY HOTTIE WHITE HEART.         6   \n",
       "\n",
       "  InvoiceDate  UnitPrice  CustomerID         Country  \n",
       "0   29-Nov-16       2.55     17850.0  United Kingdom  \n",
       "1   29-Nov-16       3.39     17850.0  United Kingdom  \n",
       "2   29-Nov-16       2.75     17850.0  United Kingdom  \n",
       "3   29-Nov-16       3.39     17850.0  United Kingdom  \n",
       "4   29-Nov-16       3.39     17850.0  United Kingdom  "
      ]
     },
     "execution_count": 2,
     "metadata": {},
     "output_type": "execute_result"
    }
   ],
   "source": [
    "# load data\n",
    "path = '/home/leandro/repos/insiders_clustering/'\n",
    "df_raw = pd.read_csv(path+'/data/raw/Ecommerce.csv')\n",
    "\n",
    "df_raw.head()"
   ]
  },
  {
   "cell_type": "markdown",
   "id": "d7c1c166",
   "metadata": {
    "papermill": {
     "duration": 0.061667,
     "end_time": "2021-11-03T17:29:13.948107",
     "exception": false,
     "start_time": "2021-11-03T17:29:13.886440",
     "status": "completed"
    },
    "tags": []
   },
   "source": [
    "# 1.0. Descrição dos dados"
   ]
  },
  {
   "cell_type": "code",
   "execution_count": 3,
   "id": "9cd3060b",
   "metadata": {
    "ExecuteTime": {
     "end_time": "2021-11-03T12:58:02.451731Z",
     "start_time": "2021-11-03T12:58:02.411633Z"
    },
    "execution": {
     "iopub.execute_input": "2021-11-03T17:29:14.079776Z",
     "iopub.status.busy": "2021-11-03T17:29:14.078770Z",
     "iopub.status.idle": "2021-11-03T17:29:14.116473Z",
     "shell.execute_reply": "2021-11-03T17:29:14.115578Z"
    },
    "papermill": {
     "duration": 0.106655,
     "end_time": "2021-11-03T17:29:14.116676",
     "exception": false,
     "start_time": "2021-11-03T17:29:14.010021",
     "status": "completed"
    },
    "tags": []
   },
   "outputs": [],
   "source": [
    "df1 = df_raw.copy()"
   ]
  },
  {
   "cell_type": "code",
   "execution_count": 4,
   "id": "1e39c86e",
   "metadata": {
    "ExecuteTime": {
     "end_time": "2021-11-03T12:58:02.517216Z",
     "start_time": "2021-11-03T12:58:02.453514Z"
    },
    "execution": {
     "iopub.execute_input": "2021-11-03T17:29:14.268893Z",
     "iopub.status.busy": "2021-11-03T17:29:14.267404Z",
     "iopub.status.idle": "2021-11-03T17:29:14.274681Z",
     "shell.execute_reply": "2021-11-03T17:29:14.273393Z"
    },
    "papermill": {
     "duration": 0.089045,
     "end_time": "2021-11-03T17:29:14.274966",
     "exception": false,
     "start_time": "2021-11-03T17:29:14.185921",
     "status": "completed"
    },
    "tags": []
   },
   "outputs": [
    {
     "data": {
      "text/html": [
       "<div>\n",
       "<style scoped>\n",
       "    .dataframe tbody tr th:only-of-type {\n",
       "        vertical-align: middle;\n",
       "    }\n",
       "\n",
       "    .dataframe tbody tr th {\n",
       "        vertical-align: top;\n",
       "    }\n",
       "\n",
       "    .dataframe thead th {\n",
       "        text-align: right;\n",
       "    }\n",
       "</style>\n",
       "<table border=\"1\" class=\"dataframe\">\n",
       "  <thead>\n",
       "    <tr style=\"text-align: right;\">\n",
       "      <th></th>\n",
       "      <th>InvoiceNo</th>\n",
       "      <th>StockCode</th>\n",
       "      <th>Description</th>\n",
       "      <th>Quantity</th>\n",
       "      <th>InvoiceDate</th>\n",
       "      <th>UnitPrice</th>\n",
       "      <th>CustomerID</th>\n",
       "      <th>Country</th>\n",
       "    </tr>\n",
       "  </thead>\n",
       "  <tbody>\n",
       "    <tr>\n",
       "      <th>0</th>\n",
       "      <td>536365</td>\n",
       "      <td>85123A</td>\n",
       "      <td>WHITE HANGING HEART T-LIGHT HOLDER</td>\n",
       "      <td>6</td>\n",
       "      <td>29-Nov-16</td>\n",
       "      <td>2.55</td>\n",
       "      <td>17850.0</td>\n",
       "      <td>United Kingdom</td>\n",
       "    </tr>\n",
       "    <tr>\n",
       "      <th>1</th>\n",
       "      <td>536365</td>\n",
       "      <td>71053</td>\n",
       "      <td>WHITE METAL LANTERN</td>\n",
       "      <td>6</td>\n",
       "      <td>29-Nov-16</td>\n",
       "      <td>3.39</td>\n",
       "      <td>17850.0</td>\n",
       "      <td>United Kingdom</td>\n",
       "    </tr>\n",
       "    <tr>\n",
       "      <th>2</th>\n",
       "      <td>536365</td>\n",
       "      <td>84406B</td>\n",
       "      <td>CREAM CUPID HEARTS COAT HANGER</td>\n",
       "      <td>8</td>\n",
       "      <td>29-Nov-16</td>\n",
       "      <td>2.75</td>\n",
       "      <td>17850.0</td>\n",
       "      <td>United Kingdom</td>\n",
       "    </tr>\n",
       "    <tr>\n",
       "      <th>3</th>\n",
       "      <td>536365</td>\n",
       "      <td>84029G</td>\n",
       "      <td>KNITTED UNION FLAG HOT WATER BOTTLE</td>\n",
       "      <td>6</td>\n",
       "      <td>29-Nov-16</td>\n",
       "      <td>3.39</td>\n",
       "      <td>17850.0</td>\n",
       "      <td>United Kingdom</td>\n",
       "    </tr>\n",
       "    <tr>\n",
       "      <th>4</th>\n",
       "      <td>536365</td>\n",
       "      <td>84029E</td>\n",
       "      <td>RED WOOLLY HOTTIE WHITE HEART.</td>\n",
       "      <td>6</td>\n",
       "      <td>29-Nov-16</td>\n",
       "      <td>3.39</td>\n",
       "      <td>17850.0</td>\n",
       "      <td>United Kingdom</td>\n",
       "    </tr>\n",
       "  </tbody>\n",
       "</table>\n",
       "</div>"
      ],
      "text/plain": [
       "  InvoiceNo StockCode                          Description  Quantity  \\\n",
       "0    536365    85123A   WHITE HANGING HEART T-LIGHT HOLDER         6   \n",
       "1    536365     71053                  WHITE METAL LANTERN         6   \n",
       "2    536365    84406B       CREAM CUPID HEARTS COAT HANGER         8   \n",
       "3    536365    84029G  KNITTED UNION FLAG HOT WATER BOTTLE         6   \n",
       "4    536365    84029E       RED WOOLLY HOTTIE WHITE HEART.         6   \n",
       "\n",
       "  InvoiceDate  UnitPrice  CustomerID         Country  \n",
       "0   29-Nov-16       2.55     17850.0  United Kingdom  \n",
       "1   29-Nov-16       3.39     17850.0  United Kingdom  \n",
       "2   29-Nov-16       2.75     17850.0  United Kingdom  \n",
       "3   29-Nov-16       3.39     17850.0  United Kingdom  \n",
       "4   29-Nov-16       3.39     17850.0  United Kingdom  "
      ]
     },
     "execution_count": 4,
     "metadata": {},
     "output_type": "execute_result"
    }
   ],
   "source": [
    "df1.head()"
   ]
  },
  {
   "cell_type": "markdown",
   "id": "983343d3",
   "metadata": {
    "papermill": {
     "duration": 0.063014,
     "end_time": "2021-11-03T17:29:14.407889",
     "exception": false,
     "start_time": "2021-11-03T17:29:14.344875",
     "status": "completed"
    },
    "tags": []
   },
   "source": [
    "## 1.1. Rename Columns"
   ]
  },
  {
   "cell_type": "code",
   "execution_count": 5,
   "id": "ea3e666b",
   "metadata": {
    "ExecuteTime": {
     "end_time": "2021-11-03T12:58:02.636296Z",
     "start_time": "2021-11-03T12:58:02.520284Z"
    },
    "execution": {
     "iopub.execute_input": "2021-11-03T17:29:14.543971Z",
     "iopub.status.busy": "2021-11-03T17:29:14.543442Z",
     "iopub.status.idle": "2021-11-03T17:29:14.578518Z",
     "shell.execute_reply": "2021-11-03T17:29:14.577764Z"
    },
    "papermill": {
     "duration": 0.106314,
     "end_time": "2021-11-03T17:29:14.578690",
     "exception": false,
     "start_time": "2021-11-03T17:29:14.472376",
     "status": "completed"
    },
    "tags": []
   },
   "outputs": [
    {
     "data": {
      "text/html": [
       "<div>\n",
       "<style scoped>\n",
       "    .dataframe tbody tr th:only-of-type {\n",
       "        vertical-align: middle;\n",
       "    }\n",
       "\n",
       "    .dataframe tbody tr th {\n",
       "        vertical-align: top;\n",
       "    }\n",
       "\n",
       "    .dataframe thead th {\n",
       "        text-align: right;\n",
       "    }\n",
       "</style>\n",
       "<table border=\"1\" class=\"dataframe\">\n",
       "  <thead>\n",
       "    <tr style=\"text-align: right;\">\n",
       "      <th></th>\n",
       "      <th>invoice_no</th>\n",
       "      <th>stock_code</th>\n",
       "      <th>description</th>\n",
       "      <th>quantity</th>\n",
       "      <th>invoice_date</th>\n",
       "      <th>unit_price</th>\n",
       "      <th>customer_id</th>\n",
       "      <th>country</th>\n",
       "    </tr>\n",
       "  </thead>\n",
       "  <tbody>\n",
       "    <tr>\n",
       "      <th>126382</th>\n",
       "      <td>547073</td>\n",
       "      <td>22383</td>\n",
       "      <td>LUNCH BAG SUKI DESIGN</td>\n",
       "      <td>2</td>\n",
       "      <td>18-Mar-17</td>\n",
       "      <td>1.65</td>\n",
       "      <td>17211.0</td>\n",
       "      <td>United Kingdom</td>\n",
       "    </tr>\n",
       "  </tbody>\n",
       "</table>\n",
       "</div>"
      ],
      "text/plain": [
       "       invoice_no stock_code             description  quantity invoice_date  \\\n",
       "126382     547073      22383  LUNCH BAG SUKI DESIGN          2    18-Mar-17   \n",
       "\n",
       "        unit_price  customer_id         country  \n",
       "126382        1.65      17211.0  United Kingdom  "
      ]
     },
     "execution_count": 5,
     "metadata": {},
     "output_type": "execute_result"
    }
   ],
   "source": [
    "# Rename Columns\n",
    "cols_new = ['invoice_no','stock_code','description','quantity','invoice_date','unit_price','customer_id','country']\n",
    "\n",
    "df1.columns = cols_new\n",
    "\n",
    "df1.sample()"
   ]
  },
  {
   "cell_type": "code",
   "execution_count": 6,
   "id": "9c862e0e",
   "metadata": {
    "ExecuteTime": {
     "end_time": "2021-11-03T12:58:02.710142Z",
     "start_time": "2021-11-03T12:58:02.638903Z"
    },
    "execution": {
     "iopub.execute_input": "2021-11-03T17:29:14.716876Z",
     "iopub.status.busy": "2021-11-03T17:29:14.715880Z",
     "iopub.status.idle": "2021-11-03T17:29:14.746736Z",
     "shell.execute_reply": "2021-11-03T17:29:14.745814Z"
    },
    "papermill": {
     "duration": 0.099957,
     "end_time": "2021-11-03T17:29:14.746935",
     "exception": false,
     "start_time": "2021-11-03T17:29:14.646978",
     "status": "completed"
    },
    "tags": []
   },
   "outputs": [
    {
     "data": {
      "text/html": [
       "<div>\n",
       "<style scoped>\n",
       "    .dataframe tbody tr th:only-of-type {\n",
       "        vertical-align: middle;\n",
       "    }\n",
       "\n",
       "    .dataframe tbody tr th {\n",
       "        vertical-align: top;\n",
       "    }\n",
       "\n",
       "    .dataframe thead th {\n",
       "        text-align: right;\n",
       "    }\n",
       "</style>\n",
       "<table border=\"1\" class=\"dataframe\">\n",
       "  <thead>\n",
       "    <tr style=\"text-align: right;\">\n",
       "      <th></th>\n",
       "      <th>InvoiceNo</th>\n",
       "      <th>StockCode</th>\n",
       "      <th>Description</th>\n",
       "      <th>Quantity</th>\n",
       "      <th>InvoiceDate</th>\n",
       "      <th>UnitPrice</th>\n",
       "      <th>CustomerID</th>\n",
       "      <th>Country</th>\n",
       "    </tr>\n",
       "  </thead>\n",
       "  <tbody>\n",
       "    <tr>\n",
       "      <th>257019</th>\n",
       "      <td>559507</td>\n",
       "      <td>22460</td>\n",
       "      <td>EMBOSSED GLASS TEALIGHT HOLDER</td>\n",
       "      <td>1</td>\n",
       "      <td>6-Jul-17</td>\n",
       "      <td>1.25</td>\n",
       "      <td>15920.0</td>\n",
       "      <td>United Kingdom</td>\n",
       "    </tr>\n",
       "  </tbody>\n",
       "</table>\n",
       "</div>"
      ],
      "text/plain": [
       "       InvoiceNo StockCode                     Description  Quantity  \\\n",
       "257019    559507     22460  EMBOSSED GLASS TEALIGHT HOLDER         1   \n",
       "\n",
       "       InvoiceDate  UnitPrice  CustomerID         Country  \n",
       "257019    6-Jul-17       1.25     15920.0  United Kingdom  "
      ]
     },
     "execution_count": 6,
     "metadata": {},
     "output_type": "execute_result"
    }
   ],
   "source": [
    "df_raw.sample()"
   ]
  },
  {
   "cell_type": "markdown",
   "id": "de813962",
   "metadata": {
    "papermill": {
     "duration": 0.066568,
     "end_time": "2021-11-03T17:29:14.883634",
     "exception": false,
     "start_time": "2021-11-03T17:29:14.817066",
     "status": "completed"
    },
    "tags": []
   },
   "source": [
    "## 1.2. Data Dimensions"
   ]
  },
  {
   "cell_type": "code",
   "execution_count": 7,
   "id": "04ddb36b",
   "metadata": {
    "ExecuteTime": {
     "end_time": "2021-11-03T12:58:02.829746Z",
     "start_time": "2021-11-03T12:58:02.712413Z"
    },
    "execution": {
     "iopub.execute_input": "2021-11-03T17:29:15.022546Z",
     "iopub.status.busy": "2021-11-03T17:29:15.021335Z",
     "iopub.status.idle": "2021-11-03T17:29:15.024995Z",
     "shell.execute_reply": "2021-11-03T17:29:15.025854Z"
    },
    "papermill": {
     "duration": 0.076957,
     "end_time": "2021-11-03T17:29:15.026136",
     "exception": false,
     "start_time": "2021-11-03T17:29:14.949179",
     "status": "completed"
    },
    "tags": []
   },
   "outputs": [
    {
     "name": "stdout",
     "output_type": "stream",
     "text": [
      "Number of rows: 541909\n",
      "Number of cols: 8\n"
     ]
    }
   ],
   "source": [
    "print( 'Number of rows: {}'.format ( df1.shape[0] ) )\n",
    "print( 'Number of cols: {}'.format ( df1.shape[1] ) )\n"
   ]
  },
  {
   "cell_type": "markdown",
   "id": "1b157e65",
   "metadata": {
    "papermill": {
     "duration": 0.068037,
     "end_time": "2021-11-03T17:29:15.165433",
     "exception": false,
     "start_time": "2021-11-03T17:29:15.097396",
     "status": "completed"
    },
    "tags": []
   },
   "source": [
    "## 1.3. Data Types"
   ]
  },
  {
   "cell_type": "code",
   "execution_count": 8,
   "id": "e55bae07",
   "metadata": {
    "ExecuteTime": {
     "end_time": "2021-11-03T12:58:02.900811Z",
     "start_time": "2021-11-03T12:58:02.834509Z"
    },
    "execution": {
     "iopub.execute_input": "2021-11-03T17:29:15.304787Z",
     "iopub.status.busy": "2021-11-03T17:29:15.303967Z",
     "iopub.status.idle": "2021-11-03T17:29:15.308713Z",
     "shell.execute_reply": "2021-11-03T17:29:15.307919Z"
    },
    "papermill": {
     "duration": 0.078104,
     "end_time": "2021-11-03T17:29:15.308874",
     "exception": false,
     "start_time": "2021-11-03T17:29:15.230770",
     "status": "completed"
    },
    "tags": []
   },
   "outputs": [
    {
     "data": {
      "text/plain": [
       "invoice_no       object\n",
       "stock_code       object\n",
       "description      object\n",
       "quantity          int64\n",
       "invoice_date     object\n",
       "unit_price      float64\n",
       "customer_id     float64\n",
       "country          object\n",
       "dtype: object"
      ]
     },
     "execution_count": 8,
     "metadata": {},
     "output_type": "execute_result"
    }
   ],
   "source": [
    "df1.dtypes"
   ]
  },
  {
   "cell_type": "markdown",
   "id": "f3adaa88",
   "metadata": {
    "papermill": {
     "duration": 0.064824,
     "end_time": "2021-11-03T17:29:15.441746",
     "exception": false,
     "start_time": "2021-11-03T17:29:15.376922",
     "status": "completed"
    },
    "tags": []
   },
   "source": [
    "## 1.4. Check NA"
   ]
  },
  {
   "cell_type": "code",
   "execution_count": 9,
   "id": "42cec6b4",
   "metadata": {
    "ExecuteTime": {
     "end_time": "2021-11-03T12:58:03.150046Z",
     "start_time": "2021-11-03T12:58:02.903921Z"
    },
    "execution": {
     "iopub.execute_input": "2021-11-03T17:29:15.580873Z",
     "iopub.status.busy": "2021-11-03T17:29:15.579422Z",
     "iopub.status.idle": "2021-11-03T17:29:15.733455Z",
     "shell.execute_reply": "2021-11-03T17:29:15.734283Z"
    },
    "papermill": {
     "duration": 0.227023,
     "end_time": "2021-11-03T17:29:15.734524",
     "exception": false,
     "start_time": "2021-11-03T17:29:15.507501",
     "status": "completed"
    },
    "tags": []
   },
   "outputs": [
    {
     "data": {
      "text/plain": [
       "invoice_no           0\n",
       "stock_code           0\n",
       "description       1454\n",
       "quantity             0\n",
       "invoice_date         0\n",
       "unit_price           0\n",
       "customer_id     135080\n",
       "country              0\n",
       "dtype: int64"
      ]
     },
     "execution_count": 9,
     "metadata": {},
     "output_type": "execute_result"
    }
   ],
   "source": [
    "df1.isna().sum()"
   ]
  },
  {
   "cell_type": "markdown",
   "id": "52a0e8f8",
   "metadata": {
    "papermill": {
     "duration": 0.065892,
     "end_time": "2021-11-03T17:29:15.869771",
     "exception": false,
     "start_time": "2021-11-03T17:29:15.803879",
     "status": "completed"
    },
    "tags": []
   },
   "source": [
    "## 1.5. Replace NA"
   ]
  },
  {
   "cell_type": "code",
   "execution_count": 10,
   "id": "7371c132",
   "metadata": {
    "ExecuteTime": {
     "end_time": "2021-11-03T12:58:03.222143Z",
     "start_time": "2021-11-03T12:58:03.151585Z"
    },
    "execution": {
     "iopub.execute_input": "2021-11-03T17:29:16.009128Z",
     "iopub.status.busy": "2021-11-03T17:29:16.007679Z",
     "iopub.status.idle": "2021-11-03T17:29:16.066724Z",
     "shell.execute_reply": "2021-11-03T17:29:16.067550Z"
    },
    "papermill": {
     "duration": 0.131883,
     "end_time": "2021-11-03T17:29:16.067792",
     "exception": false,
     "start_time": "2021-11-03T17:29:15.935909",
     "status": "completed"
    },
    "tags": []
   },
   "outputs": [],
   "source": [
    "df_missing = df1.loc[ df1['customer_id'].isna(), : ]\n",
    "df_not_missing = df1.loc[~df1['customer_id'].isna(), : ]"
   ]
  },
  {
   "cell_type": "code",
   "execution_count": 11,
   "id": "213b374f",
   "metadata": {
    "ExecuteTime": {
     "end_time": "2021-11-03T12:58:03.696295Z",
     "start_time": "2021-11-03T12:58:03.223919Z"
    },
    "execution": {
     "iopub.execute_input": "2021-11-03T17:29:16.221823Z",
     "iopub.status.busy": "2021-11-03T17:29:16.220353Z",
     "iopub.status.idle": "2021-11-03T17:29:16.614576Z",
     "shell.execute_reply": "2021-11-03T17:29:16.613268Z"
    },
    "papermill": {
     "duration": 0.475941,
     "end_time": "2021-11-03T17:29:16.614862",
     "exception": false,
     "start_time": "2021-11-03T17:29:16.138921",
     "status": "completed"
    },
    "tags": []
   },
   "outputs": [],
   "source": [
    "# Create Reference\n",
    "df_backup = pd.DataFrame( df_missing['invoice_no'].drop_duplicates())\n",
    "df_backup['customer_id'] = np.arange( 19000, 19000 +len( df_backup),1)\n",
    "\n",
    "# Merge original with reference dataframe\n",
    "df1 = pd.merge( df1, df_backup, on= 'invoice_no', how= 'left' )\n",
    "\n",
    "# Coalesce\n",
    "df1[ 'customer_id'] = df1['customer_id_x'].combine_first( df1[ 'customer_id_y' ] )\n",
    "\n",
    "# Drop extra columns\n",
    "\n",
    "df1 = df1.drop( columns = ['customer_id_x', 'customer_id_y'], axis = 1)\n"
   ]
  },
  {
   "cell_type": "code",
   "execution_count": 12,
   "id": "9a365e10",
   "metadata": {
    "ExecuteTime": {
     "end_time": "2021-11-03T12:58:03.861231Z",
     "start_time": "2021-11-03T12:58:03.698354Z"
    },
    "execution": {
     "iopub.execute_input": "2021-11-03T17:29:16.898721Z",
     "iopub.status.busy": "2021-11-03T17:29:16.897600Z",
     "iopub.status.idle": "2021-11-03T17:29:16.912406Z",
     "shell.execute_reply": "2021-11-03T17:29:16.911421Z"
    },
    "papermill": {
     "duration": 0.225929,
     "end_time": "2021-11-03T17:29:16.912608",
     "exception": false,
     "start_time": "2021-11-03T17:29:16.686679",
     "status": "completed"
    },
    "tags": []
   },
   "outputs": [
    {
     "data": {
      "text/plain": [
       "invoice_no         0\n",
       "stock_code         0\n",
       "description     1454\n",
       "quantity           0\n",
       "invoice_date       0\n",
       "unit_price         0\n",
       "country            0\n",
       "customer_id        0\n",
       "dtype: int64"
      ]
     },
     "execution_count": 12,
     "metadata": {},
     "output_type": "execute_result"
    }
   ],
   "source": [
    "df1.isna().sum()"
   ]
  },
  {
   "cell_type": "markdown",
   "id": "5a548499",
   "metadata": {
    "papermill": {
     "duration": 0.067941,
     "end_time": "2021-11-03T17:29:17.051131",
     "exception": false,
     "start_time": "2021-11-03T17:29:16.983190",
     "status": "completed"
    },
    "tags": []
   },
   "source": [
    "## 1.6. Change Dtypes"
   ]
  },
  {
   "cell_type": "code",
   "execution_count": 13,
   "id": "80a01e4e",
   "metadata": {
    "ExecuteTime": {
     "end_time": "2021-11-03T12:58:04.088421Z",
     "start_time": "2021-11-03T12:58:03.862902Z"
    },
    "execution": {
     "iopub.execute_input": "2021-11-03T17:29:17.223377Z",
     "iopub.status.busy": "2021-11-03T17:29:17.222757Z",
     "iopub.status.idle": "2021-11-03T17:29:17.321359Z",
     "shell.execute_reply": "2021-11-03T17:29:17.320816Z"
    },
    "papermill": {
     "duration": 0.204229,
     "end_time": "2021-11-03T17:29:17.321473",
     "exception": false,
     "start_time": "2021-11-03T17:29:17.117244",
     "status": "completed"
    },
    "scrolled": true,
    "tags": []
   },
   "outputs": [
    {
     "data": {
      "text/html": [
       "<div>\n",
       "<style scoped>\n",
       "    .dataframe tbody tr th:only-of-type {\n",
       "        vertical-align: middle;\n",
       "    }\n",
       "\n",
       "    .dataframe tbody tr th {\n",
       "        vertical-align: top;\n",
       "    }\n",
       "\n",
       "    .dataframe thead th {\n",
       "        text-align: right;\n",
       "    }\n",
       "</style>\n",
       "<table border=\"1\" class=\"dataframe\">\n",
       "  <thead>\n",
       "    <tr style=\"text-align: right;\">\n",
       "      <th></th>\n",
       "      <th>invoice_no</th>\n",
       "      <th>stock_code</th>\n",
       "      <th>description</th>\n",
       "      <th>quantity</th>\n",
       "      <th>invoice_date</th>\n",
       "      <th>unit_price</th>\n",
       "      <th>country</th>\n",
       "      <th>customer_id</th>\n",
       "    </tr>\n",
       "  </thead>\n",
       "  <tbody>\n",
       "    <tr>\n",
       "      <th>0</th>\n",
       "      <td>536365</td>\n",
       "      <td>85123A</td>\n",
       "      <td>WHITE HANGING HEART T-LIGHT HOLDER</td>\n",
       "      <td>6</td>\n",
       "      <td>2016-11-29</td>\n",
       "      <td>2.55</td>\n",
       "      <td>United Kingdom</td>\n",
       "      <td>17850</td>\n",
       "    </tr>\n",
       "    <tr>\n",
       "      <th>1</th>\n",
       "      <td>536365</td>\n",
       "      <td>71053</td>\n",
       "      <td>WHITE METAL LANTERN</td>\n",
       "      <td>6</td>\n",
       "      <td>2016-11-29</td>\n",
       "      <td>3.39</td>\n",
       "      <td>United Kingdom</td>\n",
       "      <td>17850</td>\n",
       "    </tr>\n",
       "    <tr>\n",
       "      <th>2</th>\n",
       "      <td>536365</td>\n",
       "      <td>84406B</td>\n",
       "      <td>CREAM CUPID HEARTS COAT HANGER</td>\n",
       "      <td>8</td>\n",
       "      <td>2016-11-29</td>\n",
       "      <td>2.75</td>\n",
       "      <td>United Kingdom</td>\n",
       "      <td>17850</td>\n",
       "    </tr>\n",
       "    <tr>\n",
       "      <th>3</th>\n",
       "      <td>536365</td>\n",
       "      <td>84029G</td>\n",
       "      <td>KNITTED UNION FLAG HOT WATER BOTTLE</td>\n",
       "      <td>6</td>\n",
       "      <td>2016-11-29</td>\n",
       "      <td>3.39</td>\n",
       "      <td>United Kingdom</td>\n",
       "      <td>17850</td>\n",
       "    </tr>\n",
       "    <tr>\n",
       "      <th>4</th>\n",
       "      <td>536365</td>\n",
       "      <td>84029E</td>\n",
       "      <td>RED WOOLLY HOTTIE WHITE HEART.</td>\n",
       "      <td>6</td>\n",
       "      <td>2016-11-29</td>\n",
       "      <td>3.39</td>\n",
       "      <td>United Kingdom</td>\n",
       "      <td>17850</td>\n",
       "    </tr>\n",
       "  </tbody>\n",
       "</table>\n",
       "</div>"
      ],
      "text/plain": [
       "  invoice_no stock_code                          description  quantity  \\\n",
       "0     536365     85123A   WHITE HANGING HEART T-LIGHT HOLDER         6   \n",
       "1     536365      71053                  WHITE METAL LANTERN         6   \n",
       "2     536365     84406B       CREAM CUPID HEARTS COAT HANGER         8   \n",
       "3     536365     84029G  KNITTED UNION FLAG HOT WATER BOTTLE         6   \n",
       "4     536365     84029E       RED WOOLLY HOTTIE WHITE HEART.         6   \n",
       "\n",
       "  invoice_date  unit_price         country  customer_id  \n",
       "0   2016-11-29        2.55  United Kingdom        17850  \n",
       "1   2016-11-29        3.39  United Kingdom        17850  \n",
       "2   2016-11-29        2.75  United Kingdom        17850  \n",
       "3   2016-11-29        3.39  United Kingdom        17850  \n",
       "4   2016-11-29        3.39  United Kingdom        17850  "
      ]
     },
     "execution_count": 13,
     "metadata": {},
     "output_type": "execute_result"
    }
   ],
   "source": [
    "# Invoice Date\n",
    "\n",
    "df1['invoice_date'] = pd.to_datetime( df1['invoice_date'], format = '%d-%b-%y')\n",
    "\n",
    "# Customer Id\n",
    "\n",
    "df1['customer_id'] = df1['customer_id'].astype(int)\n",
    "\n",
    "df1.head()"
   ]
  },
  {
   "cell_type": "code",
   "execution_count": 14,
   "id": "7052e51d",
   "metadata": {
    "ExecuteTime": {
     "end_time": "2021-11-03T12:58:04.097004Z",
     "start_time": "2021-11-03T12:58:04.090205Z"
    },
    "execution": {
     "iopub.execute_input": "2021-11-03T17:29:17.466133Z",
     "iopub.status.busy": "2021-11-03T17:29:17.465274Z",
     "iopub.status.idle": "2021-11-03T17:29:17.469764Z",
     "shell.execute_reply": "2021-11-03T17:29:17.469076Z"
    },
    "papermill": {
     "duration": 0.077696,
     "end_time": "2021-11-03T17:29:17.469901",
     "exception": false,
     "start_time": "2021-11-03T17:29:17.392205",
     "status": "completed"
    },
    "tags": []
   },
   "outputs": [
    {
     "data": {
      "text/plain": [
       "invoice_no              object\n",
       "stock_code              object\n",
       "description             object\n",
       "quantity                 int64\n",
       "invoice_date    datetime64[ns]\n",
       "unit_price             float64\n",
       "country                 object\n",
       "customer_id              int64\n",
       "dtype: object"
      ]
     },
     "execution_count": 14,
     "metadata": {},
     "output_type": "execute_result"
    }
   ],
   "source": [
    "df1.dtypes"
   ]
  },
  {
   "cell_type": "markdown",
   "id": "02ce9a0d",
   "metadata": {
    "papermill": {
     "duration": 0.070193,
     "end_time": "2021-11-03T17:29:17.614857",
     "exception": false,
     "start_time": "2021-11-03T17:29:17.544664",
     "status": "completed"
    },
    "tags": []
   },
   "source": [
    "## 1.7. Descriptive Statistics"
   ]
  },
  {
   "cell_type": "code",
   "execution_count": 15,
   "id": "8670247c",
   "metadata": {
    "ExecuteTime": {
     "end_time": "2021-11-03T12:58:04.219900Z",
     "start_time": "2021-11-03T12:58:04.099329Z"
    },
    "execution": {
     "iopub.execute_input": "2021-11-03T17:29:17.773209Z",
     "iopub.status.busy": "2021-11-03T17:29:17.771704Z",
     "iopub.status.idle": "2021-11-03T17:29:17.812163Z",
     "shell.execute_reply": "2021-11-03T17:29:17.812833Z"
    },
    "papermill": {
     "duration": 0.121939,
     "end_time": "2021-11-03T17:29:17.813034",
     "exception": false,
     "start_time": "2021-11-03T17:29:17.691095",
     "status": "completed"
    },
    "tags": []
   },
   "outputs": [],
   "source": [
    "num_attributes = df1.select_dtypes( include = [ 'int64', 'float64'] )\n",
    "cat_attributes = df1.select_dtypes( exclude = [ 'int64', 'float64','datetime64[ns]'])"
   ]
  },
  {
   "cell_type": "markdown",
   "id": "54a6f5d9",
   "metadata": {
    "papermill": {
     "duration": 0.072627,
     "end_time": "2021-11-03T17:29:17.958566",
     "exception": false,
     "start_time": "2021-11-03T17:29:17.885939",
     "status": "completed"
    },
    "tags": []
   },
   "source": [
    "### 1.7.1 Numerical Attributes"
   ]
  },
  {
   "cell_type": "code",
   "execution_count": 16,
   "id": "1b5116c4",
   "metadata": {
    "ExecuteTime": {
     "end_time": "2021-11-03T12:58:04.389889Z",
     "start_time": "2021-11-03T12:58:04.222851Z"
    },
    "execution": {
     "iopub.execute_input": "2021-11-03T17:29:18.114242Z",
     "iopub.status.busy": "2021-11-03T17:29:18.113199Z",
     "iopub.status.idle": "2021-11-03T17:29:18.251997Z",
     "shell.execute_reply": "2021-11-03T17:29:18.252588Z"
    },
    "papermill": {
     "duration": 0.219005,
     "end_time": "2021-11-03T17:29:18.252766",
     "exception": false,
     "start_time": "2021-11-03T17:29:18.033761",
     "status": "completed"
    },
    "scrolled": true,
    "tags": []
   },
   "outputs": [
    {
     "data": {
      "text/html": [
       "<div>\n",
       "<style scoped>\n",
       "    .dataframe tbody tr th:only-of-type {\n",
       "        vertical-align: middle;\n",
       "    }\n",
       "\n",
       "    .dataframe tbody tr th {\n",
       "        vertical-align: top;\n",
       "    }\n",
       "\n",
       "    .dataframe thead th {\n",
       "        text-align: right;\n",
       "    }\n",
       "</style>\n",
       "<table border=\"1\" class=\"dataframe\">\n",
       "  <thead>\n",
       "    <tr style=\"text-align: right;\">\n",
       "      <th></th>\n",
       "      <th>attributes</th>\n",
       "      <th>min</th>\n",
       "      <th>max</th>\n",
       "      <th>range</th>\n",
       "      <th>mean</th>\n",
       "      <th>mediana</th>\n",
       "      <th>std</th>\n",
       "      <th>skew</th>\n",
       "      <th>kurtosis</th>\n",
       "    </tr>\n",
       "  </thead>\n",
       "  <tbody>\n",
       "    <tr>\n",
       "      <th>0</th>\n",
       "      <td>quantity</td>\n",
       "      <td>-80995.00</td>\n",
       "      <td>80995.0</td>\n",
       "      <td>161990.00</td>\n",
       "      <td>9.552250</td>\n",
       "      <td>3.00</td>\n",
       "      <td>218.080957</td>\n",
       "      <td>-0.264076</td>\n",
       "      <td>119769.160031</td>\n",
       "    </tr>\n",
       "    <tr>\n",
       "      <th>1</th>\n",
       "      <td>unit_price</td>\n",
       "      <td>-11062.06</td>\n",
       "      <td>38970.0</td>\n",
       "      <td>50032.06</td>\n",
       "      <td>4.611121</td>\n",
       "      <td>2.08</td>\n",
       "      <td>96.759763</td>\n",
       "      <td>186.506973</td>\n",
       "      <td>59005.719804</td>\n",
       "    </tr>\n",
       "    <tr>\n",
       "      <th>2</th>\n",
       "      <td>customer_id</td>\n",
       "      <td>12346.00</td>\n",
       "      <td>22709.0</td>\n",
       "      <td>10363.00</td>\n",
       "      <td>16688.840453</td>\n",
       "      <td>16249.00</td>\n",
       "      <td>2911.408666</td>\n",
       "      <td>0.487449</td>\n",
       "      <td>-0.804287</td>\n",
       "    </tr>\n",
       "  </tbody>\n",
       "</table>\n",
       "</div>"
      ],
      "text/plain": [
       "    attributes       min      max      range          mean   mediana  \\\n",
       "0     quantity -80995.00  80995.0  161990.00      9.552250      3.00   \n",
       "1   unit_price -11062.06  38970.0   50032.06      4.611121      2.08   \n",
       "2  customer_id  12346.00  22709.0   10363.00  16688.840453  16249.00   \n",
       "\n",
       "           std        skew       kurtosis  \n",
       "0   218.080957   -0.264076  119769.160031  \n",
       "1    96.759763  186.506973   59005.719804  \n",
       "2  2911.408666    0.487449      -0.804287  "
      ]
     },
     "execution_count": 16,
     "metadata": {},
     "output_type": "execute_result"
    }
   ],
   "source": [
    "# Central tendency - mean, median\n",
    "ct1 = pd.DataFrame(num_attributes.apply( np.mean )).T\n",
    "ct2 = pd.DataFrame(num_attributes.apply( np.median )).T\n",
    "\n",
    "# Dispersion - desvio padrão, mínimo, máximo, range, skew, kurtosis\n",
    "d1 = pd.DataFrame( num_attributes.apply( np.std ) ).T\n",
    "d2 = pd.DataFrame( num_attributes.apply( np.min ) ).T\n",
    "d3 = pd.DataFrame( num_attributes.apply( np.max ) ).T\n",
    "d4 = pd.DataFrame( num_attributes.apply( lambda x: x.max( ) - x.min() ) ).T\n",
    "d5 = pd.DataFrame( num_attributes.apply( lambda x: x.skew( ) ) ).T\n",
    "d6 = pd.DataFrame( num_attributes.apply( lambda x: x.kurtosis() ) ).T\n",
    "\n",
    "\n",
    "# Concatenate\n",
    "\n",
    "m1 = pd.concat( [d2, d3, d4, ct1, ct2, d1, d5, d6] ).T.reset_index()\n",
    "m1.columns = ['attributes', 'min', 'max', 'range', 'mean', 'mediana', 'std', 'skew', 'kurtosis']\n",
    "m1"
   ]
  },
  {
   "cell_type": "markdown",
   "id": "03cb8eb6",
   "metadata": {
    "heading_collapsed": true,
    "papermill": {
     "duration": 0.069514,
     "end_time": "2021-11-03T17:29:18.397373",
     "exception": false,
     "start_time": "2021-11-03T17:29:18.327859",
     "status": "completed"
    },
    "tags": []
   },
   "source": [
    "### 1.7.2 Categorical Attributes"
   ]
  },
  {
   "cell_type": "code",
   "execution_count": 17,
   "id": "d9928262",
   "metadata": {
    "ExecuteTime": {
     "end_time": "2021-11-03T12:58:04.403383Z",
     "start_time": "2021-11-03T12:58:04.392161Z"
    },
    "execution": {
     "iopub.execute_input": "2021-11-03T17:29:18.552073Z",
     "iopub.status.busy": "2021-11-03T17:29:18.550562Z",
     "iopub.status.idle": "2021-11-03T17:29:18.555025Z",
     "shell.execute_reply": "2021-11-03T17:29:18.555665Z"
    },
    "hidden": true,
    "papermill": {
     "duration": 0.089353,
     "end_time": "2021-11-03T17:29:18.555860",
     "exception": false,
     "start_time": "2021-11-03T17:29:18.466507",
     "status": "completed"
    },
    "tags": []
   },
   "outputs": [
    {
     "data": {
      "text/html": [
       "<div>\n",
       "<style scoped>\n",
       "    .dataframe tbody tr th:only-of-type {\n",
       "        vertical-align: middle;\n",
       "    }\n",
       "\n",
       "    .dataframe tbody tr th {\n",
       "        vertical-align: top;\n",
       "    }\n",
       "\n",
       "    .dataframe thead th {\n",
       "        text-align: right;\n",
       "    }\n",
       "</style>\n",
       "<table border=\"1\" class=\"dataframe\">\n",
       "  <thead>\n",
       "    <tr style=\"text-align: right;\">\n",
       "      <th></th>\n",
       "      <th>invoice_no</th>\n",
       "      <th>stock_code</th>\n",
       "      <th>description</th>\n",
       "      <th>country</th>\n",
       "    </tr>\n",
       "  </thead>\n",
       "  <tbody>\n",
       "    <tr>\n",
       "      <th>0</th>\n",
       "      <td>536365</td>\n",
       "      <td>85123A</td>\n",
       "      <td>WHITE HANGING HEART T-LIGHT HOLDER</td>\n",
       "      <td>United Kingdom</td>\n",
       "    </tr>\n",
       "    <tr>\n",
       "      <th>1</th>\n",
       "      <td>536365</td>\n",
       "      <td>71053</td>\n",
       "      <td>WHITE METAL LANTERN</td>\n",
       "      <td>United Kingdom</td>\n",
       "    </tr>\n",
       "    <tr>\n",
       "      <th>2</th>\n",
       "      <td>536365</td>\n",
       "      <td>84406B</td>\n",
       "      <td>CREAM CUPID HEARTS COAT HANGER</td>\n",
       "      <td>United Kingdom</td>\n",
       "    </tr>\n",
       "    <tr>\n",
       "      <th>3</th>\n",
       "      <td>536365</td>\n",
       "      <td>84029G</td>\n",
       "      <td>KNITTED UNION FLAG HOT WATER BOTTLE</td>\n",
       "      <td>United Kingdom</td>\n",
       "    </tr>\n",
       "    <tr>\n",
       "      <th>4</th>\n",
       "      <td>536365</td>\n",
       "      <td>84029E</td>\n",
       "      <td>RED WOOLLY HOTTIE WHITE HEART.</td>\n",
       "      <td>United Kingdom</td>\n",
       "    </tr>\n",
       "  </tbody>\n",
       "</table>\n",
       "</div>"
      ],
      "text/plain": [
       "  invoice_no stock_code                          description         country\n",
       "0     536365     85123A   WHITE HANGING HEART T-LIGHT HOLDER  United Kingdom\n",
       "1     536365      71053                  WHITE METAL LANTERN  United Kingdom\n",
       "2     536365     84406B       CREAM CUPID HEARTS COAT HANGER  United Kingdom\n",
       "3     536365     84029G  KNITTED UNION FLAG HOT WATER BOTTLE  United Kingdom\n",
       "4     536365     84029E       RED WOOLLY HOTTIE WHITE HEART.  United Kingdom"
      ]
     },
     "execution_count": 17,
     "metadata": {},
     "output_type": "execute_result"
    }
   ],
   "source": [
    "cat_attributes.head()"
   ]
  },
  {
   "cell_type": "markdown",
   "id": "c7b502d2",
   "metadata": {
    "papermill": {
     "duration": 0.07007,
     "end_time": "2021-11-03T17:29:18.699585",
     "exception": false,
     "start_time": "2021-11-03T17:29:18.629515",
     "status": "completed"
    },
    "tags": []
   },
   "source": [
    "###  Invoice_No"
   ]
  },
  {
   "cell_type": "code",
   "execution_count": 18,
   "id": "77f095e3",
   "metadata": {
    "ExecuteTime": {
     "end_time": "2021-11-03T12:58:05.520400Z",
     "start_time": "2021-11-03T12:58:04.405245Z"
    },
    "execution": {
     "iopub.execute_input": "2021-11-03T17:29:18.851622Z",
     "iopub.status.busy": "2021-11-03T17:29:18.850581Z",
     "iopub.status.idle": "2021-11-03T17:29:19.834405Z",
     "shell.execute_reply": "2021-11-03T17:29:19.833517Z"
    },
    "papermill": {
     "duration": 1.064912,
     "end_time": "2021-11-03T17:29:19.834610",
     "exception": false,
     "start_time": "2021-11-03T17:29:18.769698",
     "status": "completed"
    },
    "tags": []
   },
   "outputs": [
    {
     "name": "stdout",
     "output_type": "stream",
     "text": [
      "Total number of invoices: 9291\n",
      "Total number of negative quantity: 9288\n"
     ]
    }
   ],
   "source": [
    "# Problema: Temos invoice com letras e números\n",
    "\n",
    "# Identificação >\n",
    "\n",
    "df_letter_invoices = df1.loc[df1['invoice_no'].apply( lambda x : bool( re.search( '[^0-9]+', x ) ) ), :]\n",
    "\n",
    "print('Total number of invoices: {}'.format( len( df_letter_invoices )))  \n",
    "print('Total number of negative quantity: {}'.format( len(df_letter_invoices[ df_letter_invoices['quantity'] < 0])))"
   ]
  },
  {
   "cell_type": "markdown",
   "id": "f3c89c3b",
   "metadata": {
    "papermill": {
     "duration": 0.071128,
     "end_time": "2021-11-03T17:29:19.981565",
     "exception": false,
     "start_time": "2021-11-03T17:29:19.910437",
     "status": "completed"
    },
    "tags": []
   },
   "source": [
    "### Stock Code"
   ]
  },
  {
   "cell_type": "code",
   "execution_count": 19,
   "id": "9406a884",
   "metadata": {
    "ExecuteTime": {
     "end_time": "2021-11-03T12:58:06.576033Z",
     "start_time": "2021-11-03T12:58:05.522312Z"
    },
    "execution": {
     "iopub.execute_input": "2021-11-03T17:29:20.131498Z",
     "iopub.status.busy": "2021-11-03T17:29:20.129979Z",
     "iopub.status.idle": "2021-11-03T17:29:21.099253Z",
     "shell.execute_reply": "2021-11-03T17:29:21.100065Z"
    },
    "papermill": {
     "duration": 1.047559,
     "end_time": "2021-11-03T17:29:21.100306",
     "exception": false,
     "start_time": "2021-11-03T17:29:20.052747",
     "status": "completed"
    },
    "tags": []
   },
   "outputs": [
    {
     "data": {
      "text/plain": [
       "array(['POST', 'D', 'DOT', 'M', 'S', 'AMAZONFEE', 'm', 'DCGSSBOY',\n",
       "       'DCGSSGIRL', 'PADS', 'B', 'CRUK'], dtype=object)"
      ]
     },
     "execution_count": 19,
     "metadata": {},
     "output_type": "execute_result"
    }
   ],
   "source": [
    "# Check stock codes only characters\n",
    "df1.loc[df1['stock_code'].apply( lambda x : bool( re.search( '^[a-zA-Z]+$', x ) ) ) ,'stock_code'].unique()\n",
    "\n",
    "# Ação:\n",
    "## 1. Remove stock_code in ['POST', 'D', 'M', 'PADS', 'DOT', 'CRUK']\n"
   ]
  },
  {
   "cell_type": "markdown",
   "id": "49ba9b5e",
   "metadata": {
    "papermill": {
     "duration": 0.099533,
     "end_time": "2021-11-03T17:29:21.274584",
     "exception": false,
     "start_time": "2021-11-03T17:29:21.175051",
     "status": "completed"
    },
    "tags": []
   },
   "source": [
    "### Description"
   ]
  },
  {
   "cell_type": "code",
   "execution_count": 20,
   "id": "360c5707",
   "metadata": {
    "ExecuteTime": {
     "end_time": "2021-11-03T12:58:06.593938Z",
     "start_time": "2021-11-03T12:58:06.578868Z"
    },
    "execution": {
     "iopub.execute_input": "2021-11-03T17:29:21.445408Z",
     "iopub.status.busy": "2021-11-03T17:29:21.444162Z",
     "iopub.status.idle": "2021-11-03T17:29:21.449727Z",
     "shell.execute_reply": "2021-11-03T17:29:21.448681Z"
    },
    "papermill": {
     "duration": 0.096151,
     "end_time": "2021-11-03T17:29:21.449902",
     "exception": false,
     "start_time": "2021-11-03T17:29:21.353751",
     "status": "completed"
    },
    "tags": []
   },
   "outputs": [
    {
     "data": {
      "text/html": [
       "<div>\n",
       "<style scoped>\n",
       "    .dataframe tbody tr th:only-of-type {\n",
       "        vertical-align: middle;\n",
       "    }\n",
       "\n",
       "    .dataframe tbody tr th {\n",
       "        vertical-align: top;\n",
       "    }\n",
       "\n",
       "    .dataframe thead th {\n",
       "        text-align: right;\n",
       "    }\n",
       "</style>\n",
       "<table border=\"1\" class=\"dataframe\">\n",
       "  <thead>\n",
       "    <tr style=\"text-align: right;\">\n",
       "      <th></th>\n",
       "      <th>invoice_no</th>\n",
       "      <th>stock_code</th>\n",
       "      <th>description</th>\n",
       "      <th>quantity</th>\n",
       "      <th>invoice_date</th>\n",
       "      <th>unit_price</th>\n",
       "      <th>country</th>\n",
       "      <th>customer_id</th>\n",
       "    </tr>\n",
       "  </thead>\n",
       "  <tbody>\n",
       "    <tr>\n",
       "      <th>0</th>\n",
       "      <td>536365</td>\n",
       "      <td>85123A</td>\n",
       "      <td>WHITE HANGING HEART T-LIGHT HOLDER</td>\n",
       "      <td>6</td>\n",
       "      <td>2016-11-29</td>\n",
       "      <td>2.55</td>\n",
       "      <td>United Kingdom</td>\n",
       "      <td>17850</td>\n",
       "    </tr>\n",
       "    <tr>\n",
       "      <th>1</th>\n",
       "      <td>536365</td>\n",
       "      <td>71053</td>\n",
       "      <td>WHITE METAL LANTERN</td>\n",
       "      <td>6</td>\n",
       "      <td>2016-11-29</td>\n",
       "      <td>3.39</td>\n",
       "      <td>United Kingdom</td>\n",
       "      <td>17850</td>\n",
       "    </tr>\n",
       "    <tr>\n",
       "      <th>2</th>\n",
       "      <td>536365</td>\n",
       "      <td>84406B</td>\n",
       "      <td>CREAM CUPID HEARTS COAT HANGER</td>\n",
       "      <td>8</td>\n",
       "      <td>2016-11-29</td>\n",
       "      <td>2.75</td>\n",
       "      <td>United Kingdom</td>\n",
       "      <td>17850</td>\n",
       "    </tr>\n",
       "    <tr>\n",
       "      <th>3</th>\n",
       "      <td>536365</td>\n",
       "      <td>84029G</td>\n",
       "      <td>KNITTED UNION FLAG HOT WATER BOTTLE</td>\n",
       "      <td>6</td>\n",
       "      <td>2016-11-29</td>\n",
       "      <td>3.39</td>\n",
       "      <td>United Kingdom</td>\n",
       "      <td>17850</td>\n",
       "    </tr>\n",
       "    <tr>\n",
       "      <th>4</th>\n",
       "      <td>536365</td>\n",
       "      <td>84029E</td>\n",
       "      <td>RED WOOLLY HOTTIE WHITE HEART.</td>\n",
       "      <td>6</td>\n",
       "      <td>2016-11-29</td>\n",
       "      <td>3.39</td>\n",
       "      <td>United Kingdom</td>\n",
       "      <td>17850</td>\n",
       "    </tr>\n",
       "  </tbody>\n",
       "</table>\n",
       "</div>"
      ],
      "text/plain": [
       "  invoice_no stock_code                          description  quantity  \\\n",
       "0     536365     85123A   WHITE HANGING HEART T-LIGHT HOLDER         6   \n",
       "1     536365      71053                  WHITE METAL LANTERN         6   \n",
       "2     536365     84406B       CREAM CUPID HEARTS COAT HANGER         8   \n",
       "3     536365     84029G  KNITTED UNION FLAG HOT WATER BOTTLE         6   \n",
       "4     536365     84029E       RED WOOLLY HOTTIE WHITE HEART.         6   \n",
       "\n",
       "  invoice_date  unit_price         country  customer_id  \n",
       "0   2016-11-29        2.55  United Kingdom        17850  \n",
       "1   2016-11-29        3.39  United Kingdom        17850  \n",
       "2   2016-11-29        2.75  United Kingdom        17850  \n",
       "3   2016-11-29        3.39  United Kingdom        17850  \n",
       "4   2016-11-29        3.39  United Kingdom        17850  "
      ]
     },
     "execution_count": 20,
     "metadata": {},
     "output_type": "execute_result"
    }
   ],
   "source": [
    "df1.head()\n",
    "\n",
    "#  Ação: Delete Description"
   ]
  },
  {
   "cell_type": "markdown",
   "id": "e6f7ae93",
   "metadata": {
    "papermill": {
     "duration": 0.073611,
     "end_time": "2021-11-03T17:29:21.604085",
     "exception": false,
     "start_time": "2021-11-03T17:29:21.530474",
     "status": "completed"
    },
    "tags": []
   },
   "source": [
    "### Country"
   ]
  },
  {
   "cell_type": "code",
   "execution_count": 21,
   "id": "8ae56214",
   "metadata": {
    "ExecuteTime": {
     "end_time": "2021-11-03T12:58:06.747830Z",
     "start_time": "2021-11-03T12:58:06.595458Z"
    },
    "execution": {
     "iopub.execute_input": "2021-11-03T17:29:21.785150Z",
     "iopub.status.busy": "2021-11-03T17:29:21.784535Z",
     "iopub.status.idle": "2021-11-03T17:29:21.805982Z",
     "shell.execute_reply": "2021-11-03T17:29:21.807143Z"
    },
    "papermill": {
     "duration": 0.126856,
     "end_time": "2021-11-03T17:29:21.807479",
     "exception": false,
     "start_time": "2021-11-03T17:29:21.680623",
     "status": "completed"
    },
    "tags": []
   },
   "outputs": [
    {
     "data": {
      "text/plain": [
       "array(['United Kingdom', 'France', 'Australia', 'Netherlands', 'Germany',\n",
       "       'Norway', 'EIRE', 'Switzerland', 'Spain', 'Poland', 'Portugal',\n",
       "       'Italy', 'Belgium', 'Lithuania', 'Japan', 'Iceland',\n",
       "       'Channel Islands', 'Denmark', 'Cyprus', 'Sweden', 'Austria',\n",
       "       'Israel', 'Finland', 'Bahrain', 'Greece', 'Hong Kong', 'Singapore',\n",
       "       'Lebanon', 'United Arab Emirates', 'Saudi Arabia',\n",
       "       'Czech Republic', 'Canada', 'Unspecified', 'Brazil', 'USA',\n",
       "       'European Community', 'Malta', 'RSA'], dtype=object)"
      ]
     },
     "execution_count": 21,
     "metadata": {},
     "output_type": "execute_result"
    }
   ],
   "source": [
    "df1['country'].unique()"
   ]
  },
  {
   "cell_type": "code",
   "execution_count": 22,
   "id": "6cee0c54",
   "metadata": {
    "ExecuteTime": {
     "end_time": "2021-11-03T12:58:06.838475Z",
     "start_time": "2021-11-03T12:58:06.751100Z"
    },
    "execution": {
     "iopub.execute_input": "2021-11-03T17:29:22.002997Z",
     "iopub.status.busy": "2021-11-03T17:29:22.002369Z",
     "iopub.status.idle": "2021-11-03T17:29:22.006173Z",
     "shell.execute_reply": "2021-11-03T17:29:22.006604Z"
    },
    "papermill": {
     "duration": 0.123869,
     "end_time": "2021-11-03T17:29:22.006747",
     "exception": false,
     "start_time": "2021-11-03T17:29:21.882878",
     "status": "completed"
    },
    "tags": []
   },
   "outputs": [
    {
     "data": {
      "text/plain": [
       "United Kingdom    0.914320\n",
       "Germany           0.017521\n",
       "France            0.015790\n",
       "EIRE              0.015124\n",
       "Spain             0.004674\n",
       "Name: country, dtype: float64"
      ]
     },
     "execution_count": 22,
     "metadata": {},
     "output_type": "execute_result"
    }
   ],
   "source": [
    "df1['country'].value_counts( normalize = True).head()"
   ]
  },
  {
   "cell_type": "code",
   "execution_count": 23,
   "id": "6b868511",
   "metadata": {
    "ExecuteTime": {
     "end_time": "2021-11-03T12:58:07.003666Z",
     "start_time": "2021-11-03T12:58:06.843148Z"
    },
    "execution": {
     "iopub.execute_input": "2021-11-03T17:29:22.168485Z",
     "iopub.status.busy": "2021-11-03T17:29:22.167061Z",
     "iopub.status.idle": "2021-11-03T17:29:22.255283Z",
     "shell.execute_reply": "2021-11-03T17:29:22.254753Z"
    },
    "papermill": {
     "duration": 0.173952,
     "end_time": "2021-11-03T17:29:22.255399",
     "exception": false,
     "start_time": "2021-11-03T17:29:22.081447",
     "status": "completed"
    },
    "tags": []
   },
   "outputs": [
    {
     "data": {
      "text/html": [
       "<div>\n",
       "<style scoped>\n",
       "    .dataframe tbody tr th:only-of-type {\n",
       "        vertical-align: middle;\n",
       "    }\n",
       "\n",
       "    .dataframe tbody tr th {\n",
       "        vertical-align: top;\n",
       "    }\n",
       "\n",
       "    .dataframe thead th {\n",
       "        text-align: right;\n",
       "    }\n",
       "</style>\n",
       "<table border=\"1\" class=\"dataframe\">\n",
       "  <thead>\n",
       "    <tr style=\"text-align: right;\">\n",
       "      <th></th>\n",
       "      <th>country</th>\n",
       "      <th>customer_id</th>\n",
       "    </tr>\n",
       "  </thead>\n",
       "  <tbody>\n",
       "    <tr>\n",
       "      <th>36</th>\n",
       "      <td>United Kingdom</td>\n",
       "      <td>7587</td>\n",
       "    </tr>\n",
       "    <tr>\n",
       "      <th>14</th>\n",
       "      <td>Germany</td>\n",
       "      <td>95</td>\n",
       "    </tr>\n",
       "    <tr>\n",
       "      <th>13</th>\n",
       "      <td>France</td>\n",
       "      <td>90</td>\n",
       "    </tr>\n",
       "    <tr>\n",
       "      <th>10</th>\n",
       "      <td>EIRE</td>\n",
       "      <td>44</td>\n",
       "    </tr>\n",
       "    <tr>\n",
       "      <th>31</th>\n",
       "      <td>Spain</td>\n",
       "      <td>31</td>\n",
       "    </tr>\n",
       "  </tbody>\n",
       "</table>\n",
       "</div>"
      ],
      "text/plain": [
       "           country  customer_id\n",
       "36  United Kingdom         7587\n",
       "14         Germany           95\n",
       "13          France           90\n",
       "10            EIRE           44\n",
       "31           Spain           31"
      ]
     },
     "execution_count": 23,
     "metadata": {},
     "output_type": "execute_result"
    }
   ],
   "source": [
    "df1[['customer_id','country']].drop_duplicates().groupby( 'country').count().reset_index().sort_values( 'customer_id', ascending = False).head()"
   ]
  },
  {
   "cell_type": "markdown",
   "id": "385c9cce",
   "metadata": {
    "papermill": {
     "duration": 0.072635,
     "end_time": "2021-11-03T17:29:22.403220",
     "exception": false,
     "start_time": "2021-11-03T17:29:22.330585",
     "status": "completed"
    },
    "tags": []
   },
   "source": [
    "# 2.0. Filtragem de Variáveis"
   ]
  },
  {
   "cell_type": "code",
   "execution_count": 24,
   "id": "92f8b5da",
   "metadata": {
    "ExecuteTime": {
     "end_time": "2021-11-03T12:58:07.028549Z",
     "start_time": "2021-11-03T12:58:07.006438Z"
    },
    "execution": {
     "iopub.execute_input": "2021-11-03T17:29:22.557406Z",
     "iopub.status.busy": "2021-11-03T17:29:22.556466Z",
     "iopub.status.idle": "2021-11-03T17:29:22.574721Z",
     "shell.execute_reply": "2021-11-03T17:29:22.575157Z"
    },
    "papermill": {
     "duration": 0.095843,
     "end_time": "2021-11-03T17:29:22.575301",
     "exception": false,
     "start_time": "2021-11-03T17:29:22.479458",
     "status": "completed"
    },
    "tags": []
   },
   "outputs": [],
   "source": [
    "df2 = df1.copy()"
   ]
  },
  {
   "cell_type": "code",
   "execution_count": 25,
   "id": "a926ec03",
   "metadata": {
    "ExecuteTime": {
     "end_time": "2021-11-03T12:58:07.089883Z",
     "start_time": "2021-11-03T12:58:07.030348Z"
    },
    "execution": {
     "iopub.execute_input": "2021-11-03T17:29:22.732111Z",
     "iopub.status.busy": "2021-11-03T17:29:22.731422Z",
     "iopub.status.idle": "2021-11-03T17:29:22.735702Z",
     "shell.execute_reply": "2021-11-03T17:29:22.736594Z"
    },
    "papermill": {
     "duration": 0.087553,
     "end_time": "2021-11-03T17:29:22.736894",
     "exception": false,
     "start_time": "2021-11-03T17:29:22.649341",
     "status": "completed"
    },
    "tags": []
   },
   "outputs": [
    {
     "data": {
      "text/plain": [
       "invoice_no              object\n",
       "stock_code              object\n",
       "description             object\n",
       "quantity                 int64\n",
       "invoice_date    datetime64[ns]\n",
       "unit_price             float64\n",
       "country                 object\n",
       "customer_id              int64\n",
       "dtype: object"
      ]
     },
     "execution_count": 25,
     "metadata": {},
     "output_type": "execute_result"
    }
   ],
   "source": [
    "df2.dtypes"
   ]
  },
  {
   "cell_type": "code",
   "execution_count": 26,
   "id": "8c676b9a",
   "metadata": {
    "ExecuteTime": {
     "end_time": "2021-11-03T12:58:07.589649Z",
     "start_time": "2021-11-03T12:58:07.092747Z"
    },
    "execution": {
     "iopub.execute_input": "2021-11-03T17:29:22.908123Z",
     "iopub.status.busy": "2021-11-03T17:29:22.907568Z",
     "iopub.status.idle": "2021-11-03T17:29:23.283842Z",
     "shell.execute_reply": "2021-11-03T17:29:23.282526Z"
    },
    "papermill": {
     "duration": 0.463893,
     "end_time": "2021-11-03T17:29:23.284132",
     "exception": false,
     "start_time": "2021-11-03T17:29:22.820239",
     "status": "completed"
    },
    "tags": []
   },
   "outputs": [],
   "source": [
    " # === Numerical attributes ====\n",
    "df2 = df2.loc[df2['unit_price'] >= 0.04, :]\n",
    "\n",
    "# === Categorical attributes ====\n",
    "df2 = df2[~df2['stock_code'].isin( ['POST', 'D', 'DOT', 'M', 'S', 'AMAZONFEE', 'm', 'DCGSSBOY',\n",
    "       'DCGSSGIRL', 'PADS', 'B', 'CRUK'], )]\n",
    "\n",
    "# description\n",
    "df2 = df2.drop( columns='description', axis=1 )\n",
    "\n",
    "# map \n",
    "df2 = df2[~df2['country'].isin( ['European Community', 'Unspecified' ] ) ]\n",
    "\n",
    "\n",
    "# bad users\n",
    "df2 = df2[~df2['customer_id'].isin( [16446] )]\n",
    "\n",
    "# quantity\n",
    "df2_returns = df2.loc[df1['quantity'] < 0, :]\n",
    "df2_purchases = df2.loc[df1['quantity'] >= 0, :]\n",
    "\n",
    "\n",
    "\n"
   ]
  },
  {
   "cell_type": "markdown",
   "id": "cb5e37dd",
   "metadata": {
    "papermill": {
     "duration": 0.07486,
     "end_time": "2021-11-03T17:29:23.439484",
     "exception": false,
     "start_time": "2021-11-03T17:29:23.364624",
     "status": "completed"
    },
    "tags": []
   },
   "source": [
    "# 3.0. Feature Engineering"
   ]
  },
  {
   "cell_type": "code",
   "execution_count": 27,
   "id": "16ca5569",
   "metadata": {
    "ExecuteTime": {
     "end_time": "2021-11-03T12:58:07.622900Z",
     "start_time": "2021-11-03T12:58:07.591806Z"
    },
    "execution": {
     "iopub.execute_input": "2021-11-03T17:29:23.628429Z",
     "iopub.status.busy": "2021-11-03T17:29:23.604637Z",
     "iopub.status.idle": "2021-11-03T17:29:23.640462Z",
     "shell.execute_reply": "2021-11-03T17:29:23.639442Z"
    },
    "papermill": {
     "duration": 0.119197,
     "end_time": "2021-11-03T17:29:23.640667",
     "exception": false,
     "start_time": "2021-11-03T17:29:23.521470",
     "status": "completed"
    },
    "tags": []
   },
   "outputs": [],
   "source": [
    "df3 = df2.copy()"
   ]
  },
  {
   "cell_type": "markdown",
   "id": "cc09a4a0",
   "metadata": {
    "papermill": {
     "duration": 0.07291,
     "end_time": "2021-11-03T17:29:23.793072",
     "exception": false,
     "start_time": "2021-11-03T17:29:23.720162",
     "status": "completed"
    },
    "tags": []
   },
   "source": [
    "## 3.1. Feature Creation"
   ]
  },
  {
   "cell_type": "code",
   "execution_count": 28,
   "id": "4c290e8e",
   "metadata": {
    "ExecuteTime": {
     "end_time": "2021-11-03T12:58:07.777772Z",
     "start_time": "2021-11-03T12:58:07.625371Z"
    },
    "execution": {
     "iopub.execute_input": "2021-11-03T17:29:23.961398Z",
     "iopub.status.busy": "2021-11-03T17:29:23.957724Z",
     "iopub.status.idle": "2021-11-03T17:29:23.993292Z",
     "shell.execute_reply": "2021-11-03T17:29:23.993755Z"
    },
    "papermill": {
     "duration": 0.121585,
     "end_time": "2021-11-03T17:29:23.993901",
     "exception": false,
     "start_time": "2021-11-03T17:29:23.872316",
     "status": "completed"
    },
    "scrolled": true,
    "tags": []
   },
   "outputs": [],
   "source": [
    "# Data Reference\n",
    "\n",
    "df_ref = df3.drop( ['invoice_no', 'stock_code', 'quantity', 'invoice_date', 'unit_price', 'country'], axis=1 ).drop_duplicates( ignore_index=True )"
   ]
  },
  {
   "cell_type": "markdown",
   "id": "8e61371e",
   "metadata": {
    "papermill": {
     "duration": 0.077354,
     "end_time": "2021-11-03T17:29:24.148162",
     "exception": false,
     "start_time": "2021-11-03T17:29:24.070808",
     "status": "completed"
    },
    "tags": []
   },
   "source": [
    "### 3.1.1 Gross Revenue"
   ]
  },
  {
   "cell_type": "code",
   "execution_count": 29,
   "id": "e86f14f0",
   "metadata": {
    "ExecuteTime": {
     "end_time": "2021-11-03T12:58:07.862848Z",
     "start_time": "2021-11-03T12:58:07.780368Z"
    },
    "execution": {
     "iopub.execute_input": "2021-11-03T17:29:24.329630Z",
     "iopub.status.busy": "2021-11-03T17:29:24.328781Z",
     "iopub.status.idle": "2021-11-03T17:29:24.381780Z",
     "shell.execute_reply": "2021-11-03T17:29:24.382539Z"
    },
    "papermill": {
     "duration": 0.148877,
     "end_time": "2021-11-03T17:29:24.382685",
     "exception": false,
     "start_time": "2021-11-03T17:29:24.233808",
     "status": "completed"
    },
    "tags": []
   },
   "outputs": [
    {
     "name": "stderr",
     "output_type": "stream",
     "text": [
      "/home/leandro/.pyenv/versions/pa005insiderscluestering/lib/python3.8/site-packages/pandas/core/indexing.py:1667: SettingWithCopyWarning: \n",
      "A value is trying to be set on a copy of a slice from a DataFrame.\n",
      "Try using .loc[row_indexer,col_indexer] = value instead\n",
      "\n",
      "See the caveats in the documentation: https://pandas.pydata.org/pandas-docs/stable/user_guide/indexing.html#returning-a-view-versus-a-copy\n",
      "  self.obj[key] = value\n"
     ]
    },
    {
     "data": {
      "text/plain": [
       "customer_id       0\n",
       "gross_revenue    91\n",
       "dtype: int64"
      ]
     },
     "execution_count": 29,
     "metadata": {},
     "output_type": "execute_result"
    }
   ],
   "source": [
    "# Gross Revenue ( Faturamento ) quantity * price\n",
    "df2_purchases.loc[:, 'gross_revenue'] = df2_purchases.loc[:, 'quantity'] * df2_purchases.loc[:, 'unit_price']\n",
    "\n",
    "# Monetary\n",
    "df_monetary = df2_purchases.loc[:, ['customer_id', 'gross_revenue']].groupby( 'customer_id' ).sum().reset_index()\n",
    "df_ref = pd.merge( df_ref, df_monetary, on='customer_id', how='left' )\n",
    "\n",
    "df_ref.isna().sum()"
   ]
  },
  {
   "cell_type": "markdown",
   "id": "5af5f7af",
   "metadata": {
    "papermill": {
     "duration": 0.075864,
     "end_time": "2021-11-03T17:29:24.538749",
     "exception": false,
     "start_time": "2021-11-03T17:29:24.462885",
     "status": "completed"
    },
    "tags": []
   },
   "source": [
    "### 3.1.2 Recency - Day from last purchase"
   ]
  },
  {
   "cell_type": "code",
   "execution_count": 30,
   "id": "ff2e8cb5",
   "metadata": {
    "ExecuteTime": {
     "end_time": "2021-11-03T12:58:07.962553Z",
     "start_time": "2021-11-03T12:58:07.865199Z"
    },
    "execution": {
     "iopub.execute_input": "2021-11-03T17:29:24.699356Z",
     "iopub.status.busy": "2021-11-03T17:29:24.698296Z",
     "iopub.status.idle": "2021-11-03T17:29:24.729804Z",
     "shell.execute_reply": "2021-11-03T17:29:24.729180Z"
    },
    "papermill": {
     "duration": 0.115244,
     "end_time": "2021-11-03T17:29:24.729944",
     "exception": false,
     "start_time": "2021-11-03T17:29:24.614700",
     "status": "completed"
    },
    "tags": []
   },
   "outputs": [
    {
     "data": {
      "text/plain": [
       "customer_id       0\n",
       "gross_revenue    91\n",
       "recency_days     91\n",
       "dtype: int64"
      ]
     },
     "execution_count": 30,
     "metadata": {},
     "output_type": "execute_result"
    }
   ],
   "source": [
    " # Recency - Last day purchase\n",
    "df_recency = df2_purchases.loc[:, ['customer_id', 'invoice_date']].groupby( 'customer_id' ).max().reset_index()\n",
    "df_recency['recency_days'] = ( df2['invoice_date'].max() - df_recency['invoice_date'] ).dt.days\n",
    "df_recency = df_recency[['customer_id', 'recency_days']].copy()\n",
    "df_ref = pd.merge( df_ref, df_recency, on='customer_id', how='left' )\n",
    "\n",
    "df_ref.isna().sum()"
   ]
  },
  {
   "cell_type": "markdown",
   "id": "c85eab19",
   "metadata": {
    "papermill": {
     "duration": 0.07579,
     "end_time": "2021-11-03T17:29:24.885403",
     "exception": false,
     "start_time": "2021-11-03T17:29:24.809613",
     "status": "completed"
    },
    "tags": []
   },
   "source": [
    "### 3.1.4.1 Quantity of products purchased"
   ]
  },
  {
   "cell_type": "code",
   "execution_count": 31,
   "id": "6df86f1d",
   "metadata": {
    "ExecuteTime": {
     "end_time": "2021-11-03T12:58:08.080008Z",
     "start_time": "2021-11-03T12:58:07.965263Z"
    },
    "execution": {
     "iopub.execute_input": "2021-11-03T17:29:25.048809Z",
     "iopub.status.busy": "2021-11-03T17:29:25.048262Z",
     "iopub.status.idle": "2021-11-03T17:29:25.121096Z",
     "shell.execute_reply": "2021-11-03T17:29:25.120062Z"
    },
    "papermill": {
     "duration": 0.158734,
     "end_time": "2021-11-03T17:29:25.121323",
     "exception": false,
     "start_time": "2021-11-03T17:29:24.962589",
     "status": "completed"
    },
    "tags": []
   },
   "outputs": [
    {
     "data": {
      "text/plain": [
       "customer_id       0\n",
       "gross_revenue    91\n",
       "recency_days     91\n",
       "qtde_products    91\n",
       "dtype: int64"
      ]
     },
     "execution_count": 31,
     "metadata": {},
     "output_type": "execute_result"
    }
   ],
   "source": [
    " # Numero de produtos\n",
    "df_freq = (df2_purchases.loc[:, ['customer_id', 'stock_code']].groupby( 'customer_id' ).count()\n",
    "                                                           .reset_index()\n",
    "                                                           .rename( columns={'stock_code': 'qtde_products'} ) )\n",
    "df_ref = pd.merge( df_ref, df_freq, on='customer_id', how='left' )\n",
    "df_ref.isna().sum()"
   ]
  },
  {
   "cell_type": "markdown",
   "id": "5a28fd4d",
   "metadata": {
    "papermill": {
     "duration": 0.084426,
     "end_time": "2021-11-03T17:29:25.294961",
     "exception": false,
     "start_time": "2021-11-03T17:29:25.210535",
     "status": "completed"
    },
    "tags": []
   },
   "source": [
    "### 3.1.7 Number of  returns"
   ]
  },
  {
   "cell_type": "code",
   "execution_count": 32,
   "id": "7eb52efe",
   "metadata": {
    "ExecuteTime": {
     "end_time": "2021-11-03T12:58:08.109199Z",
     "start_time": "2021-11-03T12:58:08.082170Z"
    },
    "execution": {
     "iopub.execute_input": "2021-11-03T17:29:25.469293Z",
     "iopub.status.busy": "2021-11-03T17:29:25.467767Z",
     "iopub.status.idle": "2021-11-03T17:29:25.482781Z",
     "shell.execute_reply": "2021-11-03T17:29:25.482096Z"
    },
    "papermill": {
     "duration": 0.105976,
     "end_time": "2021-11-03T17:29:25.482944",
     "exception": false,
     "start_time": "2021-11-03T17:29:25.376968",
     "status": "completed"
    },
    "tags": []
   },
   "outputs": [
    {
     "data": {
      "text/plain": [
       "customer_id       0\n",
       "gross_revenue    91\n",
       "recency_days     91\n",
       "qtde_products    91\n",
       "qtde_returns      0\n",
       "dtype: int64"
      ]
     },
     "execution_count": 32,
     "metadata": {},
     "output_type": "execute_result"
    }
   ],
   "source": [
    "# Number of Returns\n",
    "df_returns = df2_returns [[ 'customer_id', 'quantity']].groupby( 'customer_id').sum().reset_index().rename( columns ={'quantity': 'qtde_returns'} )\n",
    "df_returns['qtde_returns'] = df_returns['qtde_returns'] * -1\n",
    "\n",
    "df_ref = pd.merge( df_ref, df_returns, how = 'left', on= 'customer_id')\n",
    "df_ref.loc[ df_ref['qtde_returns'].isna(), 'qtde_returns'] = 0\n",
    "\n",
    "\n",
    "df_ref.isna().sum()"
   ]
  },
  {
   "cell_type": "code",
   "execution_count": 33,
   "id": "f8841083",
   "metadata": {
    "ExecuteTime": {
     "end_time": "2021-11-03T12:58:08.165461Z",
     "start_time": "2021-11-03T12:58:08.110848Z"
    },
    "execution": {
     "iopub.execute_input": "2021-11-03T17:29:25.656810Z",
     "iopub.status.busy": "2021-11-03T17:29:25.656017Z",
     "iopub.status.idle": "2021-11-03T17:29:25.667030Z",
     "shell.execute_reply": "2021-11-03T17:29:25.666051Z"
    },
    "papermill": {
     "duration": 0.101934,
     "end_time": "2021-11-03T17:29:25.667347",
     "exception": false,
     "start_time": "2021-11-03T17:29:25.565413",
     "status": "completed"
    },
    "tags": []
   },
   "outputs": [
    {
     "data": {
      "text/html": [
       "<div>\n",
       "<style scoped>\n",
       "    .dataframe tbody tr th:only-of-type {\n",
       "        vertical-align: middle;\n",
       "    }\n",
       "\n",
       "    .dataframe tbody tr th {\n",
       "        vertical-align: top;\n",
       "    }\n",
       "\n",
       "    .dataframe thead th {\n",
       "        text-align: right;\n",
       "    }\n",
       "</style>\n",
       "<table border=\"1\" class=\"dataframe\">\n",
       "  <thead>\n",
       "    <tr style=\"text-align: right;\">\n",
       "      <th></th>\n",
       "      <th>customer_id</th>\n",
       "      <th>qtde_returns</th>\n",
       "    </tr>\n",
       "  </thead>\n",
       "  <tbody>\n",
       "    <tr>\n",
       "      <th>0</th>\n",
       "      <td>12346</td>\n",
       "      <td>-74215</td>\n",
       "    </tr>\n",
       "    <tr>\n",
       "      <th>1</th>\n",
       "      <td>12352</td>\n",
       "      <td>-63</td>\n",
       "    </tr>\n",
       "    <tr>\n",
       "      <th>2</th>\n",
       "      <td>12359</td>\n",
       "      <td>-10</td>\n",
       "    </tr>\n",
       "    <tr>\n",
       "      <th>3</th>\n",
       "      <td>12362</td>\n",
       "      <td>-17</td>\n",
       "    </tr>\n",
       "    <tr>\n",
       "      <th>4</th>\n",
       "      <td>12375</td>\n",
       "      <td>-1</td>\n",
       "    </tr>\n",
       "    <tr>\n",
       "      <th>...</th>\n",
       "      <td>...</td>\n",
       "      <td>...</td>\n",
       "    </tr>\n",
       "    <tr>\n",
       "      <th>1590</th>\n",
       "      <td>22473</td>\n",
       "      <td>-1</td>\n",
       "    </tr>\n",
       "    <tr>\n",
       "      <th>1591</th>\n",
       "      <td>22485</td>\n",
       "      <td>-288</td>\n",
       "    </tr>\n",
       "    <tr>\n",
       "      <th>1592</th>\n",
       "      <td>22515</td>\n",
       "      <td>-324</td>\n",
       "    </tr>\n",
       "    <tr>\n",
       "      <th>1593</th>\n",
       "      <td>22610</td>\n",
       "      <td>-24</td>\n",
       "    </tr>\n",
       "    <tr>\n",
       "      <th>1594</th>\n",
       "      <td>22616</td>\n",
       "      <td>-2</td>\n",
       "    </tr>\n",
       "  </tbody>\n",
       "</table>\n",
       "<p>1595 rows × 2 columns</p>\n",
       "</div>"
      ],
      "text/plain": [
       "      customer_id  qtde_returns\n",
       "0           12346        -74215\n",
       "1           12352           -63\n",
       "2           12359           -10\n",
       "3           12362           -17\n",
       "4           12375            -1\n",
       "...           ...           ...\n",
       "1590        22473            -1\n",
       "1591        22485          -288\n",
       "1592        22515          -324\n",
       "1593        22610           -24\n",
       "1594        22616            -2\n",
       "\n",
       "[1595 rows x 2 columns]"
      ]
     },
     "execution_count": 33,
     "metadata": {},
     "output_type": "execute_result"
    }
   ],
   "source": [
    "# Number of Returns\n",
    "df2_returns [[ 'customer_id', 'quantity']].groupby( 'customer_id').sum().reset_index().rename( columns ={'quantity': 'qtde_returns'} )\n",
    "                 "
   ]
  },
  {
   "cell_type": "markdown",
   "id": "91668828",
   "metadata": {
    "papermill": {
     "duration": 0.076576,
     "end_time": "2021-11-03T17:29:25.829089",
     "exception": false,
     "start_time": "2021-11-03T17:29:25.752513",
     "status": "completed"
    },
    "tags": []
   },
   "source": [
    "### 3.1.10 Frequency Purchase"
   ]
  },
  {
   "cell_type": "code",
   "execution_count": 34,
   "id": "5270280a",
   "metadata": {
    "ExecuteTime": {
     "end_time": "2021-11-03T12:58:09.844949Z",
     "start_time": "2021-11-03T12:58:08.167458Z"
    },
    "execution": {
     "iopub.execute_input": "2021-11-03T17:29:26.002266Z",
     "iopub.status.busy": "2021-11-03T17:29:26.000928Z",
     "iopub.status.idle": "2021-11-03T17:29:27.592113Z",
     "shell.execute_reply": "2021-11-03T17:29:27.591468Z"
    },
    "papermill": {
     "duration": 1.684982,
     "end_time": "2021-11-03T17:29:27.592259",
     "exception": false,
     "start_time": "2021-11-03T17:29:25.907277",
     "status": "completed"
    },
    "tags": []
   },
   "outputs": [
    {
     "data": {
      "text/plain": [
       "customer_id       0\n",
       "gross_revenue    91\n",
       "recency_days     91\n",
       "qtde_products    91\n",
       "qtde_returns      0\n",
       "frequency        91\n",
       "dtype: int64"
      ]
     },
     "execution_count": 34,
     "metadata": {},
     "output_type": "execute_result"
    }
   ],
   "source": [
    "df_aux = (df2_purchases[['customer_id', 'invoice_no', 'invoice_date']].drop_duplicates()\n",
    "                                                            .groupby( 'customer_id')\n",
    "                                                            .agg( max_ = ( 'invoice_date', 'max' ),\n",
    "                                                                  min_ = ( 'invoice_date', 'min'),\n",
    "                                                                  days_ = ('invoice_date', lambda x : ( ( x.max()- x.min() ).days) + 1 ) ,\n",
    "                                                                  buy_ = ( 'invoice_no', 'count') ) ).reset_index()\n",
    "\n",
    "\n",
    "# Frequency\n",
    "df_aux['frequency'] = df_aux[['buy_', 'days_']].apply ( lambda x: x['buy_'] / x['days_'] if x['days_'] != 0 else 0, axis = 1)\n",
    "\n",
    "# Merge\n",
    "df_ref = pd.merge( df_ref, df_aux[['customer_id', 'frequency']], on = 'customer_id', how = 'left')\n",
    "\n",
    "df_ref.isna().sum()"
   ]
  },
  {
   "cell_type": "code",
   "execution_count": 35,
   "id": "7727eedb",
   "metadata": {
    "ExecuteTime": {
     "end_time": "2021-11-03T12:58:09.864194Z",
     "start_time": "2021-11-03T12:58:09.846431Z"
    },
    "execution": {
     "iopub.execute_input": "2021-11-03T17:29:27.782921Z",
     "iopub.status.busy": "2021-11-03T17:29:27.782326Z",
     "iopub.status.idle": "2021-11-03T17:29:27.786063Z",
     "shell.execute_reply": "2021-11-03T17:29:27.786527Z"
    },
    "papermill": {
     "duration": 0.101126,
     "end_time": "2021-11-03T17:29:27.786666",
     "exception": false,
     "start_time": "2021-11-03T17:29:27.685540",
     "status": "completed"
    },
    "tags": []
   },
   "outputs": [
    {
     "data": {
      "text/html": [
       "<div>\n",
       "<style scoped>\n",
       "    .dataframe tbody tr th:only-of-type {\n",
       "        vertical-align: middle;\n",
       "    }\n",
       "\n",
       "    .dataframe tbody tr th {\n",
       "        vertical-align: top;\n",
       "    }\n",
       "\n",
       "    .dataframe thead th {\n",
       "        text-align: right;\n",
       "    }\n",
       "</style>\n",
       "<table border=\"1\" class=\"dataframe\">\n",
       "  <thead>\n",
       "    <tr style=\"text-align: right;\">\n",
       "      <th></th>\n",
       "      <th>customer_id</th>\n",
       "      <th>gross_revenue</th>\n",
       "      <th>recency_days</th>\n",
       "      <th>qtde_products</th>\n",
       "      <th>qtde_returns</th>\n",
       "      <th>frequency</th>\n",
       "    </tr>\n",
       "  </thead>\n",
       "  <tbody>\n",
       "    <tr>\n",
       "      <th>0</th>\n",
       "      <td>17850</td>\n",
       "      <td>5391.21</td>\n",
       "      <td>372.0</td>\n",
       "      <td>297.0</td>\n",
       "      <td>40.0</td>\n",
       "      <td>17.000000</td>\n",
       "    </tr>\n",
       "    <tr>\n",
       "      <th>1</th>\n",
       "      <td>13047</td>\n",
       "      <td>3232.59</td>\n",
       "      <td>56.0</td>\n",
       "      <td>171.0</td>\n",
       "      <td>35.0</td>\n",
       "      <td>0.028302</td>\n",
       "    </tr>\n",
       "    <tr>\n",
       "      <th>2</th>\n",
       "      <td>12583</td>\n",
       "      <td>6705.38</td>\n",
       "      <td>2.0</td>\n",
       "      <td>232.0</td>\n",
       "      <td>50.0</td>\n",
       "      <td>0.040323</td>\n",
       "    </tr>\n",
       "    <tr>\n",
       "      <th>3</th>\n",
       "      <td>13748</td>\n",
       "      <td>948.25</td>\n",
       "      <td>95.0</td>\n",
       "      <td>28.0</td>\n",
       "      <td>0.0</td>\n",
       "      <td>0.017921</td>\n",
       "    </tr>\n",
       "    <tr>\n",
       "      <th>4</th>\n",
       "      <td>15100</td>\n",
       "      <td>876.00</td>\n",
       "      <td>333.0</td>\n",
       "      <td>3.0</td>\n",
       "      <td>22.0</td>\n",
       "      <td>0.073171</td>\n",
       "    </tr>\n",
       "  </tbody>\n",
       "</table>\n",
       "</div>"
      ],
      "text/plain": [
       "   customer_id  gross_revenue  recency_days  qtde_products  qtde_returns  \\\n",
       "0        17850        5391.21         372.0          297.0          40.0   \n",
       "1        13047        3232.59          56.0          171.0          35.0   \n",
       "2        12583        6705.38           2.0          232.0          50.0   \n",
       "3        13748         948.25          95.0           28.0           0.0   \n",
       "4        15100         876.00         333.0            3.0          22.0   \n",
       "\n",
       "   frequency  \n",
       "0  17.000000  \n",
       "1   0.028302  \n",
       "2   0.040323  \n",
       "3   0.017921  \n",
       "4   0.073171  "
      ]
     },
     "execution_count": 35,
     "metadata": {},
     "output_type": "execute_result"
    }
   ],
   "source": [
    "df_ref.head()"
   ]
  },
  {
   "cell_type": "markdown",
   "id": "02e0625f",
   "metadata": {
    "papermill": {
     "duration": 0.079611,
     "end_time": "2021-11-03T17:29:27.948246",
     "exception": false,
     "start_time": "2021-11-03T17:29:27.868635",
     "status": "completed"
    },
    "tags": []
   },
   "source": [
    "# 4.0. Exploratory Data Analysis"
   ]
  },
  {
   "cell_type": "code",
   "execution_count": 36,
   "id": "f92583af",
   "metadata": {
    "ExecuteTime": {
     "end_time": "2021-11-03T12:58:09.977658Z",
     "start_time": "2021-11-03T12:58:09.866474Z"
    },
    "execution": {
     "iopub.execute_input": "2021-11-03T17:29:28.113913Z",
     "iopub.status.busy": "2021-11-03T17:29:28.113371Z",
     "iopub.status.idle": "2021-11-03T17:29:28.122997Z",
     "shell.execute_reply": "2021-11-03T17:29:28.121727Z"
    },
    "papermill": {
     "duration": 0.094589,
     "end_time": "2021-11-03T17:29:28.123318",
     "exception": false,
     "start_time": "2021-11-03T17:29:28.028729",
     "status": "completed"
    },
    "tags": []
   },
   "outputs": [],
   "source": [
    "df4 = df_ref.dropna()\n"
   ]
  },
  {
   "cell_type": "markdown",
   "id": "ad9512ea",
   "metadata": {
    "papermill": {
     "duration": 0.078999,
     "end_time": "2021-11-03T17:29:28.286038",
     "exception": false,
     "start_time": "2021-11-03T17:29:28.207039",
     "status": "completed"
    },
    "tags": []
   },
   "source": [
    "## 4.3 Estudo do Espaço"
   ]
  },
  {
   "cell_type": "code",
   "execution_count": 37,
   "id": "d09f4565",
   "metadata": {
    "ExecuteTime": {
     "end_time": "2021-11-03T12:58:10.059164Z",
     "start_time": "2021-11-03T12:58:09.980100Z"
    },
    "execution": {
     "iopub.execute_input": "2021-11-03T17:29:28.459853Z",
     "iopub.status.busy": "2021-11-03T17:29:28.458199Z",
     "iopub.status.idle": "2021-11-03T17:29:28.461669Z",
     "shell.execute_reply": "2021-11-03T17:29:28.462555Z"
    },
    "papermill": {
     "duration": 0.097409,
     "end_time": "2021-11-03T17:29:28.462859",
     "exception": false,
     "start_time": "2021-11-03T17:29:28.365450",
     "status": "completed"
    },
    "tags": []
   },
   "outputs": [],
   "source": [
    "# Selected dataset\n",
    "cols_selected = ['customer_id', 'gross_revenue', 'recency_days', 'qtde_products', 'frequency', 'qtde_returns']\n",
    "df43 = df4[cols_selected].drop( columns = 'customer_id', axis = 1)"
   ]
  },
  {
   "cell_type": "code",
   "execution_count": 38,
   "id": "ac648d55",
   "metadata": {
    "ExecuteTime": {
     "end_time": "2021-11-03T12:58:10.154382Z",
     "start_time": "2021-11-03T12:58:10.061769Z"
    },
    "execution": {
     "iopub.execute_input": "2021-11-03T17:29:28.643266Z",
     "iopub.status.busy": "2021-11-03T17:29:28.641721Z",
     "iopub.status.idle": "2021-11-03T17:29:28.647749Z",
     "shell.execute_reply": "2021-11-03T17:29:28.648903Z"
    },
    "papermill": {
     "duration": 0.106265,
     "end_time": "2021-11-03T17:29:28.649236",
     "exception": false,
     "start_time": "2021-11-03T17:29:28.542971",
     "status": "completed"
    },
    "tags": []
   },
   "outputs": [
    {
     "data": {
      "text/html": [
       "<div>\n",
       "<style scoped>\n",
       "    .dataframe tbody tr th:only-of-type {\n",
       "        vertical-align: middle;\n",
       "    }\n",
       "\n",
       "    .dataframe tbody tr th {\n",
       "        vertical-align: top;\n",
       "    }\n",
       "\n",
       "    .dataframe thead th {\n",
       "        text-align: right;\n",
       "    }\n",
       "</style>\n",
       "<table border=\"1\" class=\"dataframe\">\n",
       "  <thead>\n",
       "    <tr style=\"text-align: right;\">\n",
       "      <th></th>\n",
       "      <th>gross_revenue</th>\n",
       "      <th>recency_days</th>\n",
       "      <th>qtde_products</th>\n",
       "      <th>frequency</th>\n",
       "      <th>qtde_returns</th>\n",
       "    </tr>\n",
       "  </thead>\n",
       "  <tbody>\n",
       "    <tr>\n",
       "      <th>0</th>\n",
       "      <td>5391.21</td>\n",
       "      <td>372.0</td>\n",
       "      <td>297.0</td>\n",
       "      <td>17.000000</td>\n",
       "      <td>40.0</td>\n",
       "    </tr>\n",
       "    <tr>\n",
       "      <th>1</th>\n",
       "      <td>3232.59</td>\n",
       "      <td>56.0</td>\n",
       "      <td>171.0</td>\n",
       "      <td>0.028302</td>\n",
       "      <td>35.0</td>\n",
       "    </tr>\n",
       "    <tr>\n",
       "      <th>2</th>\n",
       "      <td>6705.38</td>\n",
       "      <td>2.0</td>\n",
       "      <td>232.0</td>\n",
       "      <td>0.040323</td>\n",
       "      <td>50.0</td>\n",
       "    </tr>\n",
       "    <tr>\n",
       "      <th>3</th>\n",
       "      <td>948.25</td>\n",
       "      <td>95.0</td>\n",
       "      <td>28.0</td>\n",
       "      <td>0.017921</td>\n",
       "      <td>0.0</td>\n",
       "    </tr>\n",
       "    <tr>\n",
       "      <th>4</th>\n",
       "      <td>876.00</td>\n",
       "      <td>333.0</td>\n",
       "      <td>3.0</td>\n",
       "      <td>0.073171</td>\n",
       "      <td>22.0</td>\n",
       "    </tr>\n",
       "  </tbody>\n",
       "</table>\n",
       "</div>"
      ],
      "text/plain": [
       "   gross_revenue  recency_days  qtde_products  frequency  qtde_returns\n",
       "0        5391.21         372.0          297.0  17.000000          40.0\n",
       "1        3232.59          56.0          171.0   0.028302          35.0\n",
       "2        6705.38           2.0          232.0   0.040323          50.0\n",
       "3         948.25          95.0           28.0   0.017921           0.0\n",
       "4         876.00         333.0            3.0   0.073171          22.0"
      ]
     },
     "execution_count": 38,
     "metadata": {},
     "output_type": "execute_result"
    }
   ],
   "source": [
    "df43.head()"
   ]
  },
  {
   "cell_type": "code",
   "execution_count": 39,
   "id": "e9e6b160",
   "metadata": {
    "ExecuteTime": {
     "end_time": "2021-11-03T12:58:10.255102Z",
     "start_time": "2021-11-03T12:58:10.157247Z"
    },
    "execution": {
     "iopub.execute_input": "2021-11-03T17:29:28.822954Z",
     "iopub.status.busy": "2021-11-03T17:29:28.817213Z",
     "iopub.status.idle": "2021-11-03T17:29:28.847221Z",
     "shell.execute_reply": "2021-11-03T17:29:28.847692Z"
    },
    "papermill": {
     "duration": 0.114184,
     "end_time": "2021-11-03T17:29:28.847835",
     "exception": false,
     "start_time": "2021-11-03T17:29:28.733651",
     "status": "completed"
    },
    "tags": []
   },
   "outputs": [],
   "source": [
    "mm = pp.MinMaxScaler()\n",
    "\n",
    "#\n",
    "df43[ 'gross_revenue' ]        = mm.fit_transform( df43 [['gross_revenue']])\n",
    "df43[ 'recency_days' ]         = mm.fit_transform( df43[['recency_days']])\n",
    "df43['qtde_products']          = mm.fit_transform( df43[['qtde_products']])\n",
    "df43['qtde_returns']           = mm.fit_transform( df43[['qtde_returns']])\n",
    "df43['frequency']              = mm.fit_transform( df43[['frequency']])\n"
   ]
  },
  {
   "cell_type": "markdown",
   "id": "668df9fb",
   "metadata": {
    "papermill": {
     "duration": 0.084126,
     "end_time": "2021-11-03T17:29:29.020152",
     "exception": false,
     "start_time": "2021-11-03T17:29:28.936026",
     "status": "completed"
    },
    "tags": []
   },
   "source": [
    "### 4.3.4 Tree-Based embedding"
   ]
  },
  {
   "cell_type": "code",
   "execution_count": 40,
   "id": "612ca9da",
   "metadata": {
    "ExecuteTime": {
     "end_time": "2021-11-03T12:58:12.227810Z",
     "start_time": "2021-11-03T12:58:10.258116Z"
    },
    "execution": {
     "iopub.execute_input": "2021-11-03T17:29:29.194084Z",
     "iopub.status.busy": "2021-11-03T17:29:29.191548Z",
     "iopub.status.idle": "2021-11-03T17:29:31.073991Z",
     "shell.execute_reply": "2021-11-03T17:29:31.073096Z"
    },
    "papermill": {
     "duration": 1.972991,
     "end_time": "2021-11-03T17:29:31.074195",
     "exception": false,
     "start_time": "2021-11-03T17:29:29.101204",
     "status": "completed"
    },
    "tags": []
   },
   "outputs": [],
   "source": [
    "# Training dataset\n",
    "\n",
    "X = df43.drop( columns = [ 'gross_revenue'], axis = 1 )\n",
    "y = df43['gross_revenue']\n",
    "\n",
    "# Model definittion\n",
    "rf_model = en.RandomForestRegressor ( n_estimators = 100, random_state= 42)\n",
    "\n",
    "# Model trainning\n",
    "rf_model.fit( X,y)\n",
    "\n",
    "#Leaf\n",
    "df_leaf = pd.DataFrame( rf_model.apply( X ) )\n",
    "\n",
    "# DataFrame Leaf\n",
    "\n"
   ]
  },
  {
   "cell_type": "code",
   "execution_count": 41,
   "id": "40d3af92",
   "metadata": {
    "ExecuteTime": {
     "end_time": "2021-11-03T12:58:40.355874Z",
     "start_time": "2021-11-03T12:58:12.230056Z"
    },
    "execution": {
     "iopub.execute_input": "2021-11-03T17:29:31.253487Z",
     "iopub.status.busy": "2021-11-03T17:29:31.252053Z",
     "iopub.status.idle": "2021-11-03T17:30:02.331418Z",
     "shell.execute_reply": "2021-11-03T17:30:02.332219Z"
    },
    "papermill": {
     "duration": 31.172187,
     "end_time": "2021-11-03T17:30:02.332402",
     "exception": false,
     "start_time": "2021-11-03T17:29:31.160215",
     "status": "completed"
    },
    "tags": []
   },
   "outputs": [
    {
     "name": "stderr",
     "output_type": "stream",
     "text": [
      "/home/leandro/.pyenv/versions/pa005insiderscluestering/lib/python3.8/site-packages/sklearn/manifold/_spectral_embedding.py:260: UserWarning: Graph is not fully connected, spectral embedding may not work as expected.\n",
      "  warnings.warn(\n"
     ]
    }
   ],
   "source": [
    "# Reduzer dimensionality\n",
    "reducer = umap.UMAP( random_state=42 )\n",
    "embedding = reducer.fit_transform( df_leaf )\n",
    "\n",
    "# embedding\n",
    "df_tree = pd.DataFrame()\n",
    "df_tree['embedding_x'] = embedding[:, 0]\n",
    "df_tree['embedding_y'] = embedding[:, 1]\n"
   ]
  },
  {
   "cell_type": "markdown",
   "id": "daadf717",
   "metadata": {
    "papermill": {
     "duration": 0.105402,
     "end_time": "2021-11-03T17:30:02.537802",
     "exception": false,
     "start_time": "2021-11-03T17:30:02.432400",
     "status": "completed"
    },
    "tags": []
   },
   "source": [
    "# 5.0 Data Preparation"
   ]
  },
  {
   "cell_type": "code",
   "execution_count": 42,
   "id": "4fe9367d",
   "metadata": {
    "ExecuteTime": {
     "end_time": "2021-11-03T12:58:40.363447Z",
     "start_time": "2021-11-03T12:58:40.358826Z"
    },
    "execution": {
     "iopub.execute_input": "2021-11-03T17:30:02.753142Z",
     "iopub.status.busy": "2021-11-03T17:30:02.750865Z",
     "iopub.status.idle": "2021-11-03T17:30:02.755454Z",
     "shell.execute_reply": "2021-11-03T17:30:02.756252Z"
    },
    "papermill": {
     "duration": 0.121254,
     "end_time": "2021-11-03T17:30:02.756478",
     "exception": false,
     "start_time": "2021-11-03T17:30:02.635224",
     "status": "completed"
    },
    "tags": []
   },
   "outputs": [],
   "source": [
    "df5 = df_tree.copy( )"
   ]
  },
  {
   "cell_type": "code",
   "execution_count": 43,
   "id": "31a775eb",
   "metadata": {
    "ExecuteTime": {
     "end_time": "2021-11-03T12:58:40.519503Z",
     "start_time": "2021-11-03T12:58:40.365162Z"
    },
    "execution": {
     "iopub.execute_input": "2021-11-03T17:30:02.964357Z",
     "iopub.status.busy": "2021-11-03T17:30:02.963621Z",
     "iopub.status.idle": "2021-11-03T17:30:02.996922Z",
     "shell.execute_reply": "2021-11-03T17:30:02.996203Z"
    },
    "papermill": {
     "duration": 0.135858,
     "end_time": "2021-11-03T17:30:02.997091",
     "exception": false,
     "start_time": "2021-11-03T17:30:02.861233",
     "status": "completed"
    },
    "tags": []
   },
   "outputs": [],
   "source": [
    "df5.to_csv(path+'src/data/tree_based_embedding.csv')"
   ]
  },
  {
   "cell_type": "markdown",
   "id": "e3efa2d2",
   "metadata": {
    "papermill": {
     "duration": 0.099379,
     "end_time": "2021-11-03T17:30:03.198862",
     "exception": false,
     "start_time": "2021-11-03T17:30:03.099483",
     "status": "completed"
    },
    "tags": []
   },
   "source": [
    "# 7.0. Hyperparameter Fine-tuning"
   ]
  },
  {
   "cell_type": "code",
   "execution_count": 44,
   "id": "d6147c6b",
   "metadata": {
    "ExecuteTime": {
     "end_time": "2021-11-03T12:58:40.589181Z",
     "start_time": "2021-11-03T12:58:40.523096Z"
    },
    "execution": {
     "iopub.execute_input": "2021-11-03T17:30:03.405867Z",
     "iopub.status.busy": "2021-11-03T17:30:03.404945Z",
     "iopub.status.idle": "2021-11-03T17:30:03.407592Z",
     "shell.execute_reply": "2021-11-03T17:30:03.408358Z"
    },
    "papermill": {
     "duration": 0.112614,
     "end_time": "2021-11-03T17:30:03.408649",
     "exception": false,
     "start_time": "2021-11-03T17:30:03.296035",
     "status": "completed"
    },
    "tags": []
   },
   "outputs": [],
   "source": [
    "X = df_tree.copy()"
   ]
  },
  {
   "cell_type": "code",
   "execution_count": 45,
   "id": "78ce4064",
   "metadata": {
    "ExecuteTime": {
     "end_time": "2021-11-03T12:58:40.674530Z",
     "start_time": "2021-11-03T12:58:40.591406Z"
    },
    "execution": {
     "iopub.execute_input": "2021-11-03T17:30:03.610448Z",
     "iopub.status.busy": "2021-11-03T17:30:03.609339Z",
     "iopub.status.idle": "2021-11-03T17:30:03.613146Z",
     "shell.execute_reply": "2021-11-03T17:30:03.613919Z"
    },
    "papermill": {
     "duration": 0.108991,
     "end_time": "2021-11-03T17:30:03.614081",
     "exception": false,
     "start_time": "2021-11-03T17:30:03.505090",
     "status": "completed"
    },
    "tags": []
   },
   "outputs": [
    {
     "data": {
      "text/html": [
       "<div>\n",
       "<style scoped>\n",
       "    .dataframe tbody tr th:only-of-type {\n",
       "        vertical-align: middle;\n",
       "    }\n",
       "\n",
       "    .dataframe tbody tr th {\n",
       "        vertical-align: top;\n",
       "    }\n",
       "\n",
       "    .dataframe thead th {\n",
       "        text-align: right;\n",
       "    }\n",
       "</style>\n",
       "<table border=\"1\" class=\"dataframe\">\n",
       "  <thead>\n",
       "    <tr style=\"text-align: right;\">\n",
       "      <th></th>\n",
       "      <th>embedding_x</th>\n",
       "      <th>embedding_y</th>\n",
       "    </tr>\n",
       "  </thead>\n",
       "  <tbody>\n",
       "    <tr>\n",
       "      <th>0</th>\n",
       "      <td>8.065233</td>\n",
       "      <td>-6.196950</td>\n",
       "    </tr>\n",
       "    <tr>\n",
       "      <th>1</th>\n",
       "      <td>10.827569</td>\n",
       "      <td>-2.550333</td>\n",
       "    </tr>\n",
       "    <tr>\n",
       "      <th>2</th>\n",
       "      <td>8.319387</td>\n",
       "      <td>-5.599104</td>\n",
       "    </tr>\n",
       "    <tr>\n",
       "      <th>3</th>\n",
       "      <td>-2.007851</td>\n",
       "      <td>12.433291</td>\n",
       "    </tr>\n",
       "    <tr>\n",
       "      <th>4</th>\n",
       "      <td>6.869921</td>\n",
       "      <td>26.271196</td>\n",
       "    </tr>\n",
       "  </tbody>\n",
       "</table>\n",
       "</div>"
      ],
      "text/plain": [
       "   embedding_x  embedding_y\n",
       "0     8.065233    -6.196950\n",
       "1    10.827569    -2.550333\n",
       "2     8.319387    -5.599104\n",
       "3    -2.007851    12.433291\n",
       "4     6.869921    26.271196"
      ]
     },
     "execution_count": 45,
     "metadata": {},
     "output_type": "execute_result"
    }
   ],
   "source": [
    "X.head()"
   ]
  },
  {
   "cell_type": "markdown",
   "id": "08f65244",
   "metadata": {
    "papermill": {
     "duration": 0.107795,
     "end_time": "2021-11-03T17:30:03.822100",
     "exception": false,
     "start_time": "2021-11-03T17:30:03.714305",
     "status": "completed"
    },
    "tags": []
   },
   "source": [
    "# 8.0. Model Training"
   ]
  },
  {
   "cell_type": "markdown",
   "id": "6e39e2e9",
   "metadata": {
    "papermill": {
     "duration": 0.092983,
     "end_time": "2021-11-03T17:30:04.011517",
     "exception": false,
     "start_time": "2021-11-03T17:30:03.918534",
     "status": "completed"
    },
    "tags": []
   },
   "source": [
    "## 8.1. Final Model"
   ]
  },
  {
   "cell_type": "code",
   "execution_count": 46,
   "id": "afb5fff7",
   "metadata": {
    "ExecuteTime": {
     "end_time": "2021-11-03T12:59:30.274864Z",
     "start_time": "2021-11-03T12:58:40.677657Z"
    },
    "execution": {
     "iopub.execute_input": "2021-11-03T17:30:04.205927Z",
     "iopub.status.busy": "2021-11-03T17:30:04.204552Z",
     "iopub.status.idle": "2021-11-03T17:30:59.518692Z",
     "shell.execute_reply": "2021-11-03T17:30:59.518052Z"
    },
    "papermill": {
     "duration": 55.415136,
     "end_time": "2021-11-03T17:30:59.518849",
     "exception": false,
     "start_time": "2021-11-03T17:30:04.103713",
     "status": "completed"
    },
    "tags": []
   },
   "outputs": [],
   "source": [
    "# Model Definition\n",
    "k = 8\n",
    "gmm_model = mx.GaussianMixture ( n_components = k, n_init = 300, random_state = 32)\n",
    "# Model Training\n",
    "gmm_model.fit(X)\n",
    "\n",
    "# Clustering\n",
    "labels  = gmm_model.predict( X )\n"
   ]
  },
  {
   "cell_type": "markdown",
   "id": "d6c75753",
   "metadata": {
    "papermill": {
     "duration": 0.087715,
     "end_time": "2021-11-03T17:30:59.696557",
     "exception": false,
     "start_time": "2021-11-03T17:30:59.608842",
     "status": "completed"
    },
    "tags": []
   },
   "source": [
    "## 8.2. Cluster Validation"
   ]
  },
  {
   "cell_type": "code",
   "execution_count": 47,
   "id": "1c6f00fa",
   "metadata": {
    "ExecuteTime": {
     "end_time": "2021-11-03T12:59:31.024132Z",
     "start_time": "2021-11-03T12:59:30.276595Z"
    },
    "execution": {
     "iopub.execute_input": "2021-11-03T17:30:59.881209Z",
     "iopub.status.busy": "2021-11-03T17:30:59.880597Z",
     "iopub.status.idle": "2021-11-03T17:31:00.612568Z",
     "shell.execute_reply": "2021-11-03T17:31:00.613173Z"
    },
    "papermill": {
     "duration": 0.826965,
     "end_time": "2021-11-03T17:31:00.613352",
     "exception": false,
     "start_time": "2021-11-03T17:30:59.786387",
     "status": "completed"
    },
    "tags": []
   },
   "outputs": [
    {
     "name": "stdout",
     "output_type": "stream",
     "text": [
      "SS value: 0.29330870509147644\n"
     ]
    }
   ],
   "source": [
    "## WSS ( Within-cluster sum of square)\n",
    "#print( 'WSS value: {}'.format( kmeans.inertia_ ) )\n",
    "\n",
    "## SS ( Silhouette Score )\n",
    "print( 'SS value: {}'.format( m.silhouette_score( X, labels, metric='euclidean' ) ) )"
   ]
  },
  {
   "cell_type": "markdown",
   "id": "fb0ac309",
   "metadata": {
    "papermill": {
     "duration": 0.087357,
     "end_time": "2021-11-03T17:31:00.793606",
     "exception": false,
     "start_time": "2021-11-03T17:31:00.706249",
     "status": "completed"
    },
    "tags": []
   },
   "source": [
    "# 9.0. Cluster Analysis"
   ]
  },
  {
   "cell_type": "code",
   "execution_count": 48,
   "id": "61d72184",
   "metadata": {
    "ExecuteTime": {
     "end_time": "2021-11-03T12:59:31.038035Z",
     "start_time": "2021-11-03T12:59:31.026547Z"
    },
    "execution": {
     "iopub.execute_input": "2021-11-03T17:31:00.981201Z",
     "iopub.status.busy": "2021-11-03T17:31:00.980285Z",
     "iopub.status.idle": "2021-11-03T17:31:00.989596Z",
     "shell.execute_reply": "2021-11-03T17:31:00.988420Z"
    },
    "papermill": {
     "duration": 0.107961,
     "end_time": "2021-11-03T17:31:00.989805",
     "exception": false,
     "start_time": "2021-11-03T17:31:00.881844",
     "status": "completed"
    },
    "tags": []
   },
   "outputs": [],
   "source": [
    "df92 = df4[cols_selected].copy()\n",
    "df92['cluster'] = labels\n",
    "\n",
    "\n",
    "# change dtypes\n",
    "df92['recency_days'] = df92['recency_days'].astype( int )\n",
    "df92['qtde_products'] = df92['qtde_products'].astype( int )\n",
    "df92['qtde_returns'] = df92['qtde_returns'].astype( int )\n",
    "\n",
    "from datetime import datetime\n",
    "\n",
    "#df92['last_training_timestamp'] = datetime.now().strftime( '%Y-%m-%d %H:%M:%S')"
   ]
  },
  {
   "cell_type": "code",
   "execution_count": 49,
   "id": "f36a4db3",
   "metadata": {
    "ExecuteTime": {
     "end_time": "2021-11-03T12:59:31.150370Z",
     "start_time": "2021-11-03T12:59:31.041526Z"
    },
    "execution": {
     "iopub.execute_input": "2021-11-03T17:31:01.182208Z",
     "iopub.status.busy": "2021-11-03T17:31:01.181322Z",
     "iopub.status.idle": "2021-11-03T17:31:01.229611Z",
     "shell.execute_reply": "2021-11-03T17:31:01.229079Z"
    },
    "papermill": {
     "duration": 0.147393,
     "end_time": "2021-11-03T17:31:01.229742",
     "exception": false,
     "start_time": "2021-11-03T17:31:01.082349",
     "status": "completed"
    },
    "scrolled": false,
    "tags": []
   },
   "outputs": [
    {
     "data": {
      "text/html": [
       "<div>\n",
       "<style scoped>\n",
       "    .dataframe tbody tr th:only-of-type {\n",
       "        vertical-align: middle;\n",
       "    }\n",
       "\n",
       "    .dataframe tbody tr th {\n",
       "        vertical-align: top;\n",
       "    }\n",
       "\n",
       "    .dataframe thead th {\n",
       "        text-align: right;\n",
       "    }\n",
       "</style>\n",
       "<table border=\"1\" class=\"dataframe\">\n",
       "  <thead>\n",
       "    <tr style=\"text-align: right;\">\n",
       "      <th></th>\n",
       "      <th>cluster</th>\n",
       "      <th>customer_id</th>\n",
       "      <th>perc_customer</th>\n",
       "      <th>gross_revenue</th>\n",
       "      <th>recency_days</th>\n",
       "      <th>qtde_products</th>\n",
       "      <th>frequency</th>\n",
       "      <th>qtde_returns</th>\n",
       "    </tr>\n",
       "  </thead>\n",
       "  <tbody>\n",
       "    <tr>\n",
       "      <th>2</th>\n",
       "      <td>2</td>\n",
       "      <td>956</td>\n",
       "      <td>16.786655</td>\n",
       "      <td>5907.257552</td>\n",
       "      <td>60.316946</td>\n",
       "      <td>317.376569</td>\n",
       "      <td>0.282462</td>\n",
       "      <td>161.792887</td>\n",
       "    </tr>\n",
       "    <tr>\n",
       "      <th>6</th>\n",
       "      <td>6</td>\n",
       "      <td>1380</td>\n",
       "      <td>24.231782</td>\n",
       "      <td>1807.489312</td>\n",
       "      <td>114.607246</td>\n",
       "      <td>96.245652</td>\n",
       "      <td>0.574754</td>\n",
       "      <td>4.694928</td>\n",
       "    </tr>\n",
       "    <tr>\n",
       "      <th>1</th>\n",
       "      <td>1</td>\n",
       "      <td>282</td>\n",
       "      <td>4.951712</td>\n",
       "      <td>1170.371064</td>\n",
       "      <td>61.496454</td>\n",
       "      <td>56.124113</td>\n",
       "      <td>0.027563</td>\n",
       "      <td>10.106383</td>\n",
       "    </tr>\n",
       "    <tr>\n",
       "      <th>3</th>\n",
       "      <td>3</td>\n",
       "      <td>324</td>\n",
       "      <td>5.689201</td>\n",
       "      <td>804.382994</td>\n",
       "      <td>88.027778</td>\n",
       "      <td>30.320988</td>\n",
       "      <td>0.237213</td>\n",
       "      <td>4.466049</td>\n",
       "    </tr>\n",
       "    <tr>\n",
       "      <th>0</th>\n",
       "      <td>0</td>\n",
       "      <td>271</td>\n",
       "      <td>4.758560</td>\n",
       "      <td>647.048967</td>\n",
       "      <td>50.110701</td>\n",
       "      <td>14.516605</td>\n",
       "      <td>0.024271</td>\n",
       "      <td>1.025830</td>\n",
       "    </tr>\n",
       "    <tr>\n",
       "      <th>5</th>\n",
       "      <td>5</td>\n",
       "      <td>795</td>\n",
       "      <td>13.959614</td>\n",
       "      <td>638.717195</td>\n",
       "      <td>116.748428</td>\n",
       "      <td>35.982390</td>\n",
       "      <td>0.607577</td>\n",
       "      <td>6.622642</td>\n",
       "    </tr>\n",
       "    <tr>\n",
       "      <th>7</th>\n",
       "      <td>7</td>\n",
       "      <td>880</td>\n",
       "      <td>15.452151</td>\n",
       "      <td>482.162602</td>\n",
       "      <td>166.701136</td>\n",
       "      <td>22.654545</td>\n",
       "      <td>0.842358</td>\n",
       "      <td>4.735227</td>\n",
       "    </tr>\n",
       "    <tr>\n",
       "      <th>4</th>\n",
       "      <td>4</td>\n",
       "      <td>807</td>\n",
       "      <td>14.170325</td>\n",
       "      <td>328.237447</td>\n",
       "      <td>187.270136</td>\n",
       "      <td>16.175960</td>\n",
       "      <td>0.914689</td>\n",
       "      <td>3.609665</td>\n",
       "    </tr>\n",
       "  </tbody>\n",
       "</table>\n",
       "</div>"
      ],
      "text/plain": [
       "   cluster  customer_id  perc_customer  gross_revenue  recency_days  \\\n",
       "2        2          956      16.786655    5907.257552     60.316946   \n",
       "6        6         1380      24.231782    1807.489312    114.607246   \n",
       "1        1          282       4.951712    1170.371064     61.496454   \n",
       "3        3          324       5.689201     804.382994     88.027778   \n",
       "0        0          271       4.758560     647.048967     50.110701   \n",
       "5        5          795      13.959614     638.717195    116.748428   \n",
       "7        7          880      15.452151     482.162602    166.701136   \n",
       "4        4          807      14.170325     328.237447    187.270136   \n",
       "\n",
       "   qtde_products  frequency  qtde_returns  \n",
       "2     317.376569   0.282462    161.792887  \n",
       "6      96.245652   0.574754      4.694928  \n",
       "1      56.124113   0.027563     10.106383  \n",
       "3      30.320988   0.237213      4.466049  \n",
       "0      14.516605   0.024271      1.025830  \n",
       "5      35.982390   0.607577      6.622642  \n",
       "7      22.654545   0.842358      4.735227  \n",
       "4      16.175960   0.914689      3.609665  "
      ]
     },
     "execution_count": 49,
     "metadata": {},
     "output_type": "execute_result"
    }
   ],
   "source": [
    "# Number of customer\n",
    "df_cluster = df92[['customer_id','cluster']].groupby( 'cluster' ).count().reset_index()\n",
    "df_cluster['perc_customer'] = 100*(df_cluster['customer_id']/df_cluster['customer_id'].sum())\n",
    "\n",
    "# Average gross revenue\n",
    "df_avg_gross_revenue = df92[['gross_revenue', 'cluster']].groupby('cluster').mean().reset_index()\n",
    "df_cluster = pd.merge( df_cluster, df_avg_gross_revenue, how = 'inner', on = 'cluster')\n",
    "\n",
    "# Average recency days\n",
    "df_avg_recency_days = df92[['recency_days', 'cluster']].groupby('cluster').mean().reset_index()\n",
    "df_cluster = pd.merge( df_cluster, df_avg_recency_days, how = 'inner', on = 'cluster')\n",
    "\n",
    "# Quantidade de produtos\n",
    "df_qtde_products = df92[['qtde_products', 'cluster']].groupby('cluster').mean().reset_index()\n",
    "df_cluster = pd.merge( df_cluster, df_qtde_products, how = 'inner', on = 'cluster')\n",
    "\n",
    "# Frequency\n",
    "df_frequency = df92[['frequency', 'cluster']].groupby('cluster').mean().reset_index()\n",
    "df_cluster = pd.merge( df_cluster, df_frequency, how = 'inner', on = 'cluster')\n",
    "\n",
    "\n",
    "# returns\n",
    "df_qtde_returns = df92[['qtde_returns', 'cluster']].groupby('cluster').mean().reset_index()\n",
    "df_cluster = pd.merge( df_cluster, df_qtde_returns, how = 'inner', on = 'cluster')\n",
    "\n",
    "\n",
    "df_cluster.sort_values( 'gross_revenue', ascending = False)"
   ]
  },
  {
   "cell_type": "markdown",
   "id": "77b55e2b",
   "metadata": {
    "ExecuteTime": {
     "end_time": "2021-10-30T12:01:25.941640Z",
     "start_time": "2021-10-30T12:01:25.812234Z"
    },
    "papermill": {
     "duration": 0.090757,
     "end_time": "2021-11-03T17:31:01.409082",
     "exception": false,
     "start_time": "2021-11-03T17:31:01.318325",
     "status": "completed"
    },
    "tags": []
   },
   "source": [
    "02 Cluster Insiders\n",
    "\n",
    "06 Cluster More Products\n",
    "\n",
    "01 Cluster Spend Money\n",
    "\n",
    "03 Cluster Even More Products\n",
    "\n",
    "00 Cluster Less Days\n",
    "\n",
    "05 Cluster 1K\n",
    "\n",
    "07 Cluster Stop Returnres\n",
    "\n",
    "04 Cluster More Buy"
   ]
  },
  {
   "cell_type": "markdown",
   "id": "31f59a01",
   "metadata": {
    "papermill": {
     "duration": 0.09114,
     "end_time": "2021-11-03T17:31:01.592432",
     "exception": false,
     "start_time": "2021-11-03T17:31:01.501292",
     "status": "completed"
    },
    "tags": []
   },
   "source": [
    "### Cluster 01:  ( Candidato a Insider )\n",
    " \n",
    "- Número de customers: 468 (16% do customers )\n",
    "- Faturamento médio: 8836\n",
    "- Recência média: 21 dias\n",
    "- Média de Produtos comprados: 424 produtos\n",
    "- Frequência de Produtos comprados: 0.09 produtos/dia\n",
    "- Receita em média: $8836.13,00 dólares\n",
    " \n",
    "### Cluster 02:  \n",
    " \n",
    " - Número de customer: 31 (0.7% dos customers)\n",
    " - Recência em média: 14 dias\n",
    " - Compras em média: 53 compras\n",
    " - Receita em média: $ 40.543,00.\n",
    " \n",
    " ### Cluster 03: \n",
    " \n",
    " - Número de customer: 4.335 (99% dos customers)\n",
    " - Recência em média: 92 dias\n",
    " - Compras em média: 05 compras\n",
    " - Receita em média: $ 1.372,57."
   ]
  },
  {
   "cell_type": "markdown",
   "id": "1fb0cf5f",
   "metadata": {
    "papermill": {
     "duration": 0.089463,
     "end_time": "2021-11-03T17:31:01.770549",
     "exception": false,
     "start_time": "2021-11-03T17:31:01.681086",
     "status": "completed"
    },
    "tags": []
   },
   "source": [
    "# 11.0. Deploy to Production"
   ]
  },
  {
   "cell_type": "code",
   "execution_count": 50,
   "id": "52bc4aaa",
   "metadata": {
    "ExecuteTime": {
     "end_time": "2021-11-03T12:59:31.324813Z",
     "start_time": "2021-11-03T12:59:31.152419Z"
    },
    "execution": {
     "iopub.execute_input": "2021-11-03T17:31:01.955254Z",
     "iopub.status.busy": "2021-11-03T17:31:01.954710Z",
     "iopub.status.idle": "2021-11-03T17:31:02.070314Z",
     "shell.execute_reply": "2021-11-03T17:31:02.070778Z"
    },
    "papermill": {
     "duration": 0.211127,
     "end_time": "2021-11-03T17:31:02.070924",
     "exception": false,
     "start_time": "2021-11-03T17:31:01.859797",
     "status": "completed"
    },
    "tags": []
   },
   "outputs": [],
   "source": [
    "import sqlite3\n",
    "from sqlalchemy import create_engine\n"
   ]
  },
  {
   "cell_type": "code",
   "execution_count": 51,
   "id": "a71663c7",
   "metadata": {
    "ExecuteTime": {
     "end_time": "2021-11-03T12:59:31.346056Z",
     "start_time": "2021-11-03T12:59:31.326962Z"
    },
    "execution": {
     "iopub.execute_input": "2021-11-03T17:31:02.261709Z",
     "iopub.status.busy": "2021-11-03T17:31:02.261027Z",
     "iopub.status.idle": "2021-11-03T17:31:02.265570Z",
     "shell.execute_reply": "2021-11-03T17:31:02.264999Z"
    },
    "papermill": {
     "duration": 0.10592,
     "end_time": "2021-11-03T17:31:02.265732",
     "exception": false,
     "start_time": "2021-11-03T17:31:02.159812",
     "status": "completed"
    },
    "tags": []
   },
   "outputs": [
    {
     "data": {
      "text/html": [
       "<div>\n",
       "<style scoped>\n",
       "    .dataframe tbody tr th:only-of-type {\n",
       "        vertical-align: middle;\n",
       "    }\n",
       "\n",
       "    .dataframe tbody tr th {\n",
       "        vertical-align: top;\n",
       "    }\n",
       "\n",
       "    .dataframe thead th {\n",
       "        text-align: right;\n",
       "    }\n",
       "</style>\n",
       "<table border=\"1\" class=\"dataframe\">\n",
       "  <thead>\n",
       "    <tr style=\"text-align: right;\">\n",
       "      <th></th>\n",
       "      <th>customer_id</th>\n",
       "      <th>gross_revenue</th>\n",
       "      <th>recency_days</th>\n",
       "      <th>qtde_products</th>\n",
       "      <th>frequency</th>\n",
       "      <th>qtde_returns</th>\n",
       "      <th>cluster</th>\n",
       "    </tr>\n",
       "  </thead>\n",
       "  <tbody>\n",
       "    <tr>\n",
       "      <th>0</th>\n",
       "      <td>17850</td>\n",
       "      <td>5391.21</td>\n",
       "      <td>372</td>\n",
       "      <td>297</td>\n",
       "      <td>17.000000</td>\n",
       "      <td>40</td>\n",
       "      <td>2</td>\n",
       "    </tr>\n",
       "    <tr>\n",
       "      <th>1</th>\n",
       "      <td>13047</td>\n",
       "      <td>3232.59</td>\n",
       "      <td>56</td>\n",
       "      <td>171</td>\n",
       "      <td>0.028302</td>\n",
       "      <td>35</td>\n",
       "      <td>2</td>\n",
       "    </tr>\n",
       "    <tr>\n",
       "      <th>2</th>\n",
       "      <td>12583</td>\n",
       "      <td>6705.38</td>\n",
       "      <td>2</td>\n",
       "      <td>232</td>\n",
       "      <td>0.040323</td>\n",
       "      <td>50</td>\n",
       "      <td>2</td>\n",
       "    </tr>\n",
       "    <tr>\n",
       "      <th>3</th>\n",
       "      <td>13748</td>\n",
       "      <td>948.25</td>\n",
       "      <td>95</td>\n",
       "      <td>28</td>\n",
       "      <td>0.017921</td>\n",
       "      <td>0</td>\n",
       "      <td>5</td>\n",
       "    </tr>\n",
       "    <tr>\n",
       "      <th>4</th>\n",
       "      <td>15100</td>\n",
       "      <td>876.00</td>\n",
       "      <td>333</td>\n",
       "      <td>3</td>\n",
       "      <td>0.073171</td>\n",
       "      <td>22</td>\n",
       "      <td>7</td>\n",
       "    </tr>\n",
       "  </tbody>\n",
       "</table>\n",
       "</div>"
      ],
      "text/plain": [
       "   customer_id  gross_revenue  recency_days  qtde_products  frequency  \\\n",
       "0        17850        5391.21           372            297  17.000000   \n",
       "1        13047        3232.59            56            171   0.028302   \n",
       "2        12583        6705.38             2            232   0.040323   \n",
       "3        13748         948.25            95             28   0.017921   \n",
       "4        15100         876.00           333              3   0.073171   \n",
       "\n",
       "   qtde_returns  cluster  \n",
       "0            40        2  \n",
       "1            35        2  \n",
       "2            50        2  \n",
       "3             0        5  \n",
       "4            22        7  "
      ]
     },
     "execution_count": 51,
     "metadata": {},
     "output_type": "execute_result"
    }
   ],
   "source": [
    "df92.head()"
   ]
  },
  {
   "cell_type": "code",
   "execution_count": 52,
   "id": "27dd32e0",
   "metadata": {
    "ExecuteTime": {
     "end_time": "2021-11-03T12:59:31.602523Z",
     "start_time": "2021-11-03T12:59:31.348575Z"
    },
    "execution": {
     "iopub.execute_input": "2021-11-03T17:31:02.457716Z",
     "iopub.status.busy": "2021-11-03T17:31:02.456862Z",
     "iopub.status.idle": "2021-11-03T17:31:02.660316Z",
     "shell.execute_reply": "2021-11-03T17:31:02.661004Z"
    },
    "papermill": {
     "duration": 0.30304,
     "end_time": "2021-11-03T17:31:02.661208",
     "exception": false,
     "start_time": "2021-11-03T17:31:02.358168",
     "status": "completed"
    },
    "tags": []
   },
   "outputs": [],
   "source": [
    "# # create table\n",
    "# query_create_table_insiders = \"\"\"\n",
    "#    CREATE TABLE insiders ( \n",
    "#        customer_id     INTEGER,\n",
    "#        gross_revenue   REAL,\n",
    "#        recency_days    INTEGER,    \n",
    "#        qtde_products   INTEGER,\n",
    "#        frequency       REAL,\n",
    "#        qtde_returns    INTEGER,\n",
    "#        cluster         INTEGER\n",
    "#    )\n",
    "# \"\"\"\n",
    "\n",
    "\n",
    "# conn = sqlite3.connect( 'insiders_db.sqlite' )\n",
    "# conn.execute( query_create_table_insiders )\n",
    "# conn.commit()\n",
    "# conn.close()\n",
    "\n",
    "# Insert Data\n",
    "conn = create_engine( 'sqlite:///insiders_db.sqlite')\n",
    "df92.to_sql( 'insiders', con = conn, if_exists= 'append', index = False)\n",
    "\n",
    "\n",
    "# Select Data"
   ]
  },
  {
   "cell_type": "code",
   "execution_count": 53,
   "id": "5a70185d",
   "metadata": {
    "ExecuteTime": {
     "end_time": "2021-11-03T12:59:31.774644Z",
     "start_time": "2021-11-03T12:59:31.605878Z"
    },
    "execution": {
     "iopub.execute_input": "2021-11-03T17:31:02.855364Z",
     "iopub.status.busy": "2021-11-03T17:31:02.854594Z",
     "iopub.status.idle": "2021-11-03T17:31:02.857924Z",
     "shell.execute_reply": "2021-11-03T17:31:02.858354Z"
    },
    "papermill": {
     "duration": 0.100929,
     "end_time": "2021-11-03T17:31:02.858534",
     "exception": false,
     "start_time": "2021-11-03T17:31:02.757605",
     "status": "completed"
    },
    "tags": []
   },
   "outputs": [],
   "source": [
    "# # get query\n",
    "# query = \"\"\"\n",
    "#         SELECT * FROM insiders\n",
    "# \"\"\"\n",
    "\n",
    "# df = pd.read_sql_query( query, conn)\n",
    "# df.head()"
   ]
  },
  {
   "cell_type": "code",
   "execution_count": null,
   "id": "77f685a3",
   "metadata": {
    "papermill": {
     "duration": 0.089088,
     "end_time": "2021-11-03T17:31:03.042113",
     "exception": false,
     "start_time": "2021-11-03T17:31:02.953025",
     "status": "completed"
    },
    "tags": []
   },
   "outputs": [],
   "source": []
  }
 ],
 "metadata": {
  "kernelspec": {
   "display_name": "Python 3 (ipykernel)",
   "language": "python",
   "name": "python3"
  },
  "language_info": {
   "codemirror_mode": {
    "name": "ipython",
    "version": 3
   },
   "file_extension": ".py",
   "mimetype": "text/x-python",
   "name": "python",
   "nbconvert_exporter": "python",
   "pygments_lexer": "ipython3",
   "version": "3.8.10"
  },
  "notify_time": "5",
  "papermill": {
   "default_parameters": {},
   "duration": 119.231918,
   "end_time": "2021-11-03T17:31:04.046150",
   "environment_variables": {},
   "exception": null,
   "input_path": "/home/leandro/repos/insiders_clustering/src/models/C11-lsf-Deploy.ipynb",
   "output_path": "/home/leandro/repos/insiders_clustering/reports/C11-lsf-Deploy_2021-11-03T14:29:04.ipynb",
   "parameters": {},
   "start_time": "2021-11-03T17:29:04.814232",
   "version": "2.3.3"
  },
  "toc": {
   "base_numbering": 1,
   "nav_menu": {},
   "number_sections": false,
   "sideBar": true,
   "skip_h1_title": false,
   "title_cell": "Table of Contents",
   "title_sidebar": "Contents",
   "toc_cell": false,
   "toc_position": {
    "height": "calc(100% - 180px)",
    "left": "10px",
    "top": "150px",
    "width": "253.675px"
   },
   "toc_section_display": true,
   "toc_window_display": false
  }
 },
 "nbformat": 4,
 "nbformat_minor": 5
}